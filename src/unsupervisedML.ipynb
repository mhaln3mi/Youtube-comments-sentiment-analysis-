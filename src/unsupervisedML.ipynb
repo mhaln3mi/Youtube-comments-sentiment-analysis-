{
 "cells": [
  {
   "cell_type": "markdown",
   "metadata": {},
   "source": [
    "### Importing libraries "
   ]
  },
  {
   "cell_type": "code",
   "execution_count": 127,
   "metadata": {},
   "outputs": [],
   "source": [
    "import pandas as pd\n",
    "import seaborn as sns\n",
    "import numpy as np\n",
    "from dateutil import parser\n",
    "import matplotlib.pyplot as plt"
   ]
  },
  {
   "cell_type": "markdown",
   "metadata": {},
   "source": [
    "### Importing Data"
   ]
  },
  {
   "cell_type": "code",
   "execution_count": 128,
   "metadata": {},
   "outputs": [],
   "source": [
    "# df = pd.read_csv('../data/ytdataframe.csv')\n",
    "\n",
    "df = pd.read_csv('../data/ytunlabeled2.csv')\n",
    "dff = pd.read_csv('../data/ytdataframe.csv')"
   ]
  },
  {
   "cell_type": "code",
   "execution_count": 129,
   "metadata": {},
   "outputs": [
    {
     "data": {
      "text/html": [
       "<div>\n",
       "<style scoped>\n",
       "    .dataframe tbody tr th:only-of-type {\n",
       "        vertical-align: middle;\n",
       "    }\n",
       "\n",
       "    .dataframe tbody tr th {\n",
       "        vertical-align: top;\n",
       "    }\n",
       "\n",
       "    .dataframe thead th {\n",
       "        text-align: right;\n",
       "    }\n",
       "</style>\n",
       "<table border=\"1\" class=\"dataframe\">\n",
       "  <thead>\n",
       "    <tr style=\"text-align: right;\">\n",
       "      <th></th>\n",
       "      <th>video_id</th>\n",
       "      <th>avg polarity score</th>\n",
       "      <th>channelTitle</th>\n",
       "      <th>title</th>\n",
       "      <th>description</th>\n",
       "      <th>tags</th>\n",
       "      <th>publishedAt</th>\n",
       "      <th>viewCount</th>\n",
       "      <th>likeCount</th>\n",
       "      <th>favouriteCount</th>\n",
       "      <th>commentCount</th>\n",
       "      <th>duration</th>\n",
       "      <th>definition</th>\n",
       "      <th>caption</th>\n",
       "      <th>subscribers</th>\n",
       "      <th>totalViews</th>\n",
       "      <th>totalVideos</th>\n",
       "    </tr>\n",
       "  </thead>\n",
       "  <tbody>\n",
       "    <tr>\n",
       "      <th>0</th>\n",
       "      <td>jGwO_UgTS7I</td>\n",
       "      <td>0.277473</td>\n",
       "      <td>Stanford Online</td>\n",
       "      <td>Stanford CS229: Machine Learning Course, Lectu...</td>\n",
       "      <td>For more information about Stanford’s Artifici...</td>\n",
       "      <td>['Andrew Ng', 'Computer Science', 'Stanford', ...</td>\n",
       "      <td>2020-04-17T20:07:45Z</td>\n",
       "      <td>1410150</td>\n",
       "      <td>18797</td>\n",
       "      <td>NaN</td>\n",
       "      <td>76</td>\n",
       "      <td>PT1H15M20S</td>\n",
       "      <td>hd</td>\n",
       "      <td>True</td>\n",
       "      <td>369000</td>\n",
       "      <td>20517888</td>\n",
       "      <td>1850</td>\n",
       "    </tr>\n",
       "  </tbody>\n",
       "</table>\n",
       "</div>"
      ],
      "text/plain": [
       "      video_id  avg polarity score     channelTitle  \\\n",
       "0  jGwO_UgTS7I            0.277473  Stanford Online   \n",
       "\n",
       "                                               title  \\\n",
       "0  Stanford CS229: Machine Learning Course, Lectu...   \n",
       "\n",
       "                                         description  \\\n",
       "0  For more information about Stanford’s Artifici...   \n",
       "\n",
       "                                                tags           publishedAt  \\\n",
       "0  ['Andrew Ng', 'Computer Science', 'Stanford', ...  2020-04-17T20:07:45Z   \n",
       "\n",
       "   viewCount  likeCount  favouriteCount  commentCount    duration definition  \\\n",
       "0    1410150      18797             NaN            76  PT1H15M20S         hd   \n",
       "\n",
       "   caption  subscribers  totalViews  totalVideos  \n",
       "0     True       369000    20517888         1850  "
      ]
     },
     "execution_count": 129,
     "metadata": {},
     "output_type": "execute_result"
    }
   ],
   "source": [
    "df = df.drop(['Unnamed: 0.1', 'Unnamed: 0', 'Unnamed: 0.5','Unnamed: 0.4','Unnamed: 0.3','Unnamed: 0.2'], axis=1)\n",
    "\n",
    "df.head(1)"
   ]
  },
  {
   "cell_type": "code",
   "execution_count": 130,
   "metadata": {},
   "outputs": [
    {
     "name": "stdout",
     "output_type": "stream",
     "text": [
      "<class 'pandas.core.frame.DataFrame'>\n",
      "RangeIndex: 565 entries, 0 to 564\n",
      "Data columns (total 17 columns):\n",
      " #   Column              Non-Null Count  Dtype  \n",
      "---  ------              --------------  -----  \n",
      " 0   video_id            565 non-null    object \n",
      " 1   avg polarity score  565 non-null    float64\n",
      " 2   channelTitle        565 non-null    object \n",
      " 3   title               565 non-null    object \n",
      " 4   description         536 non-null    object \n",
      " 5   tags                507 non-null    object \n",
      " 6   publishedAt         565 non-null    object \n",
      " 7   viewCount           565 non-null    int64  \n",
      " 8   likeCount           565 non-null    int64  \n",
      " 9   favouriteCount      0 non-null      float64\n",
      " 10  commentCount        565 non-null    int64  \n",
      " 11  duration            565 non-null    object \n",
      " 12  definition          565 non-null    object \n",
      " 13  caption             565 non-null    bool   \n",
      " 14  subscribers         565 non-null    int64  \n",
      " 15  totalViews          565 non-null    int64  \n",
      " 16  totalVideos         565 non-null    int64  \n",
      "dtypes: bool(1), float64(2), int64(6), object(8)\n",
      "memory usage: 71.3+ KB\n"
     ]
    }
   ],
   "source": [
    "df.info()"
   ]
  },
  {
   "cell_type": "markdown",
   "metadata": {},
   "source": [
    "# Data preprocessing "
   ]
  },
  {
   "cell_type": "markdown",
   "metadata": {},
   "source": [
    "Checking duplicates"
   ]
  },
  {
   "cell_type": "code",
   "execution_count": 131,
   "metadata": {},
   "outputs": [
    {
     "data": {
      "text/plain": [
       "0"
      ]
     },
     "execution_count": 131,
     "metadata": {},
     "output_type": "execute_result"
    }
   ],
   "source": [
    "df.duplicated().sum()\n"
   ]
  },
  {
   "cell_type": "code",
   "execution_count": 132,
   "metadata": {},
   "outputs": [
    {
     "data": {
      "text/plain": [
       "(565, 17)"
      ]
     },
     "execution_count": 132,
     "metadata": {},
     "output_type": "execute_result"
    }
   ],
   "source": [
    "df = df.drop_duplicates()\n",
    "df.shape"
   ]
  },
  {
   "cell_type": "markdown",
   "metadata": {},
   "source": [
    "Checking null values"
   ]
  },
  {
   "cell_type": "code",
   "execution_count": 133,
   "metadata": {},
   "outputs": [
    {
     "data": {
      "text/plain": [
       "video_id                0\n",
       "avg polarity score      0\n",
       "channelTitle            0\n",
       "title                   0\n",
       "description            29\n",
       "tags                   58\n",
       "publishedAt             0\n",
       "viewCount               0\n",
       "likeCount               0\n",
       "favouriteCount        565\n",
       "commentCount            0\n",
       "duration                0\n",
       "definition              0\n",
       "caption                 0\n",
       "subscribers             0\n",
       "totalViews              0\n",
       "totalVideos             0\n",
       "dtype: int64"
      ]
     },
     "execution_count": 133,
     "metadata": {},
     "output_type": "execute_result"
    }
   ],
   "source": [
    "df.isnull().sum()\n"
   ]
  },
  {
   "cell_type": "markdown",
   "metadata": {},
   "source": [
    "Convert publish date to year"
   ]
  },
  {
   "cell_type": "code",
   "execution_count": 134,
   "metadata": {},
   "outputs": [],
   "source": [
    "df['publishedAt'] = df['publishedAt'].apply(lambda x: parser.parse(x)) \n",
    "df['pushblishYear'] = df['publishedAt'].apply(lambda x: x.strftime(\"%Y\"))\n",
    "\n",
    "dff['publishedAt'] = dff['publishedAt'].apply(lambda x: parser.parse(x)) \n",
    "dff['pushblishYear'] = dff['publishedAt'].apply(lambda x: x.strftime(\"%Y\"))"
   ]
  },
  {
   "cell_type": "markdown",
   "metadata": {},
   "source": [
    "Convert count columns to numeric\n"
   ]
  },
  {
   "cell_type": "code",
   "execution_count": 135,
   "metadata": {},
   "outputs": [],
   "source": [
    "numeric_cols = ['viewCount', 'likeCount', 'commentCount', 'pushblishYear']\n",
    "\n",
    "df[numeric_cols] = df[numeric_cols].apply(pd.to_numeric, errors = 'coerce', axis = 1)\n",
    "\n",
    "dff[numeric_cols] = dff[numeric_cols].apply(pd.to_numeric, errors = 'coerce', axis = 1)"
   ]
  },
  {
   "cell_type": "markdown",
   "metadata": {},
   "source": [
    "Convert duration to seconds"
   ]
  },
  {
   "cell_type": "code",
   "execution_count": 136,
   "metadata": {},
   "outputs": [],
   "source": [
    "import isodate\n",
    "df['durationSecs'] = df['duration'].apply(lambda x: isodate.parse_duration(x))\n",
    "df['durationSecs'] = df['durationSecs'].astype('timedelta64[s]')\n",
    "\n",
    "dff['durationSecs'] = dff['duration'].apply(lambda x: isodate.parse_duration(x))\n",
    "dff['durationSecs'] = dff['durationSecs'].astype('timedelta64[s]')"
   ]
  },
  {
   "cell_type": "markdown",
   "metadata": {},
   "source": [
    "Add tag count"
   ]
  },
  {
   "cell_type": "code",
   "execution_count": 137,
   "metadata": {},
   "outputs": [],
   "source": [
    "\n",
    "\n",
    "df['tagCount'] = df['tags'].apply(lambda x: 0 if x is np.nan else len(x))\n",
    "\n",
    "dff['tagCount'] = dff['tags'].apply(lambda x: 0 if x is np.nan else len(x))"
   ]
  },
  {
   "cell_type": "markdown",
   "metadata": {},
   "source": [
    "Add title and description length"
   ]
  },
  {
   "cell_type": "code",
   "execution_count": 138,
   "metadata": {},
   "outputs": [],
   "source": [
    "df['title length'] = df['title'].apply(lambda x: 0 if x is np.nan else len(x))\n",
    "df['description length'] = df['description'].apply(lambda x: 0 if x is np.nan else len(x))\n",
    "\n",
    "dff['title length'] = dff['title'].apply(lambda x: 0 if x is np.nan else len(x))\n",
    "dff['description length'] = dff['description'].apply(lambda x: 0 if x is np.nan else len(x))\n"
   ]
  },
  {
   "cell_type": "code",
   "execution_count": 139,
   "metadata": {},
   "outputs": [],
   "source": [
    "# df['Label'] = df['Label'].apply(lambda x: 'Unlabeled' if x is np.nan else x)\n"
   ]
  },
  {
   "cell_type": "markdown",
   "metadata": {},
   "source": [
    "Dropping columns we wont use"
   ]
  },
  {
   "cell_type": "code",
   "execution_count": 140,
   "metadata": {},
   "outputs": [],
   "source": [
    "df = df.drop(['description', 'title', 'publishedAt', 'duration', 'favouriteCount', 'video_id', 'tags'], axis=1)\n",
    "\n",
    "dff = dff.drop(['Unnamed: 0', 'description', 'title', 'publishedAt', 'duration', 'favouriteCount', 'video_id', 'tags'], axis=1)\n"
   ]
  },
  {
   "cell_type": "markdown",
   "metadata": {},
   "source": [
    "# Modeling"
   ]
  },
  {
   "cell_type": "code",
   "execution_count": 141,
   "metadata": {},
   "outputs": [],
   "source": [
    "import sklearn\n",
    "from sklearn.model_selection import train_test_split\n",
    "from sklearn.linear_model import LogisticRegression\n",
    "from sklearn.preprocessing import LabelEncoder"
   ]
  },
  {
   "cell_type": "markdown",
   "metadata": {},
   "source": [
    "Label encoding "
   ]
  },
  {
   "cell_type": "code",
   "execution_count": 142,
   "metadata": {},
   "outputs": [
    {
     "data": {
      "text/plain": [
       "avg polarity score    0\n",
       "channelTitle          0\n",
       "viewCount             0\n",
       "likeCount             0\n",
       "commentCount          0\n",
       "definition            0\n",
       "caption               0\n",
       "subscribers           0\n",
       "totalViews            0\n",
       "totalVideos           0\n",
       "pushblishYear         0\n",
       "durationSecs          0\n",
       "tagCount              0\n",
       "title length          0\n",
       "description length    0\n",
       "dtype: int64"
      ]
     },
     "execution_count": 142,
     "metadata": {},
     "output_type": "execute_result"
    }
   ],
   "source": [
    "le = LabelEncoder()\n",
    "\n",
    "df2 = ['channelTitle', 'definition', 'caption']\n",
    "\n",
    "df[df2] = df[df2].apply(le.fit_transform)\n",
    "\n",
    "dffs = ['channelTitle', 'definition', 'caption', 'Label']\n",
    "dff[dffs] = dff[dffs].apply(le.fit_transform)\n",
    "\n",
    "df.isnull().sum()"
   ]
  },
  {
   "cell_type": "markdown",
   "metadata": {},
   "source": [
    "Splitting"
   ]
  },
  {
   "cell_type": "code",
   "execution_count": 143,
   "metadata": {},
   "outputs": [],
   "source": [
    "# from sklearn.preprocessing import StandardScaler\n",
    "# scale = StandardScaler()\n",
    "\n",
    "\n",
    "feat_col = ['channelTitle', 'viewCount', 'likeCount', 'definition', 'commentCount', 'caption', 'subscribers', 'totalViews', 'totalVideos', 'avg polarity score', 'pushblishYear', 'durationSecs', 'tagCount', 'description length', 'title length']\n",
    "\n",
    "X = df[feat_col] # Features\n",
    "# y = df['Label'] # Target variable"
   ]
  },
  {
   "cell_type": "markdown",
   "metadata": {},
   "source": [
    "Scaling"
   ]
  },
  {
   "cell_type": "code",
   "execution_count": 144,
   "metadata": {},
   "outputs": [],
   "source": [
    "cols = X.columns\n",
    "\n",
    "from sklearn.preprocessing import MinMaxScaler\n",
    "\n",
    "ms = MinMaxScaler()\n",
    "\n",
    "X = ms.fit_transform(X)"
   ]
  },
  {
   "cell_type": "code",
   "execution_count": 145,
   "metadata": {},
   "outputs": [
    {
     "data": {
      "text/html": [
       "<div>\n",
       "<style scoped>\n",
       "    .dataframe tbody tr th:only-of-type {\n",
       "        vertical-align: middle;\n",
       "    }\n",
       "\n",
       "    .dataframe tbody tr th {\n",
       "        vertical-align: top;\n",
       "    }\n",
       "\n",
       "    .dataframe thead tr th {\n",
       "        text-align: left;\n",
       "    }\n",
       "</style>\n",
       "<table border=\"1\" class=\"dataframe\">\n",
       "  <thead>\n",
       "    <tr>\n",
       "      <th></th>\n",
       "      <th>channelTitle</th>\n",
       "      <th>viewCount</th>\n",
       "      <th>likeCount</th>\n",
       "      <th>definition</th>\n",
       "      <th>commentCount</th>\n",
       "      <th>caption</th>\n",
       "      <th>subscribers</th>\n",
       "      <th>totalViews</th>\n",
       "      <th>totalVideos</th>\n",
       "      <th>avg polarity score</th>\n",
       "      <th>pushblishYear</th>\n",
       "      <th>durationSecs</th>\n",
       "      <th>tagCount</th>\n",
       "      <th>description length</th>\n",
       "      <th>title length</th>\n",
       "    </tr>\n",
       "  </thead>\n",
       "  <tbody>\n",
       "    <tr>\n",
       "      <th>0</th>\n",
       "      <td>0.631579</td>\n",
       "      <td>0.175913</td>\n",
       "      <td>0.104714</td>\n",
       "      <td>0.0</td>\n",
       "      <td>0.009200</td>\n",
       "      <td>1.0</td>\n",
       "      <td>0.060143</td>\n",
       "      <td>0.049874</td>\n",
       "      <td>0.794849</td>\n",
       "      <td>0.432374</td>\n",
       "      <td>0.75</td>\n",
       "      <td>0.096393</td>\n",
       "      <td>0.262963</td>\n",
       "      <td>0.220576</td>\n",
       "      <td>0.727273</td>\n",
       "    </tr>\n",
       "    <tr>\n",
       "      <th>1</th>\n",
       "      <td>0.631579</td>\n",
       "      <td>0.069989</td>\n",
       "      <td>0.036559</td>\n",
       "      <td>0.0</td>\n",
       "      <td>0.003753</td>\n",
       "      <td>1.0</td>\n",
       "      <td>0.060143</td>\n",
       "      <td>0.049874</td>\n",
       "      <td>0.794849</td>\n",
       "      <td>0.365947</td>\n",
       "      <td>0.75</td>\n",
       "      <td>0.100189</td>\n",
       "      <td>0.296296</td>\n",
       "      <td>0.083055</td>\n",
       "      <td>1.000000</td>\n",
       "    </tr>\n",
       "    <tr>\n",
       "      <th>2</th>\n",
       "      <td>0.631579</td>\n",
       "      <td>0.032957</td>\n",
       "      <td>0.014636</td>\n",
       "      <td>0.0</td>\n",
       "      <td>0.001211</td>\n",
       "      <td>1.0</td>\n",
       "      <td>0.060143</td>\n",
       "      <td>0.049874</td>\n",
       "      <td>0.794849</td>\n",
       "      <td>0.368149</td>\n",
       "      <td>0.75</td>\n",
       "      <td>0.101840</td>\n",
       "      <td>0.092593</td>\n",
       "      <td>0.069073</td>\n",
       "      <td>0.988636</td>\n",
       "    </tr>\n",
       "    <tr>\n",
       "      <th>3</th>\n",
       "      <td>0.631579</td>\n",
       "      <td>0.016085</td>\n",
       "      <td>0.006067</td>\n",
       "      <td>0.0</td>\n",
       "      <td>0.000363</td>\n",
       "      <td>1.0</td>\n",
       "      <td>0.060143</td>\n",
       "      <td>0.049874</td>\n",
       "      <td>0.794849</td>\n",
       "      <td>0.370698</td>\n",
       "      <td>0.75</td>\n",
       "      <td>0.105014</td>\n",
       "      <td>0.135185</td>\n",
       "      <td>0.062396</td>\n",
       "      <td>0.977273</td>\n",
       "    </tr>\n",
       "    <tr>\n",
       "      <th>4</th>\n",
       "      <td>0.631579</td>\n",
       "      <td>0.015701</td>\n",
       "      <td>0.007181</td>\n",
       "      <td>0.0</td>\n",
       "      <td>0.000968</td>\n",
       "      <td>1.0</td>\n",
       "      <td>0.060143</td>\n",
       "      <td>0.049874</td>\n",
       "      <td>0.794849</td>\n",
       "      <td>0.381210</td>\n",
       "      <td>0.75</td>\n",
       "      <td>0.100939</td>\n",
       "      <td>0.159259</td>\n",
       "      <td>0.069073</td>\n",
       "      <td>0.863636</td>\n",
       "    </tr>\n",
       "  </tbody>\n",
       "</table>\n",
       "</div>"
      ],
      "text/plain": [
       "  channelTitle viewCount likeCount definition commentCount caption  \\\n",
       "0     0.631579  0.175913  0.104714        0.0     0.009200     1.0   \n",
       "1     0.631579  0.069989  0.036559        0.0     0.003753     1.0   \n",
       "2     0.631579  0.032957  0.014636        0.0     0.001211     1.0   \n",
       "3     0.631579  0.016085  0.006067        0.0     0.000363     1.0   \n",
       "4     0.631579  0.015701  0.007181        0.0     0.000968     1.0   \n",
       "\n",
       "  subscribers totalViews totalVideos avg polarity score pushblishYear  \\\n",
       "0    0.060143   0.049874    0.794849           0.432374          0.75   \n",
       "1    0.060143   0.049874    0.794849           0.365947          0.75   \n",
       "2    0.060143   0.049874    0.794849           0.368149          0.75   \n",
       "3    0.060143   0.049874    0.794849           0.370698          0.75   \n",
       "4    0.060143   0.049874    0.794849           0.381210          0.75   \n",
       "\n",
       "  durationSecs  tagCount description length title length  \n",
       "0     0.096393  0.262963           0.220576     0.727273  \n",
       "1     0.100189  0.296296           0.083055     1.000000  \n",
       "2     0.101840  0.092593           0.069073     0.988636  \n",
       "3     0.105014  0.135185           0.062396     0.977273  \n",
       "4     0.100939  0.159259           0.069073     0.863636  "
      ]
     },
     "execution_count": 145,
     "metadata": {},
     "output_type": "execute_result"
    }
   ],
   "source": [
    "X = pd.DataFrame(X, columns=[cols])\n",
    "\n",
    "X.head()"
   ]
  },
  {
   "cell_type": "markdown",
   "metadata": {},
   "source": [
    "### K-Means model with two clusters"
   ]
  },
  {
   "cell_type": "code",
   "execution_count": 146,
   "metadata": {},
   "outputs": [
    {
     "data": {
      "text/html": [
       "<style>#sk-container-id-4 {color: black;background-color: white;}#sk-container-id-4 pre{padding: 0;}#sk-container-id-4 div.sk-toggleable {background-color: white;}#sk-container-id-4 label.sk-toggleable__label {cursor: pointer;display: block;width: 100%;margin-bottom: 0;padding: 0.3em;box-sizing: border-box;text-align: center;}#sk-container-id-4 label.sk-toggleable__label-arrow:before {content: \"▸\";float: left;margin-right: 0.25em;color: #696969;}#sk-container-id-4 label.sk-toggleable__label-arrow:hover:before {color: black;}#sk-container-id-4 div.sk-estimator:hover label.sk-toggleable__label-arrow:before {color: black;}#sk-container-id-4 div.sk-toggleable__content {max-height: 0;max-width: 0;overflow: hidden;text-align: left;background-color: #f0f8ff;}#sk-container-id-4 div.sk-toggleable__content pre {margin: 0.2em;color: black;border-radius: 0.25em;background-color: #f0f8ff;}#sk-container-id-4 input.sk-toggleable__control:checked~div.sk-toggleable__content {max-height: 200px;max-width: 100%;overflow: auto;}#sk-container-id-4 input.sk-toggleable__control:checked~label.sk-toggleable__label-arrow:before {content: \"▾\";}#sk-container-id-4 div.sk-estimator input.sk-toggleable__control:checked~label.sk-toggleable__label {background-color: #d4ebff;}#sk-container-id-4 div.sk-label input.sk-toggleable__control:checked~label.sk-toggleable__label {background-color: #d4ebff;}#sk-container-id-4 input.sk-hidden--visually {border: 0;clip: rect(1px 1px 1px 1px);clip: rect(1px, 1px, 1px, 1px);height: 1px;margin: -1px;overflow: hidden;padding: 0;position: absolute;width: 1px;}#sk-container-id-4 div.sk-estimator {font-family: monospace;background-color: #f0f8ff;border: 1px dotted black;border-radius: 0.25em;box-sizing: border-box;margin-bottom: 0.5em;}#sk-container-id-4 div.sk-estimator:hover {background-color: #d4ebff;}#sk-container-id-4 div.sk-parallel-item::after {content: \"\";width: 100%;border-bottom: 1px solid gray;flex-grow: 1;}#sk-container-id-4 div.sk-label:hover label.sk-toggleable__label {background-color: #d4ebff;}#sk-container-id-4 div.sk-serial::before {content: \"\";position: absolute;border-left: 1px solid gray;box-sizing: border-box;top: 0;bottom: 0;left: 50%;z-index: 0;}#sk-container-id-4 div.sk-serial {display: flex;flex-direction: column;align-items: center;background-color: white;padding-right: 0.2em;padding-left: 0.2em;position: relative;}#sk-container-id-4 div.sk-item {position: relative;z-index: 1;}#sk-container-id-4 div.sk-parallel {display: flex;align-items: stretch;justify-content: center;background-color: white;position: relative;}#sk-container-id-4 div.sk-item::before, #sk-container-id-4 div.sk-parallel-item::before {content: \"\";position: absolute;border-left: 1px solid gray;box-sizing: border-box;top: 0;bottom: 0;left: 50%;z-index: -1;}#sk-container-id-4 div.sk-parallel-item {display: flex;flex-direction: column;z-index: 1;position: relative;background-color: white;}#sk-container-id-4 div.sk-parallel-item:first-child::after {align-self: flex-end;width: 50%;}#sk-container-id-4 div.sk-parallel-item:last-child::after {align-self: flex-start;width: 50%;}#sk-container-id-4 div.sk-parallel-item:only-child::after {width: 0;}#sk-container-id-4 div.sk-dashed-wrapped {border: 1px dashed gray;margin: 0 0.4em 0.5em 0.4em;box-sizing: border-box;padding-bottom: 0.4em;background-color: white;}#sk-container-id-4 div.sk-label label {font-family: monospace;font-weight: bold;display: inline-block;line-height: 1.2em;}#sk-container-id-4 div.sk-label-container {text-align: center;}#sk-container-id-4 div.sk-container {/* jupyter's `normalize.less` sets `[hidden] { display: none; }` but bootstrap.min.css set `[hidden] { display: none !important; }` so we also need the `!important` here to be able to override the default hidden behavior on the sphinx rendered scikit-learn.org. See: https://github.com/scikit-learn/scikit-learn/issues/21755 */display: inline-block !important;position: relative;}#sk-container-id-4 div.sk-text-repr-fallback {display: none;}</style><div id=\"sk-container-id-4\" class=\"sk-top-container\"><div class=\"sk-text-repr-fallback\"><pre>KMeans(n_clusters=2, random_state=16)</pre><b>In a Jupyter environment, please rerun this cell to show the HTML representation or trust the notebook. <br />On GitHub, the HTML representation is unable to render, please try loading this page with nbviewer.org.</b></div><div class=\"sk-container\" hidden><div class=\"sk-item\"><div class=\"sk-estimator sk-toggleable\"><input class=\"sk-toggleable__control sk-hidden--visually\" id=\"sk-estimator-id-4\" type=\"checkbox\" checked><label for=\"sk-estimator-id-4\" class=\"sk-toggleable__label sk-toggleable__label-arrow\">KMeans</label><div class=\"sk-toggleable__content\"><pre>KMeans(n_clusters=2, random_state=16)</pre></div></div></div></div></div>"
      ],
      "text/plain": [
       "KMeans(n_clusters=2, random_state=16)"
      ]
     },
     "execution_count": 146,
     "metadata": {},
     "output_type": "execute_result"
    }
   ],
   "source": [
    "from sklearn.cluster import KMeans\n",
    "\n",
    "kmeans = KMeans(n_clusters=2, random_state=16) \n",
    "\n",
    "kmeans.fit(X)\n"
   ]
  },
  {
   "cell_type": "markdown",
   "metadata": {},
   "source": [
    "### Model evaluation"
   ]
  },
  {
   "cell_type": "code",
   "execution_count": 147,
   "metadata": {},
   "outputs": [
    {
     "data": {
      "text/plain": [
       "281.2563143731306"
      ]
     },
     "execution_count": 147,
     "metadata": {},
     "output_type": "execute_result"
    }
   ],
   "source": [
    "kmeans.inertia_"
   ]
  },
  {
   "cell_type": "markdown",
   "metadata": {},
   "source": [
    "Find the labels"
   ]
  },
  {
   "cell_type": "code",
   "execution_count": 148,
   "metadata": {},
   "outputs": [],
   "source": [
    "labels = kmeans.labels_\n",
    "\n",
    "# check how many of the samples were correctly labeled\n",
    "# correct_labels = sum(y == labels)\n",
    "\n",
    "# print(\"Result: %d out of %d samples were correctly labeled.\" % (correct_labels, y.size))\n",
    "\n",
    "# print('Accuracy score: {0:0.2f}'. format(correct_labels/float(y.size)))"
   ]
  },
  {
   "cell_type": "code",
   "execution_count": 149,
   "metadata": {},
   "outputs": [
    {
     "data": {
      "text/plain": [
       "array([1, 1, 1, 1, 1, 1, 1, 1, 1, 1, 1, 1, 1, 1, 1, 1, 1, 1, 1, 1, 1, 1,\n",
       "       1, 1, 1, 1, 1, 1, 1, 1, 1, 1, 1, 1, 1, 1, 1, 1, 1, 1, 1, 1, 1, 1,\n",
       "       1, 1, 1, 1, 1, 1, 1, 1, 1, 1, 1, 1, 1, 1, 1, 1, 1, 1, 1, 1, 1, 1,\n",
       "       1, 1, 1, 1, 1, 1, 1, 1, 1, 1, 1, 1, 1, 1, 1, 1, 1, 1, 1, 1, 1, 0,\n",
       "       0, 0, 0, 0, 0, 0, 0, 0, 0, 0, 0, 0, 0, 0, 0, 0, 0, 0, 0, 0, 0, 0,\n",
       "       0, 0, 0, 0, 0, 0, 0, 0, 0, 0, 0, 0, 0, 0, 0, 0, 0, 0, 0, 0, 0, 0,\n",
       "       0, 0, 0, 0, 0, 0, 0, 0, 0, 0, 0, 0, 0, 0, 0, 0, 0, 0, 0, 0, 0, 0,\n",
       "       0, 0, 0, 0, 0, 0, 0, 0, 0, 0, 0, 0, 0, 0, 0, 0, 0, 0, 0, 0, 0, 0,\n",
       "       0, 0, 0, 0, 0, 0, 0, 0, 0, 0, 0, 0, 0, 0, 0, 0, 0, 0, 0, 0, 0, 0,\n",
       "       0, 0, 0, 0, 0, 0, 0, 0, 0, 0, 0, 0, 0, 0, 0, 0, 0, 0, 0, 0, 0, 0,\n",
       "       0, 0, 0, 0, 0, 0, 0, 0, 0, 0, 0, 0, 0, 0, 0, 0, 0, 0, 0, 0, 0, 0,\n",
       "       0, 1, 1, 1, 1, 1, 1, 1, 1, 1, 1, 1, 1, 1, 1, 1, 1, 1, 1, 1, 1, 1,\n",
       "       1, 1, 1, 1, 1, 1, 1, 1, 1, 1, 1, 1, 1, 1, 1, 1, 1, 1, 1, 1, 1, 1,\n",
       "       1, 1, 1, 1, 1, 1, 1, 1, 1, 1, 1, 1, 1, 1, 1, 1, 1, 1, 1, 1, 1, 1,\n",
       "       1, 1, 1, 1, 1, 1, 1, 1, 1, 1, 1, 1, 1, 1, 1, 1, 1, 1, 1, 1, 1, 1,\n",
       "       1, 1, 1, 1, 1, 1, 1, 1, 1, 1, 1, 1, 1, 1, 1, 1, 1, 1, 1, 1, 1, 1,\n",
       "       1, 1, 1, 1, 1, 0, 0, 0, 0, 0, 0, 0, 0, 0, 0, 0, 0, 0, 0, 0, 0, 0,\n",
       "       0, 0, 0, 0, 0, 0, 0, 0, 0, 0, 0, 0, 0, 0, 0, 1, 1, 1, 1, 1, 1, 1,\n",
       "       1, 1, 1, 1, 1, 1, 1, 1, 1, 1, 1, 1, 1, 1, 1, 1, 1, 1, 1, 1, 1, 1,\n",
       "       1, 1, 1, 1, 1, 1, 1, 1, 1, 1, 1, 1, 1, 1, 1, 1, 1, 1, 1, 1, 1, 1,\n",
       "       1, 1, 1, 1, 1, 1, 1, 1, 1, 1, 1, 1, 1, 1, 1, 1, 1, 1, 1, 1, 1, 1,\n",
       "       1, 1, 1, 1, 1, 1, 1, 1, 1, 1, 1, 1, 1, 1, 0, 0, 0, 0, 0, 0, 0, 0,\n",
       "       0, 0, 0, 0, 0, 0, 0, 0, 0, 0, 1, 1, 1, 1, 1, 1, 1, 1, 1, 1, 1, 1,\n",
       "       1, 1, 1, 1, 1, 1, 1, 1, 1, 1, 1, 1, 1, 1, 1, 1, 1, 1, 1, 1, 1, 1,\n",
       "       1, 1, 1, 1, 1, 1, 1, 1, 1, 1, 1, 1, 1, 1, 1, 1, 1, 1, 1, 1, 1, 1,\n",
       "       1, 1, 1, 1, 1, 1, 1, 1, 1, 1, 1, 1, 1, 1, 1])"
      ]
     },
     "execution_count": 149,
     "metadata": {},
     "output_type": "execute_result"
    }
   ],
   "source": [
    "labels"
   ]
  },
  {
   "cell_type": "markdown",
   "metadata": {},
   "source": [
    "Use elbow method to find optimal number of clusters"
   ]
  },
  {
   "cell_type": "code",
   "execution_count": 150,
   "metadata": {},
   "outputs": [
    {
     "data": {
      "image/png": "[encoded data removed]",
      "text/plain": [
       "<Figure size 432x288 with 1 Axes>"
      ]
     },
     "metadata": {
      "needs_background": "light"
     },
     "output_type": "display_data"
    }
   ],
   "source": [
    "from sklearn.cluster import KMeans\n",
    "cs = []\n",
    "for i in range(1, 11):\n",
    "    kmeans = KMeans(n_clusters = i, init = 'k-means++', max_iter = 300, n_init = 10, random_state = 16)\n",
    "    kmeans.fit(X)\n",
    "    cs.append(kmeans.inertia_)\n",
    "plt.plot(range(1, 11), cs)\n",
    "plt.title('The Elbow Method')\n",
    "plt.xlabel('Number of clusters')\n",
    "plt.ylabel('CS')\n",
    "plt.show()"
   ]
  },
  {
   "cell_type": "markdown",
   "metadata": {},
   "source": [
    "## Labeling the data"
   ]
  },
  {
   "cell_type": "code",
   "execution_count": 151,
   "metadata": {},
   "outputs": [
    {
     "data": {
      "text/html": [
       "<div>\n",
       "<style scoped>\n",
       "    .dataframe tbody tr th:only-of-type {\n",
       "        vertical-align: middle;\n",
       "    }\n",
       "\n",
       "    .dataframe tbody tr th {\n",
       "        vertical-align: top;\n",
       "    }\n",
       "\n",
       "    .dataframe thead th {\n",
       "        text-align: right;\n",
       "    }\n",
       "</style>\n",
       "<table border=\"1\" class=\"dataframe\">\n",
       "  <thead>\n",
       "    <tr style=\"text-align: right;\">\n",
       "      <th></th>\n",
       "      <th>avg polarity score</th>\n",
       "      <th>channelTitle</th>\n",
       "      <th>viewCount</th>\n",
       "      <th>likeCount</th>\n",
       "      <th>commentCount</th>\n",
       "      <th>definition</th>\n",
       "      <th>caption</th>\n",
       "      <th>subscribers</th>\n",
       "      <th>totalViews</th>\n",
       "      <th>totalVideos</th>\n",
       "      <th>pushblishYear</th>\n",
       "      <th>durationSecs</th>\n",
       "      <th>tagCount</th>\n",
       "      <th>title length</th>\n",
       "      <th>description length</th>\n",
       "      <th>Label</th>\n",
       "    </tr>\n",
       "  </thead>\n",
       "  <tbody>\n",
       "    <tr>\n",
       "      <th>0</th>\n",
       "      <td>0.277473</td>\n",
       "      <td>12</td>\n",
       "      <td>1410150</td>\n",
       "      <td>18797</td>\n",
       "      <td>76</td>\n",
       "      <td>0</td>\n",
       "      <td>1</td>\n",
       "      <td>369000</td>\n",
       "      <td>20517888</td>\n",
       "      <td>1850</td>\n",
       "      <td>2020</td>\n",
       "      <td>4520.0</td>\n",
       "      <td>142</td>\n",
       "      <td>76</td>\n",
       "      <td>1057</td>\n",
       "      <td>1</td>\n",
       "    </tr>\n",
       "    <tr>\n",
       "      <th>1</th>\n",
       "      <td>0.234844</td>\n",
       "      <td>12</td>\n",
       "      <td>561083</td>\n",
       "      <td>6564</td>\n",
       "      <td>31</td>\n",
       "      <td>0</td>\n",
       "      <td>1</td>\n",
       "      <td>369000</td>\n",
       "      <td>20517888</td>\n",
       "      <td>1850</td>\n",
       "      <td>2020</td>\n",
       "      <td>4697.0</td>\n",
       "      <td>160</td>\n",
       "      <td>100</td>\n",
       "      <td>398</td>\n",
       "      <td>1</td>\n",
       "    </tr>\n",
       "    <tr>\n",
       "      <th>2</th>\n",
       "      <td>0.236257</td>\n",
       "      <td>12</td>\n",
       "      <td>264242</td>\n",
       "      <td>2629</td>\n",
       "      <td>10</td>\n",
       "      <td>0</td>\n",
       "      <td>1</td>\n",
       "      <td>369000</td>\n",
       "      <td>20517888</td>\n",
       "      <td>1850</td>\n",
       "      <td>2020</td>\n",
       "      <td>4774.0</td>\n",
       "      <td>50</td>\n",
       "      <td>99</td>\n",
       "      <td>331</td>\n",
       "      <td>1</td>\n",
       "    </tr>\n",
       "    <tr>\n",
       "      <th>3</th>\n",
       "      <td>0.237893</td>\n",
       "      <td>12</td>\n",
       "      <td>129002</td>\n",
       "      <td>1091</td>\n",
       "      <td>3</td>\n",
       "      <td>0</td>\n",
       "      <td>1</td>\n",
       "      <td>369000</td>\n",
       "      <td>20517888</td>\n",
       "      <td>1850</td>\n",
       "      <td>2020</td>\n",
       "      <td>4922.0</td>\n",
       "      <td>73</td>\n",
       "      <td>98</td>\n",
       "      <td>299</td>\n",
       "      <td>1</td>\n",
       "    </tr>\n",
       "    <tr>\n",
       "      <th>4</th>\n",
       "      <td>0.244639</td>\n",
       "      <td>12</td>\n",
       "      <td>125920</td>\n",
       "      <td>1291</td>\n",
       "      <td>8</td>\n",
       "      <td>0</td>\n",
       "      <td>1</td>\n",
       "      <td>369000</td>\n",
       "      <td>20517888</td>\n",
       "      <td>1850</td>\n",
       "      <td>2020</td>\n",
       "      <td>4732.0</td>\n",
       "      <td>86</td>\n",
       "      <td>88</td>\n",
       "      <td>331</td>\n",
       "      <td>1</td>\n",
       "    </tr>\n",
       "  </tbody>\n",
       "</table>\n",
       "</div>"
      ],
      "text/plain": [
       "   avg polarity score  channelTitle  viewCount  likeCount  commentCount  \\\n",
       "0            0.277473            12    1410150      18797            76   \n",
       "1            0.234844            12     561083       6564            31   \n",
       "2            0.236257            12     264242       2629            10   \n",
       "3            0.237893            12     129002       1091             3   \n",
       "4            0.244639            12     125920       1291             8   \n",
       "\n",
       "   definition  caption  subscribers  totalViews  totalVideos  pushblishYear  \\\n",
       "0           0        1       369000    20517888         1850           2020   \n",
       "1           0        1       369000    20517888         1850           2020   \n",
       "2           0        1       369000    20517888         1850           2020   \n",
       "3           0        1       369000    20517888         1850           2020   \n",
       "4           0        1       369000    20517888         1850           2020   \n",
       "\n",
       "   durationSecs  tagCount  title length  description length  Label  \n",
       "0        4520.0       142            76                1057      1  \n",
       "1        4697.0       160           100                 398      1  \n",
       "2        4774.0        50            99                 331      1  \n",
       "3        4922.0        73            98                 299      1  \n",
       "4        4732.0        86            88                 331      1  "
      ]
     },
     "execution_count": 151,
     "metadata": {},
     "output_type": "execute_result"
    }
   ],
   "source": [
    "df['Label'] = None\n",
    "\n",
    "df = df.assign(Label = labels)\n",
    "\n",
    "df.head()"
   ]
  },
  {
   "cell_type": "code",
   "execution_count": 152,
   "metadata": {},
   "outputs": [
    {
     "data": {
      "text/plain": [
       "1    359\n",
       "0    206\n",
       "Name: Label, dtype: int64"
      ]
     },
     "execution_count": 152,
     "metadata": {},
     "output_type": "execute_result"
    },
    {
     "data": {
      "image/png": "[encoded data removed]",
      "text/plain": [
       "<Figure size 432x288 with 1 Axes>"
      ]
     },
     "metadata": {
      "needs_background": "light"
     },
     "output_type": "display_data"
    }
   ],
   "source": [
    "sns.countplot(x=\"Label\", data=df)\n",
    "df[\"Label\"].value_counts()"
   ]
  },
  {
   "cell_type": "markdown",
   "metadata": {},
   "source": [
    "# Modeling"
   ]
  },
  {
   "cell_type": "code",
   "execution_count": 153,
   "metadata": {},
   "outputs": [],
   "source": [
    "# from sklearn.preprocessing import StandardScaler\n",
    "# scale = StandardScaler()\n",
    "\n",
    "feat_col = ['channelTitle', 'viewCount', 'likeCount', 'definition', 'commentCount', 'caption', 'subscribers', 'totalViews', 'totalVideos', 'avg polarity score', 'pushblishYear', 'durationSecs', 'tagCount', 'description length', 'title length']\n",
    "\n",
    "X = df[feat_col] # Features\n",
    "y = df['Label']# Target variable\n",
    "\n",
    "A = dff[feat_col] # Features\n",
    "b = dff['Label']# Target variable\n"
   ]
  },
  {
   "cell_type": "code",
   "execution_count": 154,
   "metadata": {},
   "outputs": [],
   "source": [
    "from imblearn.over_sampling import SMOTE\n",
    "\n",
    "X_train, X_test, y_train, y_test = train_test_split(X, y, test_size=0.25, random_state=16)\n",
    "\n",
    "#Create an oversampled training data\n",
    "smote = SMOTE(random_state = 16)\n",
    "X_train, y_train = smote.fit_resample(X_train, y_train)\n",
    "\n",
    "A_train, A_test, b_train, b_test = train_test_split(A, b, test_size=0.25, random_state=16)\n"
   ]
  },
  {
   "cell_type": "markdown",
   "metadata": {},
   "source": [
    "### Log"
   ]
  },
  {
   "cell_type": "code",
   "execution_count": 155,
   "metadata": {},
   "outputs": [
    {
     "name": "stdout",
     "output_type": "stream",
     "text": [
      "Mean AUC Score - Logistic Regression:  0.9988994864269992\n"
     ]
    }
   ],
   "source": [
    "from random import shuffle\n",
    "from sklearn.linear_model import LogisticRegression\n",
    "from sklearn.model_selection import KFold\n",
    "from sklearn.model_selection import cross_val_score\n",
    "\n",
    "logreg = LogisticRegression(max_iter=1000)\n",
    "cross_val = KFold(n_splits=5, random_state=16, shuffle=True)\n",
    "scores = cross_val_score(logreg, X_train, y_train, cv=cross_val, scoring='roc_auc')\n",
    "print(\"Mean AUC Score - Logistic Regression: \", scores.mean())\n",
    "\n",
    "# fit the model with data\n",
    "logreg.fit(X_train, y_train)\n",
    "\n",
    "y_pred = logreg.predict(X_test)"
   ]
  },
  {
   "cell_type": "code",
   "execution_count": 156,
   "metadata": {},
   "outputs": [
    {
     "name": "stdout",
     "output_type": "stream",
     "text": [
      "               precision    recall  f1-score   support\n",
      "\n",
      "    reputable       1.00      1.00      1.00        44\n",
      "non reputable       1.00      1.00      1.00        98\n",
      "\n",
      "     accuracy                           1.00       142\n",
      "    macro avg       1.00      1.00      1.00       142\n",
      " weighted avg       1.00      1.00      1.00       142\n",
      "\n",
      "Train Accuracy: 1.0\n",
      "Test Accuracy: 1.0\n"
     ]
    }
   ],
   "source": [
    "from sklearn.metrics import classification_report\n",
    "target_names = ['reputable', 'non reputable']\n",
    "print(classification_report(y_test, y_pred, target_names=target_names))\n",
    "print(\"Train Accuracy:\",logreg.score(X_train, y_train))\n",
    "print(\"Test Accuracy:\",logreg.score(X_test, y_test))"
   ]
  },
  {
   "cell_type": "markdown",
   "metadata": {},
   "source": [
    "### Random forest"
   ]
  },
  {
   "cell_type": "code",
   "execution_count": 157,
   "metadata": {},
   "outputs": [
    {
     "name": "stdout",
     "output_type": "stream",
     "text": [
      "Mean AUC Score - Random Forest:  1.0\n"
     ]
    }
   ],
   "source": [
    "from sklearn.ensemble import RandomForestClassifier\n",
    "model1 = RandomForestClassifier()\n",
    "kfold = KFold(n_splits=5, random_state=16, shuffle=True) \n",
    "scores = cross_val_score(model1, X_train, y_train, cv=kfold, scoring='roc_auc')\n",
    "print(\"Mean AUC Score - Random Forest: \", scores.mean())"
   ]
  },
  {
   "cell_type": "code",
   "execution_count": 158,
   "metadata": {},
   "outputs": [
    {
     "name": "stdout",
     "output_type": "stream",
     "text": [
      "Random Forest Train Accuracy: 1.0\n",
      "Random Forest Test Accuracy: 1.0\n",
      "               precision    recall  f1-score   support\n",
      "\n",
      "    reputable       1.00      1.00      1.00        44\n",
      "non reputable       1.00      1.00      1.00        98\n",
      "\n",
      "     accuracy                           1.00       142\n",
      "    macro avg       1.00      1.00      1.00       142\n",
      " weighted avg       1.00      1.00      1.00       142\n",
      "\n"
     ]
    }
   ],
   "source": [
    "# fit the model with data\n",
    "model1.fit(X_train, y_train)\n",
    "\n",
    "rf_pred = model1.predict(X_test)\n",
    "\n",
    "print(\"Random Forest Train Accuracy:\",model1.score(X_train, y_train))\n",
    "print(\"Random Forest Test Accuracy:\",model1.score(X_test, y_test))\n",
    "target_names = ['reputable', 'non reputable']\n",
    "print(classification_report(y_test, rf_pred, target_names=target_names))"
   ]
  },
  {
   "cell_type": "markdown",
   "metadata": {},
   "source": [
    "### Decision tree"
   ]
  },
  {
   "cell_type": "code",
   "execution_count": 159,
   "metadata": {},
   "outputs": [
    {
     "name": "stdout",
     "output_type": "stream",
     "text": [
      "Mean AUC Score - Decision Tree:  1.0\n"
     ]
    }
   ],
   "source": [
    "from sklearn.tree import DecisionTreeClassifier\n",
    "model2 = DecisionTreeClassifier()\n",
    "cross_val = KFold(n_splits=5, random_state=16, shuffle=True)\n",
    "scores = cross_val_score(model2, X_train, y_train, cv=cross_val, scoring='roc_auc')\n",
    "print(\"Mean AUC Score - Decision Tree: \", scores.mean())"
   ]
  },
  {
   "cell_type": "code",
   "execution_count": 160,
   "metadata": {},
   "outputs": [
    {
     "name": "stdout",
     "output_type": "stream",
     "text": [
      "Decision Tree Train Accuracy: 1.0\n",
      "Decision Tree Test Accuracy: 1.0\n",
      "               precision    recall  f1-score   support\n",
      "\n",
      "    reputable       1.00      1.00      1.00        44\n",
      "non reputable       1.00      1.00      1.00        98\n",
      "\n",
      "     accuracy                           1.00       142\n",
      "    macro avg       1.00      1.00      1.00       142\n",
      " weighted avg       1.00      1.00      1.00       142\n",
      "\n"
     ]
    }
   ],
   "source": [
    "# fit the model with data\n",
    "model2.fit(X_train, y_train)\n",
    "\n",
    "dc_pred = model2.predict(X_test)\n",
    "\n",
    "print(\"Decision Tree Train Accuracy:\",model2.score(X_train, y_train))\n",
    "print(\"Decision Tree Test Accuracy:\",model2.score(X_test, y_test))\n",
    "target_names = ['reputable', 'non reputable']\n",
    "print(classification_report(y_test, dc_pred, target_names=target_names))\n"
   ]
  },
  {
   "cell_type": "markdown",
   "metadata": {},
   "source": [
    "### XGBClassifier"
   ]
  },
  {
   "cell_type": "code",
   "execution_count": 161,
   "metadata": {},
   "outputs": [
    {
     "name": "stdout",
     "output_type": "stream",
     "text": [
      "Mean AUC Score - Gaussian Naive Bayes:  1.0\n"
     ]
    }
   ],
   "source": [
    "from xgboost import XGBClassifier\n",
    "model4 = XGBClassifier()\n",
    "cross_val = KFold(n_splits=5, random_state=16, shuffle=True)\n",
    "scores = cross_val_score(model4, X_train, y_train, cv=cross_val, scoring='roc_auc')\n",
    "print(\"Mean AUC Score - Gaussian Naive Bayes: \", scores.mean())"
   ]
  },
  {
   "cell_type": "code",
   "execution_count": 162,
   "metadata": {},
   "outputs": [
    {
     "name": "stdout",
     "output_type": "stream",
     "text": [
      "XGB Train Accuracy: 1.0\n",
      "XGB Test Accuracy: 1.0\n",
      "               precision    recall  f1-score   support\n",
      "\n",
      "    reputable       1.00      1.00      1.00        44\n",
      "non reputable       1.00      1.00      1.00        98\n",
      "\n",
      "     accuracy                           1.00       142\n",
      "    macro avg       1.00      1.00      1.00       142\n",
      " weighted avg       1.00      1.00      1.00       142\n",
      "\n"
     ]
    }
   ],
   "source": [
    "# fit the model with data\n",
    "model4.fit(X_train, y_train)\n",
    "\n",
    "xgb_pred = model4.predict(X_test)\n",
    "\n",
    "print(\"XGB Train Accuracy:\",model4.score(X_train, y_train))\n",
    "print(\"XGB Test Accuracy:\",model4.score(X_test, y_test))\n",
    "target_names = ['reputable', 'non reputable']\n",
    "print(classification_report(y_test, xgb_pred, target_names=target_names))"
   ]
  },
  {
   "cell_type": "markdown",
   "metadata": {},
   "source": [
    "### KNN"
   ]
  },
  {
   "cell_type": "code",
   "execution_count": 163,
   "metadata": {},
   "outputs": [
    {
     "name": "stdout",
     "output_type": "stream",
     "text": [
      "Mean AUC Score - K-Nearest Neighbors:  1.0\n"
     ]
    }
   ],
   "source": [
    "from sklearn.neighbors import KNeighborsClassifier\n",
    "model5 = KNeighborsClassifier()\n",
    "cross_val = KFold(n_splits=5, random_state=16, shuffle=True)\n",
    "scores = cross_val_score(model5, X_train, y_train, cv=cross_val, scoring='roc_auc')\n",
    "print(\"Mean AUC Score - K-Nearest Neighbors: \", scores.mean())"
   ]
  },
  {
   "cell_type": "code",
   "execution_count": 164,
   "metadata": {},
   "outputs": [
    {
     "name": "stdout",
     "output_type": "stream",
     "text": [
      "KNN Train Accuracy: 1.0\n",
      "KNN Test Accuracy: 1.0\n"
     ]
    }
   ],
   "source": [
    "# fit the model with data\n",
    "model5.fit(X_train, y_train)\n",
    "\n",
    "k_pred = model5.predict(X_test)\n",
    "\n",
    "print(\"KNN Train Accuracy:\",model5.score(X_train, y_train))\n",
    "print(\"KNN Test Accuracy:\",model5.score(X_test, y_test))"
   ]
  },
  {
   "cell_type": "code",
   "execution_count": 170,
   "metadata": {},
   "outputs": [
    {
     "name": "stdout",
     "output_type": "stream",
     "text": [
      "LogReg Train Accuracy: 0.5416666666666666\n",
      "LogReg Test Accuracy: 0.575\n"
     ]
    }
   ],
   "source": [
    "print(\"LogReg Train Accuracy:\",model1.score(A_train, b_train))\n",
    "print(\"LogReg Test Accuracy:\",model1.score(A_test, b_test))"
   ]
  },
  {
   "cell_type": "markdown",
   "metadata": {},
   "source": [
    "# Save model"
   ]
  },
  {
   "cell_type": "code",
   "execution_count": 166,
   "metadata": {},
   "outputs": [],
   "source": [
    "# import pickle\n",
    "\n",
    "# pickle.dump(LP_knn, open('LP_knn_Model', 'wb'))"
   ]
  }
 ],
 "metadata": {
  "kernelspec": {
   "display_name": "Python 3.10.0 64-bit",
   "language": "python",
   "name": "python3"
  },
  "language_info": {
   "codemirror_mode": {
    "name": "ipython",
    "version": 3
   },
   "file_extension": ".py",
   "mimetype": "text/x-python",
   "name": "python",
   "nbconvert_exporter": "python",
   "pygments_lexer": "ipython3",
   "version": "3.10.1"
  },
  "orig_nbformat": 4,
  "vscode": {
   "interpreter": {
    "hash": "369f2c481f4da34e4445cda3fffd2e751bd1c4d706f27375911949ba6bb62e1c"
   }
  }
 },
 "nbformat": 4,
 "nbformat_minor": 2
}
