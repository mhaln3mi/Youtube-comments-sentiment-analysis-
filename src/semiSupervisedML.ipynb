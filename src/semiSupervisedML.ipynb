{
 "cells": [
  {
   "cell_type": "markdown",
   "metadata": {},
   "source": [
    "### Importing libraries "
   ]
  },
  {
   "cell_type": "code",
   "execution_count": 254,
   "metadata": {},
   "outputs": [],
   "source": [
    "import pandas as pd\n",
    "import seaborn as sns\n",
    "import numpy as np\n",
    "from dateutil import parser\n",
    "import matplotlib.pyplot as plt"
   ]
  },
  {
   "cell_type": "markdown",
   "metadata": {},
   "source": [
    "### Importing Data"
   ]
  },
  {
   "cell_type": "code",
   "execution_count": 255,
   "metadata": {},
   "outputs": [],
   "source": [
    "df = pd.read_csv('../data/ytdataframe.csv')\n",
    "\n",
    "dff = pd.read_csv('../data/ytlabeled.csv')\n"
   ]
  },
  {
   "cell_type": "code",
   "execution_count": 256,
   "metadata": {},
   "outputs": [
    {
     "data": {
      "text/html": [
       "<div>\n",
       "<style scoped>\n",
       "    .dataframe tbody tr th:only-of-type {\n",
       "        vertical-align: middle;\n",
       "    }\n",
       "\n",
       "    .dataframe tbody tr th {\n",
       "        vertical-align: top;\n",
       "    }\n",
       "\n",
       "    .dataframe thead th {\n",
       "        text-align: right;\n",
       "    }\n",
       "</style>\n",
       "<table border=\"1\" class=\"dataframe\">\n",
       "  <thead>\n",
       "    <tr style=\"text-align: right;\">\n",
       "      <th></th>\n",
       "      <th>Unnamed: 0</th>\n",
       "      <th>video_id</th>\n",
       "      <th>channelTitle</th>\n",
       "      <th>title</th>\n",
       "      <th>description</th>\n",
       "      <th>tags</th>\n",
       "      <th>publishedAt</th>\n",
       "      <th>viewCount</th>\n",
       "      <th>likeCount</th>\n",
       "      <th>favouriteCount</th>\n",
       "      <th>commentCount</th>\n",
       "      <th>duration</th>\n",
       "      <th>definition</th>\n",
       "      <th>caption</th>\n",
       "      <th>subscribers</th>\n",
       "      <th>totalViews</th>\n",
       "      <th>totalVideos</th>\n",
       "      <th>avg polarity score</th>\n",
       "      <th>Label</th>\n",
       "    </tr>\n",
       "  </thead>\n",
       "  <tbody>\n",
       "    <tr>\n",
       "      <th>0</th>\n",
       "      <td>0</td>\n",
       "      <td>-SejlHOXexc</td>\n",
       "      <td>Tech Tutorial</td>\n",
       "      <td>How to download facebook stories in your phone</td>\n",
       "      <td>Hey friends today we have another great topic ...</td>\n",
       "      <td>['facebook stories in your phone', 'download f...</td>\n",
       "      <td>2019-11-02T14:25:35Z</td>\n",
       "      <td>969772</td>\n",
       "      <td>11114</td>\n",
       "      <td>NaN</td>\n",
       "      <td>338</td>\n",
       "      <td>PT3M55S</td>\n",
       "      <td>hd</td>\n",
       "      <td>False</td>\n",
       "      <td>140000</td>\n",
       "      <td>8679674</td>\n",
       "      <td>161</td>\n",
       "      <td>0.008202</td>\n",
       "      <td>non reputable</td>\n",
       "    </tr>\n",
       "    <tr>\n",
       "      <th>1</th>\n",
       "      <td>1</td>\n",
       "      <td>set4Kr8hX0w</td>\n",
       "      <td>Tech Tutorial</td>\n",
       "      <td>How to check whatsapp lastseen if hidden or bl...</td>\n",
       "      <td>Hello  friends welcome to my channel Our today...</td>\n",
       "      <td>['How to check whatsapp lastseen if hidden or ...</td>\n",
       "      <td>2018-01-20T15:35:36Z</td>\n",
       "      <td>1480465</td>\n",
       "      <td>11945</td>\n",
       "      <td>NaN</td>\n",
       "      <td>860</td>\n",
       "      <td>PT4M44S</td>\n",
       "      <td>hd</td>\n",
       "      <td>False</td>\n",
       "      <td>140000</td>\n",
       "      <td>8679674</td>\n",
       "      <td>161</td>\n",
       "      <td>0.298687</td>\n",
       "      <td>non reputable</td>\n",
       "    </tr>\n",
       "    <tr>\n",
       "      <th>2</th>\n",
       "      <td>2</td>\n",
       "      <td>s4EYU1ptpIs</td>\n",
       "      <td>Tech Tutorial</td>\n",
       "      <td>How to change voice during call | Male female ...</td>\n",
       "      <td>Hey friends today we have another great topic ...</td>\n",
       "      <td>['How to change voice during call', 'voice cha...</td>\n",
       "      <td>2021-11-30T17:37:11Z</td>\n",
       "      <td>553266</td>\n",
       "      <td>9277</td>\n",
       "      <td>NaN</td>\n",
       "      <td>335</td>\n",
       "      <td>PT5M21S</td>\n",
       "      <td>hd</td>\n",
       "      <td>False</td>\n",
       "      <td>140000</td>\n",
       "      <td>8679674</td>\n",
       "      <td>161</td>\n",
       "      <td>0.295888</td>\n",
       "      <td>non reputable</td>\n",
       "    </tr>\n",
       "    <tr>\n",
       "      <th>3</th>\n",
       "      <td>3</td>\n",
       "      <td>-lcPJAa6trw</td>\n",
       "      <td>Tech Tutorial</td>\n",
       "      <td>How to check who read my message in whatsapp g...</td>\n",
       "      <td>Hey friends today we have another great topic ...</td>\n",
       "      <td>['how to check who read message in whatsapp gr...</td>\n",
       "      <td>2018-05-07T15:12:51Z</td>\n",
       "      <td>324099</td>\n",
       "      <td>5371</td>\n",
       "      <td>NaN</td>\n",
       "      <td>266</td>\n",
       "      <td>PT3M</td>\n",
       "      <td>hd</td>\n",
       "      <td>False</td>\n",
       "      <td>140000</td>\n",
       "      <td>8679674</td>\n",
       "      <td>161</td>\n",
       "      <td>0.296792</td>\n",
       "      <td>non reputable</td>\n",
       "    </tr>\n",
       "    <tr>\n",
       "      <th>4</th>\n",
       "      <td>4</td>\n",
       "      <td>G1F6W7QhrWU</td>\n",
       "      <td>Tech Tutorial</td>\n",
       "      <td>How to Record Messenger calls -facebook messen...</td>\n",
       "      <td>Hey friends today we have another great topic ...</td>\n",
       "      <td>['How to Record Messenger calls', 'facebook me...</td>\n",
       "      <td>2021-10-07T16:18:54Z</td>\n",
       "      <td>43140</td>\n",
       "      <td>327</td>\n",
       "      <td>NaN</td>\n",
       "      <td>23</td>\n",
       "      <td>PT4M23S</td>\n",
       "      <td>hd</td>\n",
       "      <td>False</td>\n",
       "      <td>140000</td>\n",
       "      <td>8679674</td>\n",
       "      <td>161</td>\n",
       "      <td>0.296837</td>\n",
       "      <td>non reputable</td>\n",
       "    </tr>\n",
       "  </tbody>\n",
       "</table>\n",
       "</div>"
      ],
      "text/plain": [
       "   Unnamed: 0     video_id   channelTitle  \\\n",
       "0           0  -SejlHOXexc  Tech Tutorial   \n",
       "1           1  set4Kr8hX0w  Tech Tutorial   \n",
       "2           2  s4EYU1ptpIs  Tech Tutorial   \n",
       "3           3  -lcPJAa6trw  Tech Tutorial   \n",
       "4           4  G1F6W7QhrWU  Tech Tutorial   \n",
       "\n",
       "                                               title  \\\n",
       "0     How to download facebook stories in your phone   \n",
       "1  How to check whatsapp lastseen if hidden or bl...   \n",
       "2  How to change voice during call | Male female ...   \n",
       "3  How to check who read my message in whatsapp g...   \n",
       "4  How to Record Messenger calls -facebook messen...   \n",
       "\n",
       "                                         description  \\\n",
       "0  Hey friends today we have another great topic ...   \n",
       "1  Hello  friends welcome to my channel Our today...   \n",
       "2  Hey friends today we have another great topic ...   \n",
       "3  Hey friends today we have another great topic ...   \n",
       "4  Hey friends today we have another great topic ...   \n",
       "\n",
       "                                                tags           publishedAt  \\\n",
       "0  ['facebook stories in your phone', 'download f...  2019-11-02T14:25:35Z   \n",
       "1  ['How to check whatsapp lastseen if hidden or ...  2018-01-20T15:35:36Z   \n",
       "2  ['How to change voice during call', 'voice cha...  2021-11-30T17:37:11Z   \n",
       "3  ['how to check who read message in whatsapp gr...  2018-05-07T15:12:51Z   \n",
       "4  ['How to Record Messenger calls', 'facebook me...  2021-10-07T16:18:54Z   \n",
       "\n",
       "   viewCount  likeCount  favouriteCount  commentCount duration definition  \\\n",
       "0     969772      11114             NaN           338  PT3M55S         hd   \n",
       "1    1480465      11945             NaN           860  PT4M44S         hd   \n",
       "2     553266       9277             NaN           335  PT5M21S         hd   \n",
       "3     324099       5371             NaN           266     PT3M         hd   \n",
       "4      43140        327             NaN            23  PT4M23S         hd   \n",
       "\n",
       "   caption  subscribers  totalViews  totalVideos  avg polarity score  \\\n",
       "0    False       140000     8679674          161            0.008202   \n",
       "1    False       140000     8679674          161            0.298687   \n",
       "2    False       140000     8679674          161            0.295888   \n",
       "3    False       140000     8679674          161            0.296792   \n",
       "4    False       140000     8679674          161            0.296837   \n",
       "\n",
       "           Label  \n",
       "0  non reputable  \n",
       "1  non reputable  \n",
       "2  non reputable  \n",
       "3  non reputable  \n",
       "4  non reputable  "
      ]
     },
     "execution_count": 256,
     "metadata": {},
     "output_type": "execute_result"
    }
   ],
   "source": [
    "df.head(5)"
   ]
  },
  {
   "cell_type": "code",
   "execution_count": 257,
   "metadata": {},
   "outputs": [
    {
     "data": {
      "text/html": [
       "<div>\n",
       "<style scoped>\n",
       "    .dataframe tbody tr th:only-of-type {\n",
       "        vertical-align: middle;\n",
       "    }\n",
       "\n",
       "    .dataframe tbody tr th {\n",
       "        vertical-align: top;\n",
       "    }\n",
       "\n",
       "    .dataframe thead th {\n",
       "        text-align: right;\n",
       "    }\n",
       "</style>\n",
       "<table border=\"1\" class=\"dataframe\">\n",
       "  <thead>\n",
       "    <tr style=\"text-align: right;\">\n",
       "      <th></th>\n",
       "      <th>Unnamed: 0</th>\n",
       "      <th>viewCount</th>\n",
       "      <th>likeCount</th>\n",
       "      <th>favouriteCount</th>\n",
       "      <th>commentCount</th>\n",
       "      <th>subscribers</th>\n",
       "      <th>totalViews</th>\n",
       "      <th>totalVideos</th>\n",
       "      <th>avg polarity score</th>\n",
       "    </tr>\n",
       "  </thead>\n",
       "  <tbody>\n",
       "    <tr>\n",
       "      <th>count</th>\n",
       "      <td>160.000000</td>\n",
       "      <td>1.600000e+02</td>\n",
       "      <td>160.000000</td>\n",
       "      <td>0.0</td>\n",
       "      <td>160.000000</td>\n",
       "      <td>1.600000e+02</td>\n",
       "      <td>1.600000e+02</td>\n",
       "      <td>160.00000</td>\n",
       "      <td>160.000000</td>\n",
       "    </tr>\n",
       "    <tr>\n",
       "      <th>mean</th>\n",
       "      <td>79.500000</td>\n",
       "      <td>3.921978e+05</td>\n",
       "      <td>8944.556250</td>\n",
       "      <td>NaN</td>\n",
       "      <td>392.837500</td>\n",
       "      <td>6.775978e+05</td>\n",
       "      <td>4.409150e+07</td>\n",
       "      <td>4838.20000</td>\n",
       "      <td>0.338064</td>\n",
       "    </tr>\n",
       "    <tr>\n",
       "      <th>std</th>\n",
       "      <td>46.332134</td>\n",
       "      <td>9.824008e+05</td>\n",
       "      <td>21245.524519</td>\n",
       "      <td>NaN</td>\n",
       "      <td>824.083412</td>\n",
       "      <td>1.298546e+06</td>\n",
       "      <td>8.267774e+07</td>\n",
       "      <td>38076.02125</td>\n",
       "      <td>0.092491</td>\n",
       "    </tr>\n",
       "    <tr>\n",
       "      <th>min</th>\n",
       "      <td>0.000000</td>\n",
       "      <td>1.880000e+02</td>\n",
       "      <td>2.000000</td>\n",
       "      <td>NaN</td>\n",
       "      <td>0.000000</td>\n",
       "      <td>8.000000e+00</td>\n",
       "      <td>4.940000e+02</td>\n",
       "      <td>4.00000</td>\n",
       "      <td>0.000000</td>\n",
       "    </tr>\n",
       "    <tr>\n",
       "      <th>25%</th>\n",
       "      <td>39.750000</td>\n",
       "      <td>1.285625e+04</td>\n",
       "      <td>102.000000</td>\n",
       "      <td>NaN</td>\n",
       "      <td>18.750000</td>\n",
       "      <td>4.270000e+03</td>\n",
       "      <td>5.641192e+05</td>\n",
       "      <td>81.00000</td>\n",
       "      <td>0.316482</td>\n",
       "    </tr>\n",
       "    <tr>\n",
       "      <th>50%</th>\n",
       "      <td>79.500000</td>\n",
       "      <td>5.631750e+04</td>\n",
       "      <td>1315.000000</td>\n",
       "      <td>NaN</td>\n",
       "      <td>133.000000</td>\n",
       "      <td>1.400000e+05</td>\n",
       "      <td>8.679674e+06</td>\n",
       "      <td>218.00000</td>\n",
       "      <td>0.340861</td>\n",
       "    </tr>\n",
       "    <tr>\n",
       "      <th>75%</th>\n",
       "      <td>119.250000</td>\n",
       "      <td>2.704578e+05</td>\n",
       "      <td>8275.250000</td>\n",
       "      <td>NaN</td>\n",
       "      <td>360.750000</td>\n",
       "      <td>6.430000e+05</td>\n",
       "      <td>5.953507e+07</td>\n",
       "      <td>682.75000</td>\n",
       "      <td>0.342008</td>\n",
       "    </tr>\n",
       "    <tr>\n",
       "      <th>max</th>\n",
       "      <td>159.000000</td>\n",
       "      <td>8.147308e+06</td>\n",
       "      <td>146382.000000</td>\n",
       "      <td>NaN</td>\n",
       "      <td>5373.000000</td>\n",
       "      <td>6.130000e+06</td>\n",
       "      <td>4.108876e+08</td>\n",
       "      <td>342151.00000</td>\n",
       "      <td>0.865800</td>\n",
       "    </tr>\n",
       "  </tbody>\n",
       "</table>\n",
       "</div>"
      ],
      "text/plain": [
       "       Unnamed: 0     viewCount      likeCount  favouriteCount  commentCount  \\\n",
       "count  160.000000  1.600000e+02     160.000000             0.0    160.000000   \n",
       "mean    79.500000  3.921978e+05    8944.556250             NaN    392.837500   \n",
       "std     46.332134  9.824008e+05   21245.524519             NaN    824.083412   \n",
       "min      0.000000  1.880000e+02       2.000000             NaN      0.000000   \n",
       "25%     39.750000  1.285625e+04     102.000000             NaN     18.750000   \n",
       "50%     79.500000  5.631750e+04    1315.000000             NaN    133.000000   \n",
       "75%    119.250000  2.704578e+05    8275.250000             NaN    360.750000   \n",
       "max    159.000000  8.147308e+06  146382.000000             NaN   5373.000000   \n",
       "\n",
       "        subscribers    totalViews   totalVideos  avg polarity score  \n",
       "count  1.600000e+02  1.600000e+02     160.00000          160.000000  \n",
       "mean   6.775978e+05  4.409150e+07    4838.20000            0.338064  \n",
       "std    1.298546e+06  8.267774e+07   38076.02125            0.092491  \n",
       "min    8.000000e+00  4.940000e+02       4.00000            0.000000  \n",
       "25%    4.270000e+03  5.641192e+05      81.00000            0.316482  \n",
       "50%    1.400000e+05  8.679674e+06     218.00000            0.340861  \n",
       "75%    6.430000e+05  5.953507e+07     682.75000            0.342008  \n",
       "max    6.130000e+06  4.108876e+08  342151.00000            0.865800  "
      ]
     },
     "execution_count": 257,
     "metadata": {},
     "output_type": "execute_result"
    }
   ],
   "source": [
    "df.describe()"
   ]
  },
  {
   "cell_type": "code",
   "execution_count": 258,
   "metadata": {},
   "outputs": [
    {
     "name": "stdout",
     "output_type": "stream",
     "text": [
      "<class 'pandas.core.frame.DataFrame'>\n",
      "RangeIndex: 160 entries, 0 to 159\n",
      "Data columns (total 19 columns):\n",
      " #   Column              Non-Null Count  Dtype  \n",
      "---  ------              --------------  -----  \n",
      " 0   Unnamed: 0          160 non-null    int64  \n",
      " 1   video_id            160 non-null    object \n",
      " 2   channelTitle        160 non-null    object \n",
      " 3   title               160 non-null    object \n",
      " 4   description         160 non-null    object \n",
      " 5   tags                145 non-null    object \n",
      " 6   publishedAt         160 non-null    object \n",
      " 7   viewCount           160 non-null    int64  \n",
      " 8   likeCount           160 non-null    int64  \n",
      " 9   favouriteCount      0 non-null      float64\n",
      " 10  commentCount        160 non-null    int64  \n",
      " 11  duration            160 non-null    object \n",
      " 12  definition          160 non-null    object \n",
      " 13  caption             160 non-null    bool   \n",
      " 14  subscribers         160 non-null    int64  \n",
      " 15  totalViews          160 non-null    int64  \n",
      " 16  totalVideos         160 non-null    int64  \n",
      " 17  avg polarity score  160 non-null    float64\n",
      " 18  Label               160 non-null    object \n",
      "dtypes: bool(1), float64(2), int64(7), object(9)\n",
      "memory usage: 22.8+ KB\n"
     ]
    }
   ],
   "source": [
    "df.info()"
   ]
  },
  {
   "cell_type": "code",
   "execution_count": 259,
   "metadata": {},
   "outputs": [
    {
     "data": {
      "text/html": [
       "<div>\n",
       "<style scoped>\n",
       "    .dataframe tbody tr th:only-of-type {\n",
       "        vertical-align: middle;\n",
       "    }\n",
       "\n",
       "    .dataframe tbody tr th {\n",
       "        vertical-align: top;\n",
       "    }\n",
       "\n",
       "    .dataframe thead th {\n",
       "        text-align: right;\n",
       "    }\n",
       "</style>\n",
       "<table border=\"1\" class=\"dataframe\">\n",
       "  <thead>\n",
       "    <tr style=\"text-align: right;\">\n",
       "      <th></th>\n",
       "      <th>Unnamed: 0.6</th>\n",
       "      <th>Unnamed: 0.5</th>\n",
       "      <th>Unnamed: 0.4</th>\n",
       "      <th>Unnamed: 0.3</th>\n",
       "      <th>Unnamed: 0.2</th>\n",
       "      <th>video_id</th>\n",
       "      <th>avg polarity score</th>\n",
       "      <th>channelTitle</th>\n",
       "      <th>title</th>\n",
       "      <th>description</th>\n",
       "      <th>...</th>\n",
       "      <th>likeCount</th>\n",
       "      <th>favouriteCount</th>\n",
       "      <th>commentCount</th>\n",
       "      <th>duration</th>\n",
       "      <th>definition</th>\n",
       "      <th>caption</th>\n",
       "      <th>subscribers</th>\n",
       "      <th>totalViews</th>\n",
       "      <th>totalVideos</th>\n",
       "      <th>Label</th>\n",
       "    </tr>\n",
       "  </thead>\n",
       "  <tbody>\n",
       "    <tr>\n",
       "      <th>0</th>\n",
       "      <td>0</td>\n",
       "      <td>0</td>\n",
       "      <td>0.0</td>\n",
       "      <td>0.0</td>\n",
       "      <td>0.0</td>\n",
       "      <td>jGwO_UgTS7I</td>\n",
       "      <td>0.277473</td>\n",
       "      <td>Stanford Online</td>\n",
       "      <td>Stanford CS229: Machine Learning Course, Lectu...</td>\n",
       "      <td>For more information about Stanford’s Artifici...</td>\n",
       "      <td>...</td>\n",
       "      <td>18797</td>\n",
       "      <td>NaN</td>\n",
       "      <td>76</td>\n",
       "      <td>PT1H15M20S</td>\n",
       "      <td>hd</td>\n",
       "      <td>True</td>\n",
       "      <td>369000</td>\n",
       "      <td>20517888</td>\n",
       "      <td>1850</td>\n",
       "      <td>0</td>\n",
       "    </tr>\n",
       "    <tr>\n",
       "      <th>1</th>\n",
       "      <td>1</td>\n",
       "      <td>1</td>\n",
       "      <td>1.0</td>\n",
       "      <td>1.0</td>\n",
       "      <td>1.0</td>\n",
       "      <td>4b4MUYve_U8</td>\n",
       "      <td>0.234844</td>\n",
       "      <td>Stanford Online</td>\n",
       "      <td>Stanford CS229: Machine Learning - Linear Regr...</td>\n",
       "      <td>For more information about Stanford’s Artifici...</td>\n",
       "      <td>...</td>\n",
       "      <td>6564</td>\n",
       "      <td>NaN</td>\n",
       "      <td>31</td>\n",
       "      <td>PT1H18M17S</td>\n",
       "      <td>hd</td>\n",
       "      <td>True</td>\n",
       "      <td>369000</td>\n",
       "      <td>20517888</td>\n",
       "      <td>1850</td>\n",
       "      <td>0</td>\n",
       "    </tr>\n",
       "    <tr>\n",
       "      <th>2</th>\n",
       "      <td>2</td>\n",
       "      <td>2</td>\n",
       "      <td>2.0</td>\n",
       "      <td>2.0</td>\n",
       "      <td>2.0</td>\n",
       "      <td>het9HFqo1TQ</td>\n",
       "      <td>0.236257</td>\n",
       "      <td>Stanford Online</td>\n",
       "      <td>Locally Weighted &amp; Logistic Regression | Stanf...</td>\n",
       "      <td>For more information about Stanford’s Artifici...</td>\n",
       "      <td>...</td>\n",
       "      <td>2629</td>\n",
       "      <td>NaN</td>\n",
       "      <td>10</td>\n",
       "      <td>PT1H19M34S</td>\n",
       "      <td>hd</td>\n",
       "      <td>True</td>\n",
       "      <td>369000</td>\n",
       "      <td>20517888</td>\n",
       "      <td>1850</td>\n",
       "      <td>0</td>\n",
       "    </tr>\n",
       "    <tr>\n",
       "      <th>3</th>\n",
       "      <td>3</td>\n",
       "      <td>3</td>\n",
       "      <td>3.0</td>\n",
       "      <td>3.0</td>\n",
       "      <td>3.0</td>\n",
       "      <td>iZTeva0WSTQ</td>\n",
       "      <td>0.237893</td>\n",
       "      <td>Stanford Online</td>\n",
       "      <td>Lecture 4 - Perceptron &amp; Generalized Linear Mo...</td>\n",
       "      <td>For more information about Stanford’s Artifici...</td>\n",
       "      <td>...</td>\n",
       "      <td>1091</td>\n",
       "      <td>NaN</td>\n",
       "      <td>3</td>\n",
       "      <td>PT1H22M2S</td>\n",
       "      <td>hd</td>\n",
       "      <td>True</td>\n",
       "      <td>369000</td>\n",
       "      <td>20517888</td>\n",
       "      <td>1850</td>\n",
       "      <td>0</td>\n",
       "    </tr>\n",
       "    <tr>\n",
       "      <th>4</th>\n",
       "      <td>4</td>\n",
       "      <td>4</td>\n",
       "      <td>4.0</td>\n",
       "      <td>4.0</td>\n",
       "      <td>4.0</td>\n",
       "      <td>nt63k3bfXS0</td>\n",
       "      <td>0.244639</td>\n",
       "      <td>Stanford Online</td>\n",
       "      <td>Lecture 5 - GDA &amp; Naive Bayes | Stanford CS229...</td>\n",
       "      <td>For more information about Stanford’s Artifici...</td>\n",
       "      <td>...</td>\n",
       "      <td>1291</td>\n",
       "      <td>NaN</td>\n",
       "      <td>8</td>\n",
       "      <td>PT1H18M52S</td>\n",
       "      <td>hd</td>\n",
       "      <td>True</td>\n",
       "      <td>369000</td>\n",
       "      <td>20517888</td>\n",
       "      <td>1850</td>\n",
       "      <td>0</td>\n",
       "    </tr>\n",
       "  </tbody>\n",
       "</table>\n",
       "<p>5 rows × 23 columns</p>\n",
       "</div>"
      ],
      "text/plain": [
       "   Unnamed: 0.6  Unnamed: 0.5  Unnamed: 0.4  Unnamed: 0.3  Unnamed: 0.2  \\\n",
       "0             0             0           0.0           0.0           0.0   \n",
       "1             1             1           1.0           1.0           1.0   \n",
       "2             2             2           2.0           2.0           2.0   \n",
       "3             3             3           3.0           3.0           3.0   \n",
       "4             4             4           4.0           4.0           4.0   \n",
       "\n",
       "      video_id  avg polarity score     channelTitle  \\\n",
       "0  jGwO_UgTS7I            0.277473  Stanford Online   \n",
       "1  4b4MUYve_U8            0.234844  Stanford Online   \n",
       "2  het9HFqo1TQ            0.236257  Stanford Online   \n",
       "3  iZTeva0WSTQ            0.237893  Stanford Online   \n",
       "4  nt63k3bfXS0            0.244639  Stanford Online   \n",
       "\n",
       "                                               title  \\\n",
       "0  Stanford CS229: Machine Learning Course, Lectu...   \n",
       "1  Stanford CS229: Machine Learning - Linear Regr...   \n",
       "2  Locally Weighted & Logistic Regression | Stanf...   \n",
       "3  Lecture 4 - Perceptron & Generalized Linear Mo...   \n",
       "4  Lecture 5 - GDA & Naive Bayes | Stanford CS229...   \n",
       "\n",
       "                                         description  ... likeCount  \\\n",
       "0  For more information about Stanford’s Artifici...  ...     18797   \n",
       "1  For more information about Stanford’s Artifici...  ...      6564   \n",
       "2  For more information about Stanford’s Artifici...  ...      2629   \n",
       "3  For more information about Stanford’s Artifici...  ...      1091   \n",
       "4  For more information about Stanford’s Artifici...  ...      1291   \n",
       "\n",
       "  favouriteCount  commentCount    duration  definition  caption subscribers  \\\n",
       "0            NaN            76  PT1H15M20S          hd     True      369000   \n",
       "1            NaN            31  PT1H18M17S          hd     True      369000   \n",
       "2            NaN            10  PT1H19M34S          hd     True      369000   \n",
       "3            NaN             3   PT1H22M2S          hd     True      369000   \n",
       "4            NaN             8  PT1H18M52S          hd     True      369000   \n",
       "\n",
       "  totalViews  totalVideos  Label  \n",
       "0   20517888         1850      0  \n",
       "1   20517888         1850      0  \n",
       "2   20517888         1850      0  \n",
       "3   20517888         1850      0  \n",
       "4   20517888         1850      0  \n",
       "\n",
       "[5 rows x 23 columns]"
      ]
     },
     "execution_count": 259,
     "metadata": {},
     "output_type": "execute_result"
    }
   ],
   "source": [
    "dff = dff.drop(['Unnamed: 0.1', 'Unnamed: 0'], axis=1)\n",
    "dff.head()"
   ]
  },
  {
   "cell_type": "markdown",
   "metadata": {},
   "source": [
    "# Data preprocessing & EDA"
   ]
  },
  {
   "cell_type": "markdown",
   "metadata": {},
   "source": [
    "Checking duplicates"
   ]
  },
  {
   "cell_type": "code",
   "execution_count": 260,
   "metadata": {},
   "outputs": [
    {
     "data": {
      "text/plain": [
       "0"
      ]
     },
     "execution_count": 260,
     "metadata": {},
     "output_type": "execute_result"
    }
   ],
   "source": [
    "df.duplicated().sum()\n"
   ]
  },
  {
   "cell_type": "code",
   "execution_count": 261,
   "metadata": {},
   "outputs": [
    {
     "data": {
      "text/plain": [
       "(160, 19)"
      ]
     },
     "execution_count": 261,
     "metadata": {},
     "output_type": "execute_result"
    }
   ],
   "source": [
    "df = df.drop_duplicates()\n",
    "df.shape"
   ]
  },
  {
   "cell_type": "markdown",
   "metadata": {},
   "source": [
    "Checking null values"
   ]
  },
  {
   "cell_type": "code",
   "execution_count": 262,
   "metadata": {},
   "outputs": [
    {
     "data": {
      "text/plain": [
       "Unnamed: 0              0\n",
       "video_id                0\n",
       "channelTitle            0\n",
       "title                   0\n",
       "description             0\n",
       "tags                   15\n",
       "publishedAt             0\n",
       "viewCount               0\n",
       "likeCount               0\n",
       "favouriteCount        160\n",
       "commentCount            0\n",
       "duration                0\n",
       "definition              0\n",
       "caption                 0\n",
       "subscribers             0\n",
       "totalViews              0\n",
       "totalVideos             0\n",
       "avg polarity score      0\n",
       "Label                   0\n",
       "dtype: int64"
      ]
     },
     "execution_count": 262,
     "metadata": {},
     "output_type": "execute_result"
    }
   ],
   "source": [
    "df.isnull().sum()\n"
   ]
  },
  {
   "cell_type": "markdown",
   "metadata": {},
   "source": [
    "Convert publish date to year"
   ]
  },
  {
   "cell_type": "code",
   "execution_count": 263,
   "metadata": {},
   "outputs": [],
   "source": [
    "df['publishedAt'] = df['publishedAt'].apply(lambda x: parser.parse(x)) \n",
    "df['pushblishYear'] = df['publishedAt'].apply(lambda x: x.strftime(\"%Y\"))\n",
    "\n",
    "dff['publishedAt'] = dff['publishedAt'].apply(lambda x: parser.parse(x)) \n",
    "dff['pushblishYear'] = dff['publishedAt'].apply(lambda x: x.strftime(\"%Y\"))"
   ]
  },
  {
   "cell_type": "markdown",
   "metadata": {},
   "source": [
    "Convert count columns to numeric"
   ]
  },
  {
   "cell_type": "code",
   "execution_count": 264,
   "metadata": {},
   "outputs": [],
   "source": [
    "numeric_cols = ['viewCount', 'likeCount', 'commentCount', 'pushblishYear']\n",
    "\n",
    "df[numeric_cols] = df[numeric_cols].apply(pd.to_numeric, errors = 'coerce', axis = 1)\n",
    "\n",
    "dff[numeric_cols] = dff[numeric_cols].apply(pd.to_numeric, errors = 'coerce', axis = 1)"
   ]
  },
  {
   "cell_type": "markdown",
   "metadata": {},
   "source": [
    "### Features engineering "
   ]
  },
  {
   "cell_type": "markdown",
   "metadata": {},
   "source": [
    "Convert duration to seconds"
   ]
  },
  {
   "cell_type": "code",
   "execution_count": 265,
   "metadata": {},
   "outputs": [],
   "source": [
    "import isodate\n",
    "df['durationSecs'] = df['duration'].apply(lambda x: isodate.parse_duration(x))\n",
    "df['durationSecs'] = df['durationSecs'].astype('timedelta64[s]')\n",
    "\n",
    "dff['durationSecs'] = dff['duration'].apply(lambda x: isodate.parse_duration(x))\n",
    "dff['durationSecs'] = dff['durationSecs'].astype('timedelta64[s]')"
   ]
  },
  {
   "cell_type": "markdown",
   "metadata": {},
   "source": [
    "Add tag count"
   ]
  },
  {
   "cell_type": "code",
   "execution_count": 266,
   "metadata": {},
   "outputs": [],
   "source": [
    "\n",
    "\n",
    "df['tagCount'] = df['tags'].apply(lambda x: 0 if x is np.nan else len(x))\n",
    "\n",
    "dff['tagCount'] = dff['tags'].apply(lambda x: 0 if x is np.nan else len(x))"
   ]
  },
  {
   "cell_type": "markdown",
   "metadata": {},
   "source": [
    "Add title and description length"
   ]
  },
  {
   "cell_type": "code",
   "execution_count": 267,
   "metadata": {},
   "outputs": [],
   "source": [
    "df['title length'] = df['title'].apply(lambda x: 0 if x is np.nan else len(x))\n",
    "df['description length'] = df['description'].apply(lambda x: 0 if x is np.nan else len(x))\n",
    "\n",
    "dff['title length'] = dff['title'].apply(lambda x: 0 if x is np.nan else len(x))\n",
    "dff['description length'] = dff['description'].apply(lambda x: 0 if x is np.nan else len(x))\n"
   ]
  },
  {
   "cell_type": "code",
   "execution_count": 268,
   "metadata": {},
   "outputs": [],
   "source": [
    "dff['Label'] = dff['Label'].apply(lambda x: 'non reputable' if x == 0 else 'reputable')"
   ]
  },
  {
   "cell_type": "code",
   "execution_count": 269,
   "metadata": {},
   "outputs": [],
   "source": [
    "# new_cols = [\"channelTitle\",\"viewCount\",'likeCount','definition','commentCount','caption','subscribers','totalViews','totalVideos','avg polarity score','pushblishYear','durationSecs','tagCount','title length','description length']\n",
    "# dff=dff[new_cols]\n",
    "# #or\n",
    "# dff=dff.reindex(columns=new_cols)"
   ]
  },
  {
   "cell_type": "markdown",
   "metadata": {},
   "source": [
    "Appending data"
   ]
  },
  {
   "cell_type": "code",
   "execution_count": 270,
   "metadata": {},
   "outputs": [
    {
     "name": "stderr",
     "output_type": "stream",
     "text": [
      "C:\\Users\\wled3\\AppData\\Local\\Temp\\ipykernel_34484\\3834822456.py:1: FutureWarning: The frame.append method is deprecated and will be removed from pandas in a future version. Use pandas.concat instead.\n",
      "  df = df.append(dff)\n"
     ]
    },
    {
     "data": {
      "text/plain": [
       "(636, 29)"
      ]
     },
     "execution_count": 270,
     "metadata": {},
     "output_type": "execute_result"
    }
   ],
   "source": [
    "df = df.append(dff)\n",
    "\n",
    "df.shape"
   ]
  },
  {
   "cell_type": "markdown",
   "metadata": {},
   "source": [
    "Dropping columns we wont use"
   ]
  },
  {
   "cell_type": "code",
   "execution_count": 271,
   "metadata": {},
   "outputs": [],
   "source": [
    "df = df.drop(['Unnamed: 0', 'description', 'title', 'publishedAt', 'duration', 'favouriteCount', 'video_id', 'tags'], axis=1)\n",
    "\n"
   ]
  },
  {
   "cell_type": "markdown",
   "metadata": {},
   "source": [
    "### Label distribution "
   ]
  },
  {
   "cell_type": "code",
   "execution_count": 272,
   "metadata": {},
   "outputs": [
    {
     "data": {
      "text/plain": [
       "reputable        429\n",
       "non reputable    207\n",
       "Name: Label, dtype: int64"
      ]
     },
     "execution_count": 272,
     "metadata": {},
     "output_type": "execute_result"
    },
    {
     "data": {
      "image/png": "[encoded data removed]",
      "text/plain": [
       "<Figure size 432x288 with 1 Axes>"
      ]
     },
     "metadata": {
      "needs_background": "light"
     },
     "output_type": "display_data"
    }
   ],
   "source": [
    "sns.countplot(x=\"Label\", data=df)\n",
    "df[\"Label\"].value_counts()"
   ]
  },
  {
   "cell_type": "markdown",
   "metadata": {},
   "source": [
    "Our data is unbalanced so we might need oversampling"
   ]
  },
  {
   "cell_type": "code",
   "execution_count": 273,
   "metadata": {},
   "outputs": [],
   "source": [
    "# sns.scatterplot(x=\"commentCount\", y=\"durationSecs\", hue=\"Label\", data = df)"
   ]
  },
  {
   "cell_type": "code",
   "execution_count": 274,
   "metadata": {},
   "outputs": [
    {
     "name": "stderr",
     "output_type": "stream",
     "text": [
      "c:\\Python310\\lib\\site-packages\\seaborn\\_core.py:1057: FutureWarning: reindexing with a non-unique Index is deprecated and will raise in a future version.\n",
      "  comp_col.loc[orig.index] = pd.to_numeric(axis.convert_units(orig))\n"
     ]
    },
    {
     "data": {
      "image/png": "[encoded data removed]",
      "text/plain": [
       "<Figure size 1080x1296 with 1 Axes>"
      ]
     },
     "metadata": {
      "needs_background": "light"
     },
     "output_type": "display_data"
    }
   ],
   "source": [
    "df_dist = df.select_dtypes([int,float]) \n",
    "fig = plt.figure(figsize=(15, 18)) \n",
    "try:\n",
    "    for i,columns in enumerate(df_dist.columns, 1): \n",
    "        ax = plt.subplot(5,3,i) \n",
    "        sns.kdeplot(x=df_dist[columns])\n",
    "        ax.set_xlabel(None) \n",
    "        ax.set_title(f'{columns}')\n",
    "        plt.tight_layout(w_pad=3) \n",
    "except ValueError as ve:\n",
    "    exit;      \n",
    "plt.show()"
   ]
  },
  {
   "cell_type": "markdown",
   "metadata": {},
   "source": [
    "Label encoding "
   ]
  },
  {
   "cell_type": "code",
   "execution_count": 275,
   "metadata": {},
   "outputs": [
    {
     "data": {
      "text/html": [
       "<div>\n",
       "<style scoped>\n",
       "    .dataframe tbody tr th:only-of-type {\n",
       "        vertical-align: middle;\n",
       "    }\n",
       "\n",
       "    .dataframe tbody tr th {\n",
       "        vertical-align: top;\n",
       "    }\n",
       "\n",
       "    .dataframe thead th {\n",
       "        text-align: right;\n",
       "    }\n",
       "</style>\n",
       "<table border=\"1\" class=\"dataframe\">\n",
       "  <thead>\n",
       "    <tr style=\"text-align: right;\">\n",
       "      <th></th>\n",
       "      <th>channelTitle</th>\n",
       "      <th>viewCount</th>\n",
       "      <th>likeCount</th>\n",
       "      <th>commentCount</th>\n",
       "      <th>definition</th>\n",
       "      <th>caption</th>\n",
       "      <th>subscribers</th>\n",
       "      <th>totalViews</th>\n",
       "      <th>totalVideos</th>\n",
       "      <th>avg polarity score</th>\n",
       "      <th>...</th>\n",
       "      <th>pushblishYear</th>\n",
       "      <th>durationSecs</th>\n",
       "      <th>tagCount</th>\n",
       "      <th>title length</th>\n",
       "      <th>description length</th>\n",
       "      <th>Unnamed: 0.6</th>\n",
       "      <th>Unnamed: 0.5</th>\n",
       "      <th>Unnamed: 0.4</th>\n",
       "      <th>Unnamed: 0.3</th>\n",
       "      <th>Unnamed: 0.2</th>\n",
       "    </tr>\n",
       "  </thead>\n",
       "  <tbody>\n",
       "    <tr>\n",
       "      <th>0</th>\n",
       "      <td>34</td>\n",
       "      <td>969772</td>\n",
       "      <td>11114</td>\n",
       "      <td>338</td>\n",
       "      <td>0</td>\n",
       "      <td>0</td>\n",
       "      <td>140000</td>\n",
       "      <td>8679674</td>\n",
       "      <td>161</td>\n",
       "      <td>0.008202</td>\n",
       "      <td>...</td>\n",
       "      <td>2019</td>\n",
       "      <td>235.0</td>\n",
       "      <td>412</td>\n",
       "      <td>46</td>\n",
       "      <td>1193</td>\n",
       "      <td>NaN</td>\n",
       "      <td>NaN</td>\n",
       "      <td>NaN</td>\n",
       "      <td>NaN</td>\n",
       "      <td>NaN</td>\n",
       "    </tr>\n",
       "  </tbody>\n",
       "</table>\n",
       "<p>1 rows × 21 columns</p>\n",
       "</div>"
      ],
      "text/plain": [
       "   channelTitle  viewCount  likeCount  commentCount  definition  caption  \\\n",
       "0            34     969772      11114           338           0        0   \n",
       "\n",
       "   subscribers  totalViews  totalVideos  avg polarity score  ...  \\\n",
       "0       140000     8679674          161            0.008202  ...   \n",
       "\n",
       "   pushblishYear  durationSecs  tagCount  title length  description length  \\\n",
       "0           2019         235.0       412            46                1193   \n",
       "\n",
       "   Unnamed: 0.6  Unnamed: 0.5  Unnamed: 0.4  Unnamed: 0.3  Unnamed: 0.2  \n",
       "0           NaN           NaN           NaN           NaN           NaN  \n",
       "\n",
       "[1 rows x 21 columns]"
      ]
     },
     "execution_count": 275,
     "metadata": {},
     "output_type": "execute_result"
    }
   ],
   "source": [
    "from sklearn.preprocessing import LabelEncoder\n",
    "\n",
    "le = LabelEncoder()\n",
    "\n",
    "df2 = ['channelTitle', 'definition', 'caption', 'Label']\n",
    "\n",
    "df[df2] = df[df2].apply(le.fit_transform)\n",
    "\n",
    "dffs = ['channelTitle', 'definition', 'caption']\n",
    "dff[dffs] = dff[dffs].apply(le.fit_transform)\n",
    "\n",
    "\n",
    "\n",
    "df.head(1)"
   ]
  },
  {
   "cell_type": "markdown",
   "metadata": {},
   "source": [
    "Correlation map"
   ]
  },
  {
   "cell_type": "code",
   "execution_count": 276,
   "metadata": {},
   "outputs": [
    {
     "data": {
      "text/plain": [
       "<AxesSubplot:>"
      ]
     },
     "execution_count": 276,
     "metadata": {},
     "output_type": "execute_result"
    },
    {
     "data": {
      "image/png": "[encoded data removed]",
      "text/plain": [
       "<Figure size 1152x504 with 2 Axes>"
      ]
     },
     "metadata": {
      "needs_background": "light"
     },
     "output_type": "display_data"
    }
   ],
   "source": [
    "plt.figure(figsize=(16, 7))\n",
    "sns.heatmap(df.corr(), annot = True)"
   ]
  },
  {
   "cell_type": "markdown",
   "metadata": {},
   "source": [
    "Scaling"
   ]
  },
  {
   "cell_type": "code",
   "execution_count": 277,
   "metadata": {},
   "outputs": [],
   "source": [
    "# from sklearn.preprocessing import StandardScaler\n",
    "# scale = StandardScaler()\n",
    "\n",
    "feat_col = ['channelTitle', 'viewCount', 'likeCount', 'definition', 'commentCount', 'caption', 'subscribers', 'totalViews', 'totalVideos', 'avg polarity score', 'pushblishYear', 'durationSecs', 'tagCount', 'description length', 'title length']\n",
    "\n",
    "X = df[feat_col] # Features\n",
    "y = df['Label']# Target variable\n"
   ]
  },
  {
   "cell_type": "markdown",
   "metadata": {},
   "source": [
    "# Modeling"
   ]
  },
  {
   "cell_type": "code",
   "execution_count": 278,
   "metadata": {},
   "outputs": [],
   "source": [
    "import sklearn\n",
    "from sklearn.model_selection import train_test_split\n",
    "from sklearn.linear_model import LogisticRegression"
   ]
  },
  {
   "cell_type": "markdown",
   "metadata": {},
   "source": [
    "Splitting data"
   ]
  },
  {
   "cell_type": "code",
   "execution_count": 279,
   "metadata": {},
   "outputs": [],
   "source": [
    "X_train, X_test, y_train, y_test = train_test_split(X, y, test_size=0.25, random_state=16)"
   ]
  },
  {
   "cell_type": "code",
   "execution_count": 280,
   "metadata": {},
   "outputs": [],
   "source": [
    "# instantiate the model (using the default parameters)\n",
    "logreg = LogisticRegression(random_state=16, max_iter=1000)\n",
    "\n",
    "# fit the model with data\n",
    "logreg.fit(X_train, y_train)\n",
    "\n",
    "y_pred = logreg.predict(X_test)"
   ]
  },
  {
   "cell_type": "code",
   "execution_count": 281,
   "metadata": {},
   "outputs": [
    {
     "name": "stdout",
     "output_type": "stream",
     "text": [
      "               precision    recall  f1-score   support\n",
      "\n",
      "    reputable       0.93      0.91      0.92        45\n",
      "non reputable       0.97      0.97      0.97       114\n",
      "\n",
      "     accuracy                           0.96       159\n",
      "    macro avg       0.95      0.94      0.95       159\n",
      " weighted avg       0.96      0.96      0.96       159\n",
      "\n",
      "Train Accuracy: 0.9371069182389937\n",
      "Test Accuracy: 0.9559748427672956\n"
     ]
    }
   ],
   "source": [
    "from sklearn.metrics import classification_report\n",
    "target_names = ['reputable', 'non reputable']\n",
    "print(classification_report(y_test, y_pred, target_names=target_names))\n",
    "print(\"Train Accuracy:\",logreg.score(X_train, y_train))\n",
    "print(\"Test Accuracy:\",logreg.score(X_test, y_test))"
   ]
  },
  {
   "cell_type": "code",
   "execution_count": 282,
   "metadata": {},
   "outputs": [
    {
     "name": "stdout",
     "output_type": "stream",
     "text": [
      "Mean AUC Score - Logistic Regression:  0.9639710492683397\n"
     ]
    }
   ],
   "source": [
    "from random import shuffle\n",
    "from sklearn.linear_model import LogisticRegression\n",
    "from sklearn.model_selection import KFold\n",
    "from sklearn.model_selection import cross_val_score\n",
    "\n",
    "model = LogisticRegression(max_iter=1000)\n",
    "cross_val = KFold(n_splits=3, random_state=16, shuffle=True)\n",
    "scores = cross_val_score(model, X_train, y_train, cv=cross_val, scoring='roc_auc')\n",
    "print(\"Mean AUC Score - Logistic Regression: \", scores.mean())"
   ]
  },
  {
   "cell_type": "markdown",
   "metadata": {},
   "source": [
    "# Testing different models"
   ]
  },
  {
   "cell_type": "markdown",
   "metadata": {},
   "source": [
    "### Random Forest"
   ]
  },
  {
   "cell_type": "code",
   "execution_count": 283,
   "metadata": {},
   "outputs": [
    {
     "name": "stdout",
     "output_type": "stream",
     "text": [
      "Mean AUC Score - Random Forest:  0.9895370289486349\n"
     ]
    }
   ],
   "source": [
    "from sklearn.ensemble import RandomForestClassifier\n",
    "model1 = RandomForestClassifier()\n",
    "kfold = KFold(n_splits=3, random_state=16, shuffle=True) \n",
    "scores = cross_val_score(model1, X_train, y_train, cv=kfold, scoring='roc_auc')\n",
    "print(\"Mean AUC Score - Random Forest: \", scores.mean())"
   ]
  },
  {
   "cell_type": "code",
   "execution_count": 284,
   "metadata": {},
   "outputs": [
    {
     "name": "stdout",
     "output_type": "stream",
     "text": [
      "Random Forest Train Accuracy: 1.0\n",
      "Random Forest Test Accuracy: 0.9748427672955975\n",
      "               precision    recall  f1-score   support\n",
      "\n",
      "    reputable       0.98      0.93      0.95        45\n",
      "non reputable       0.97      0.99      0.98       114\n",
      "\n",
      "     accuracy                           0.97       159\n",
      "    macro avg       0.98      0.96      0.97       159\n",
      " weighted avg       0.97      0.97      0.97       159\n",
      "\n"
     ]
    }
   ],
   "source": [
    "# fit the model with data\n",
    "model1.fit(X_train, y_train)\n",
    "\n",
    "rf_pred = model1.predict(X_test)\n",
    "\n",
    "print(\"Random Forest Train Accuracy:\",model1.score(X_train, y_train))\n",
    "print(\"Random Forest Test Accuracy:\",model1.score(X_test, y_test))\n",
    "target_names = ['reputable', 'non reputable']\n",
    "print(classification_report(y_test, rf_pred, target_names=target_names))"
   ]
  },
  {
   "cell_type": "markdown",
   "metadata": {},
   "source": [
    "### Decision Tree"
   ]
  },
  {
   "cell_type": "code",
   "execution_count": 285,
   "metadata": {},
   "outputs": [
    {
     "name": "stdout",
     "output_type": "stream",
     "text": [
      "Mean AUC Score - Decision Tree:  0.93710481822751\n"
     ]
    }
   ],
   "source": [
    "from sklearn.tree import DecisionTreeClassifier\n",
    "model2 = DecisionTreeClassifier()\n",
    "cross_val = KFold(n_splits=3, random_state=16, shuffle=True)\n",
    "scores = cross_val_score(model2, X_train, y_train, cv=cross_val, scoring='roc_auc')\n",
    "print(\"Mean AUC Score - Decision Tree: \", scores.mean())"
   ]
  },
  {
   "cell_type": "code",
   "execution_count": 286,
   "metadata": {},
   "outputs": [
    {
     "name": "stdout",
     "output_type": "stream",
     "text": [
      "Train Accuracy: 1.0\n",
      "Test Accuracy: 0.9748427672955975\n",
      "               precision    recall  f1-score   support\n",
      "\n",
      "    reputable       0.98      0.93      0.95        45\n",
      "non reputable       0.97      0.99      0.98       114\n",
      "\n",
      "     accuracy                           0.97       159\n",
      "    macro avg       0.98      0.96      0.97       159\n",
      " weighted avg       0.97      0.97      0.97       159\n",
      "\n"
     ]
    }
   ],
   "source": [
    "# fit the model with data\n",
    "model2.fit(X_train, y_train)\n",
    "\n",
    "dc_pred = model2.predict(X_test)\n",
    "\n",
    "print(\"Train Accuracy:\",model2.score(X_train, y_train))\n",
    "print(\"Test Accuracy:\",model2.score(X_test, y_test))\n",
    "target_names = ['reputable', 'non reputable']\n",
    "print(classification_report(y_test, dc_pred, target_names=target_names))\n"
   ]
  },
  {
   "cell_type": "markdown",
   "metadata": {},
   "source": [
    "### XGBClassifier"
   ]
  },
  {
   "cell_type": "code",
   "execution_count": 287,
   "metadata": {},
   "outputs": [
    {
     "name": "stdout",
     "output_type": "stream",
     "text": [
      "Mean AUC Score - Gaussian Naive Bayes:  0.988174909383425\n"
     ]
    }
   ],
   "source": [
    "from xgboost import XGBClassifier\n",
    "model4 = XGBClassifier()\n",
    "cross_val = KFold(n_splits=3, random_state=16, shuffle=True)\n",
    "scores = cross_val_score(model4, X_train, y_train, cv=cross_val, scoring='roc_auc')\n",
    "print(\"Mean AUC Score - Gaussian Naive Bayes: \", scores.mean())"
   ]
  },
  {
   "cell_type": "code",
   "execution_count": 288,
   "metadata": {},
   "outputs": [
    {
     "name": "stdout",
     "output_type": "stream",
     "text": [
      "XGB Train Accuracy: 1.0\n",
      "XGB Test Accuracy: 0.9748427672955975\n",
      "               precision    recall  f1-score   support\n",
      "\n",
      "    reputable       0.98      0.93      0.95        45\n",
      "non reputable       0.97      0.99      0.98       114\n",
      "\n",
      "     accuracy                           0.97       159\n",
      "    macro avg       0.98      0.96      0.97       159\n",
      " weighted avg       0.97      0.97      0.97       159\n",
      "\n"
     ]
    }
   ],
   "source": [
    "# fit the model with data\n",
    "model4.fit(X_train, y_train)\n",
    "\n",
    "xgb_pred = model4.predict(X_test)\n",
    "\n",
    "print(\"XGB Train Accuracy:\",model4.score(X_train, y_train))\n",
    "print(\"XGB Test Accuracy:\",model4.score(X_test, y_test))\n",
    "target_names = ['reputable', 'non reputable']\n",
    "print(classification_report(y_test, xgb_pred, target_names=target_names))"
   ]
  },
  {
   "cell_type": "markdown",
   "metadata": {},
   "source": [
    "### K-Nearest Neighbors"
   ]
  },
  {
   "cell_type": "code",
   "execution_count": 289,
   "metadata": {},
   "outputs": [
    {
     "name": "stdout",
     "output_type": "stream",
     "text": [
      "Mean AUC Score - K-Nearest Neighbors:  0.9656428101197756\n"
     ]
    }
   ],
   "source": [
    "from sklearn.neighbors import KNeighborsClassifier\n",
    "model5 = KNeighborsClassifier()\n",
    "cross_val = KFold(n_splits=3, random_state=16, shuffle=True)\n",
    "scores = cross_val_score(model5, X_train, y_train, cv=cross_val, scoring='roc_auc')\n",
    "print(\"Mean AUC Score - K-Nearest Neighbors: \", scores.mean())"
   ]
  },
  {
   "cell_type": "code",
   "execution_count": 290,
   "metadata": {},
   "outputs": [
    {
     "name": "stdout",
     "output_type": "stream",
     "text": [
      "KNN Train Accuracy: 0.9538784067085954\n",
      "KNN Test Accuracy: 0.9559748427672956\n"
     ]
    }
   ],
   "source": [
    "# fit the model with data\n",
    "model5.fit(X_train, y_train)\n",
    "\n",
    "k_pred = model5.predict(X_test)\n",
    "\n",
    "print(\"KNN Train Accuracy:\",model5.score(X_train, y_train))\n",
    "print(\"KNN Test Accuracy:\",model5.score(X_test, y_test))"
   ]
  },
  {
   "cell_type": "code",
   "execution_count": 291,
   "metadata": {},
   "outputs": [
    {
     "name": "stdout",
     "output_type": "stream",
     "text": [
      "               precision    recall  f1-score   support\n",
      "\n",
      "    reputable       0.95      0.89      0.92        45\n",
      "non reputable       0.96      0.98      0.97       114\n",
      "\n",
      "     accuracy                           0.96       159\n",
      "    macro avg       0.95      0.94      0.94       159\n",
      " weighted avg       0.96      0.96      0.96       159\n",
      "\n"
     ]
    }
   ],
   "source": [
    "from sklearn.metrics import classification_report\n",
    "\n",
    "target_names = ['reputable', 'non reputable']\n",
    "print(classification_report(y_test, k_pred, target_names=target_names))"
   ]
  },
  {
   "cell_type": "markdown",
   "metadata": {},
   "source": [
    "From the 5 scores above the top 3 performers were Logistic Regression,XGBClassifier and K-Neasrest Neighbors. We will move ahead and fine tune them."
   ]
  },
  {
   "cell_type": "markdown",
   "metadata": {},
   "source": [
    "# Hyper parameters tuning"
   ]
  },
  {
   "cell_type": "code",
   "execution_count": 292,
   "metadata": {},
   "outputs": [
    {
     "name": "stdout",
     "output_type": "stream",
     "text": [
      "Best parameters set found on development set:\n",
      "\n",
      "{'C': 10.050350251256281, 'penalty': 'l2'}\n",
      "\n",
      "Optimized model achieved an ROC of: 0.9702\n",
      "LogReg Train Accuracy: 0.9702331961591222\n",
      "LogReg Test Accuracy: 0.9869395711500974\n"
     ]
    }
   ],
   "source": [
    "from sklearn.model_selection import GridSearchCV\n",
    "tuned_parameters = [{'C': np.linspace(.0001, 1000, 200) , 'penalty': [\"l2\"]}]\n",
    "clf = GridSearchCV(logreg, tuned_parameters, cv=cross_val, scoring= 'roc_auc')\n",
    "clf.fit(X_train, y_train)\n",
    "\n",
    "print(\"Best parameters set found on development set:\")\n",
    "print()\n",
    "print(clf.best_params_)\n",
    "print(\"\\nOptimized model achieved an ROC of:\", round(clf.score(X_train, y_train), 4))\n",
    "print(\"LogReg Train Accuracy:\",clf.score(X_train, y_train))\n",
    "print(\"LogReg Test Accuracy:\",clf.score(X_test, y_test))"
   ]
  },
  {
   "cell_type": "markdown",
   "metadata": {},
   "source": [
    "# Save model"
   ]
  },
  {
   "cell_type": "code",
   "execution_count": 293,
   "metadata": {},
   "outputs": [],
   "source": [
    "import pickle\n",
    "\n",
    "pickle.dump(clf, open('LogRegModelFinal', 'wb'))"
   ]
  }
 ],
 "metadata": {
  "kernelspec": {
   "display_name": "Python 3.10.0 64-bit",
   "language": "python",
   "name": "python3"
  },
  "language_info": {
   "codemirror_mode": {
    "name": "ipython",
    "version": 3
   },
   "file_extension": ".py",
   "mimetype": "text/x-python",
   "name": "python",
   "nbconvert_exporter": "python",
   "pygments_lexer": "ipython3",
   "version": "3.10.0"
  },
  "orig_nbformat": 4,
  "vscode": {
   "interpreter": {
    "hash": "369f2c481f4da34e4445cda3fffd2e751bd1c4d706f27375911949ba6bb62e1c"
   }
  }
 },
 "nbformat": 4,
 "nbformat_minor": 2
}
