{
 "cells": [
  {
   "cell_type": "markdown",
   "metadata": {},
   "source": [
    "### Importing libraries "
   ]
  },
  {
   "cell_type": "code",
   "execution_count": 19,
   "metadata": {},
   "outputs": [],
   "source": [
    "import pandas as pd\n",
    "import seaborn as sns\n",
    "import numpy as np\n",
    "from dateutil import parser\n",
    "import matplotlib.pyplot as plt"
   ]
  },
  {
   "cell_type": "markdown",
   "metadata": {},
   "source": [
    "### Importing Data"
   ]
  },
  {
   "cell_type": "code",
   "execution_count": 20,
   "metadata": {},
   "outputs": [],
   "source": [
    "df = pd.read_csv('../data/ytlabeled.csv')\n",
    "\n",
    "dff = pd.read_csv('../data/dataframeclean.csv')\n"
   ]
  },
  {
   "cell_type": "code",
   "execution_count": 21,
   "metadata": {},
   "outputs": [
    {
     "data": {
      "text/html": [
       "<div>\n",
       "<style scoped>\n",
       "    .dataframe tbody tr th:only-of-type {\n",
       "        vertical-align: middle;\n",
       "    }\n",
       "\n",
       "    .dataframe tbody tr th {\n",
       "        vertical-align: top;\n",
       "    }\n",
       "\n",
       "    .dataframe thead th {\n",
       "        text-align: right;\n",
       "    }\n",
       "</style>\n",
       "<table border=\"1\" class=\"dataframe\">\n",
       "  <thead>\n",
       "    <tr style=\"text-align: right;\">\n",
       "      <th></th>\n",
       "      <th>Unnamed: 0</th>\n",
       "      <th>channelTitle</th>\n",
       "      <th>viewCount</th>\n",
       "      <th>likeCount</th>\n",
       "      <th>commentCount</th>\n",
       "      <th>definition</th>\n",
       "      <th>caption</th>\n",
       "      <th>subscribers</th>\n",
       "      <th>totalViews</th>\n",
       "      <th>totalVideos</th>\n",
       "      <th>avg polarity score</th>\n",
       "      <th>pushblishYear</th>\n",
       "      <th>durationSecs</th>\n",
       "      <th>tagCount</th>\n",
       "      <th>title length</th>\n",
       "      <th>description length</th>\n",
       "      <th>Label</th>\n",
       "    </tr>\n",
       "  </thead>\n",
       "  <tbody>\n",
       "    <tr>\n",
       "      <th>0</th>\n",
       "      <td>0</td>\n",
       "      <td>16</td>\n",
       "      <td>1410150</td>\n",
       "      <td>18797</td>\n",
       "      <td>76</td>\n",
       "      <td>0</td>\n",
       "      <td>1</td>\n",
       "      <td>369000</td>\n",
       "      <td>20517888</td>\n",
       "      <td>1850</td>\n",
       "      <td>0.277473</td>\n",
       "      <td>2020</td>\n",
       "      <td>4520.0</td>\n",
       "      <td>142</td>\n",
       "      <td>76</td>\n",
       "      <td>1057</td>\n",
       "      <td>1</td>\n",
       "    </tr>\n",
       "    <tr>\n",
       "      <th>1</th>\n",
       "      <td>1</td>\n",
       "      <td>16</td>\n",
       "      <td>561083</td>\n",
       "      <td>6564</td>\n",
       "      <td>31</td>\n",
       "      <td>0</td>\n",
       "      <td>1</td>\n",
       "      <td>369000</td>\n",
       "      <td>20517888</td>\n",
       "      <td>1850</td>\n",
       "      <td>0.234844</td>\n",
       "      <td>2020</td>\n",
       "      <td>4697.0</td>\n",
       "      <td>160</td>\n",
       "      <td>100</td>\n",
       "      <td>398</td>\n",
       "      <td>1</td>\n",
       "    </tr>\n",
       "    <tr>\n",
       "      <th>2</th>\n",
       "      <td>2</td>\n",
       "      <td>16</td>\n",
       "      <td>264242</td>\n",
       "      <td>2629</td>\n",
       "      <td>10</td>\n",
       "      <td>0</td>\n",
       "      <td>1</td>\n",
       "      <td>369000</td>\n",
       "      <td>20517888</td>\n",
       "      <td>1850</td>\n",
       "      <td>0.236257</td>\n",
       "      <td>2020</td>\n",
       "      <td>4774.0</td>\n",
       "      <td>50</td>\n",
       "      <td>99</td>\n",
       "      <td>331</td>\n",
       "      <td>1</td>\n",
       "    </tr>\n",
       "    <tr>\n",
       "      <th>3</th>\n",
       "      <td>3</td>\n",
       "      <td>16</td>\n",
       "      <td>129002</td>\n",
       "      <td>1091</td>\n",
       "      <td>3</td>\n",
       "      <td>0</td>\n",
       "      <td>1</td>\n",
       "      <td>369000</td>\n",
       "      <td>20517888</td>\n",
       "      <td>1850</td>\n",
       "      <td>0.237893</td>\n",
       "      <td>2020</td>\n",
       "      <td>4922.0</td>\n",
       "      <td>73</td>\n",
       "      <td>98</td>\n",
       "      <td>299</td>\n",
       "      <td>1</td>\n",
       "    </tr>\n",
       "    <tr>\n",
       "      <th>4</th>\n",
       "      <td>4</td>\n",
       "      <td>16</td>\n",
       "      <td>125920</td>\n",
       "      <td>1291</td>\n",
       "      <td>8</td>\n",
       "      <td>0</td>\n",
       "      <td>1</td>\n",
       "      <td>369000</td>\n",
       "      <td>20517888</td>\n",
       "      <td>1850</td>\n",
       "      <td>0.244639</td>\n",
       "      <td>2020</td>\n",
       "      <td>4732.0</td>\n",
       "      <td>86</td>\n",
       "      <td>88</td>\n",
       "      <td>331</td>\n",
       "      <td>1</td>\n",
       "    </tr>\n",
       "  </tbody>\n",
       "</table>\n",
       "</div>"
      ],
      "text/plain": [
       "   Unnamed: 0  channelTitle  viewCount  likeCount  commentCount  definition  \\\n",
       "0           0            16    1410150      18797            76           0   \n",
       "1           1            16     561083       6564            31           0   \n",
       "2           2            16     264242       2629            10           0   \n",
       "3           3            16     129002       1091             3           0   \n",
       "4           4            16     125920       1291             8           0   \n",
       "\n",
       "   caption  subscribers  totalViews  totalVideos  avg polarity score  \\\n",
       "0        1       369000    20517888         1850            0.277473   \n",
       "1        1       369000    20517888         1850            0.234844   \n",
       "2        1       369000    20517888         1850            0.236257   \n",
       "3        1       369000    20517888         1850            0.237893   \n",
       "4        1       369000    20517888         1850            0.244639   \n",
       "\n",
       "   pushblishYear  durationSecs  tagCount  title length  description length  \\\n",
       "0           2020        4520.0       142            76                1057   \n",
       "1           2020        4697.0       160           100                 398   \n",
       "2           2020        4774.0        50            99                 331   \n",
       "3           2020        4922.0        73            98                 299   \n",
       "4           2020        4732.0        86            88                 331   \n",
       "\n",
       "   Label  \n",
       "0      1  \n",
       "1      1  \n",
       "2      1  \n",
       "3      1  \n",
       "4      1  "
      ]
     },
     "execution_count": 21,
     "metadata": {},
     "output_type": "execute_result"
    }
   ],
   "source": [
    "df.head(5)"
   ]
  },
  {
   "cell_type": "code",
   "execution_count": 22,
   "metadata": {},
   "outputs": [
    {
     "data": {
      "text/html": [
       "<div>\n",
       "<style scoped>\n",
       "    .dataframe tbody tr th:only-of-type {\n",
       "        vertical-align: middle;\n",
       "    }\n",
       "\n",
       "    .dataframe tbody tr th {\n",
       "        vertical-align: top;\n",
       "    }\n",
       "\n",
       "    .dataframe thead th {\n",
       "        text-align: right;\n",
       "    }\n",
       "</style>\n",
       "<table border=\"1\" class=\"dataframe\">\n",
       "  <thead>\n",
       "    <tr style=\"text-align: right;\">\n",
       "      <th></th>\n",
       "      <th>Unnamed: 0</th>\n",
       "      <th>channelTitle</th>\n",
       "      <th>viewCount</th>\n",
       "      <th>likeCount</th>\n",
       "      <th>commentCount</th>\n",
       "      <th>definition</th>\n",
       "      <th>caption</th>\n",
       "      <th>subscribers</th>\n",
       "      <th>totalViews</th>\n",
       "      <th>totalVideos</th>\n",
       "      <th>avg polarity score</th>\n",
       "      <th>Label</th>\n",
       "      <th>pushblishYear</th>\n",
       "      <th>durationSecs</th>\n",
       "      <th>tagCount</th>\n",
       "      <th>title length</th>\n",
       "      <th>description length</th>\n",
       "    </tr>\n",
       "  </thead>\n",
       "  <tbody>\n",
       "    <tr>\n",
       "      <th>0</th>\n",
       "      <td>0</td>\n",
       "      <td>19</td>\n",
       "      <td>190224</td>\n",
       "      <td>4957</td>\n",
       "      <td>567</td>\n",
       "      <td>0</td>\n",
       "      <td>0</td>\n",
       "      <td>2710000</td>\n",
       "      <td>129809111</td>\n",
       "      <td>171</td>\n",
       "      <td>0.199642</td>\n",
       "      <td>1</td>\n",
       "      <td>2022</td>\n",
       "      <td>3868.0</td>\n",
       "      <td>342</td>\n",
       "      <td>40</td>\n",
       "      <td>1562</td>\n",
       "    </tr>\n",
       "    <tr>\n",
       "      <th>1</th>\n",
       "      <td>1</td>\n",
       "      <td>19</td>\n",
       "      <td>5174623</td>\n",
       "      <td>81494</td>\n",
       "      <td>4871</td>\n",
       "      <td>0</td>\n",
       "      <td>0</td>\n",
       "      <td>2710000</td>\n",
       "      <td>129809111</td>\n",
       "      <td>171</td>\n",
       "      <td>0.305360</td>\n",
       "      <td>1</td>\n",
       "      <td>2018</td>\n",
       "      <td>8727.0</td>\n",
       "      <td>396</td>\n",
       "      <td>39</td>\n",
       "      <td>1559</td>\n",
       "    </tr>\n",
       "    <tr>\n",
       "      <th>2</th>\n",
       "      <td>2</td>\n",
       "      <td>19</td>\n",
       "      <td>2112507</td>\n",
       "      <td>36594</td>\n",
       "      <td>1736</td>\n",
       "      <td>0</td>\n",
       "      <td>1</td>\n",
       "      <td>2710000</td>\n",
       "      <td>129809111</td>\n",
       "      <td>171</td>\n",
       "      <td>0.300777</td>\n",
       "      <td>1</td>\n",
       "      <td>2020</td>\n",
       "      <td>7590.0</td>\n",
       "      <td>479</td>\n",
       "      <td>62</td>\n",
       "      <td>1889</td>\n",
       "    </tr>\n",
       "    <tr>\n",
       "      <th>3</th>\n",
       "      <td>3</td>\n",
       "      <td>19</td>\n",
       "      <td>3461546</td>\n",
       "      <td>51637</td>\n",
       "      <td>2153</td>\n",
       "      <td>0</td>\n",
       "      <td>0</td>\n",
       "      <td>2710000</td>\n",
       "      <td>129809111</td>\n",
       "      <td>171</td>\n",
       "      <td>0.304859</td>\n",
       "      <td>1</td>\n",
       "      <td>2017</td>\n",
       "      <td>7362.0</td>\n",
       "      <td>499</td>\n",
       "      <td>58</td>\n",
       "      <td>1464</td>\n",
       "    </tr>\n",
       "    <tr>\n",
       "      <th>4</th>\n",
       "      <td>4</td>\n",
       "      <td>19</td>\n",
       "      <td>8154940</td>\n",
       "      <td>146493</td>\n",
       "      <td>5377</td>\n",
       "      <td>0</td>\n",
       "      <td>1</td>\n",
       "      <td>2710000</td>\n",
       "      <td>129809111</td>\n",
       "      <td>171</td>\n",
       "      <td>0.288010</td>\n",
       "      <td>1</td>\n",
       "      <td>2018</td>\n",
       "      <td>2897.0</td>\n",
       "      <td>516</td>\n",
       "      <td>61</td>\n",
       "      <td>2370</td>\n",
       "    </tr>\n",
       "  </tbody>\n",
       "</table>\n",
       "</div>"
      ],
      "text/plain": [
       "   Unnamed: 0  channelTitle  viewCount  likeCount  commentCount  definition  \\\n",
       "0           0            19     190224       4957           567           0   \n",
       "1           1            19    5174623      81494          4871           0   \n",
       "2           2            19    2112507      36594          1736           0   \n",
       "3           3            19    3461546      51637          2153           0   \n",
       "4           4            19    8154940     146493          5377           0   \n",
       "\n",
       "   caption  subscribers  totalViews  totalVideos  avg polarity score  Label  \\\n",
       "0        0      2710000   129809111          171            0.199642      1   \n",
       "1        0      2710000   129809111          171            0.305360      1   \n",
       "2        1      2710000   129809111          171            0.300777      1   \n",
       "3        0      2710000   129809111          171            0.304859      1   \n",
       "4        1      2710000   129809111          171            0.288010      1   \n",
       "\n",
       "   pushblishYear  durationSecs  tagCount  title length  description length  \n",
       "0           2022        3868.0       342            40                1562  \n",
       "1           2018        8727.0       396            39                1559  \n",
       "2           2020        7590.0       479            62                1889  \n",
       "3           2017        7362.0       499            58                1464  \n",
       "4           2018        2897.0       516            61                2370  "
      ]
     },
     "execution_count": 22,
     "metadata": {},
     "output_type": "execute_result"
    }
   ],
   "source": [
    "dff.head(5)"
   ]
  },
  {
   "cell_type": "code",
   "execution_count": 23,
   "metadata": {},
   "outputs": [],
   "source": [
    "df = df.drop(['Unnamed: 0'], axis=1)\n",
    "\n",
    "dff = dff.drop(['Unnamed: 0'], axis=1)"
   ]
  },
  {
   "cell_type": "code",
   "execution_count": 24,
   "metadata": {},
   "outputs": [],
   "source": [
    "new_cols = [\"channelTitle\",\"viewCount\",'likeCount','commentCount','definition','caption','subscribers','totalViews','totalVideos','avg polarity score','pushblishYear','durationSecs','tagCount','title length','description length', 'Label']\n",
    "dff=dff[new_cols]\n",
    "#or\n",
    "dff=dff.reindex(columns=new_cols)"
   ]
  },
  {
   "cell_type": "code",
   "execution_count": 25,
   "metadata": {},
   "outputs": [
    {
     "data": {
      "text/html": [
       "<div>\n",
       "<style scoped>\n",
       "    .dataframe tbody tr th:only-of-type {\n",
       "        vertical-align: middle;\n",
       "    }\n",
       "\n",
       "    .dataframe tbody tr th {\n",
       "        vertical-align: top;\n",
       "    }\n",
       "\n",
       "    .dataframe thead th {\n",
       "        text-align: right;\n",
       "    }\n",
       "</style>\n",
       "<table border=\"1\" class=\"dataframe\">\n",
       "  <thead>\n",
       "    <tr style=\"text-align: right;\">\n",
       "      <th></th>\n",
       "      <th>channelTitle</th>\n",
       "      <th>viewCount</th>\n",
       "      <th>likeCount</th>\n",
       "      <th>commentCount</th>\n",
       "      <th>definition</th>\n",
       "      <th>caption</th>\n",
       "      <th>subscribers</th>\n",
       "      <th>totalViews</th>\n",
       "      <th>totalVideos</th>\n",
       "      <th>avg polarity score</th>\n",
       "      <th>pushblishYear</th>\n",
       "      <th>durationSecs</th>\n",
       "      <th>tagCount</th>\n",
       "      <th>title length</th>\n",
       "      <th>description length</th>\n",
       "      <th>Label</th>\n",
       "    </tr>\n",
       "  </thead>\n",
       "  <tbody>\n",
       "    <tr>\n",
       "      <th>count</th>\n",
       "      <td>749.000000</td>\n",
       "      <td>7.490000e+02</td>\n",
       "      <td>749.000000</td>\n",
       "      <td>749.000000</td>\n",
       "      <td>749.000000</td>\n",
       "      <td>749.000000</td>\n",
       "      <td>7.490000e+02</td>\n",
       "      <td>7.490000e+02</td>\n",
       "      <td>749.000000</td>\n",
       "      <td>749.000000</td>\n",
       "      <td>749.000000</td>\n",
       "      <td>749.000000</td>\n",
       "      <td>749.000000</td>\n",
       "      <td>749.000000</td>\n",
       "      <td>749.000000</td>\n",
       "      <td>749.000000</td>\n",
       "    </tr>\n",
       "    <tr>\n",
       "      <th>mean</th>\n",
       "      <td>11.313752</td>\n",
       "      <td>1.296203e+05</td>\n",
       "      <td>2313.783712</td>\n",
       "      <td>103.110814</td>\n",
       "      <td>0.061415</td>\n",
       "      <td>0.128171</td>\n",
       "      <td>7.252055e+05</td>\n",
       "      <td>1.002219e+08</td>\n",
       "      <td>924.991989</td>\n",
       "      <td>0.348563</td>\n",
       "      <td>2019.086782</td>\n",
       "      <td>1263.995995</td>\n",
       "      <td>250.170895</td>\n",
       "      <td>54.078772</td>\n",
       "      <td>1359.574099</td>\n",
       "      <td>0.611482</td>\n",
       "    </tr>\n",
       "    <tr>\n",
       "      <th>std</th>\n",
       "      <td>6.609148</td>\n",
       "      <td>4.949598e+05</td>\n",
       "      <td>10257.323022</td>\n",
       "      <td>432.607691</td>\n",
       "      <td>0.240251</td>\n",
       "      <td>0.334503</td>\n",
       "      <td>1.081812e+06</td>\n",
       "      <td>1.428281e+08</td>\n",
       "      <td>888.578189</td>\n",
       "      <td>0.132883</td>\n",
       "      <td>2.363764</td>\n",
       "      <td>3732.287897</td>\n",
       "      <td>178.524246</td>\n",
       "      <td>22.605024</td>\n",
       "      <td>1080.829538</td>\n",
       "      <td>0.487739</td>\n",
       "    </tr>\n",
       "    <tr>\n",
       "      <th>min</th>\n",
       "      <td>0.000000</td>\n",
       "      <td>0.000000e+00</td>\n",
       "      <td>0.000000</td>\n",
       "      <td>0.000000</td>\n",
       "      <td>0.000000</td>\n",
       "      <td>0.000000</td>\n",
       "      <td>1.300000e+01</td>\n",
       "      <td>4.470000e+02</td>\n",
       "      <td>29.000000</td>\n",
       "      <td>0.000000</td>\n",
       "      <td>2013.000000</td>\n",
       "      <td>25.000000</td>\n",
       "      <td>0.000000</td>\n",
       "      <td>12.000000</td>\n",
       "      <td>0.000000</td>\n",
       "      <td>0.000000</td>\n",
       "    </tr>\n",
       "    <tr>\n",
       "      <th>25%</th>\n",
       "      <td>6.000000</td>\n",
       "      <td>3.270000e+03</td>\n",
       "      <td>65.000000</td>\n",
       "      <td>5.000000</td>\n",
       "      <td>0.000000</td>\n",
       "      <td>0.000000</td>\n",
       "      <td>5.700000e+04</td>\n",
       "      <td>5.006198e+06</td>\n",
       "      <td>237.000000</td>\n",
       "      <td>0.296812</td>\n",
       "      <td>2018.000000</td>\n",
       "      <td>322.000000</td>\n",
       "      <td>117.000000</td>\n",
       "      <td>35.000000</td>\n",
       "      <td>639.000000</td>\n",
       "      <td>0.000000</td>\n",
       "    </tr>\n",
       "    <tr>\n",
       "      <th>50%</th>\n",
       "      <td>11.000000</td>\n",
       "      <td>3.043000e+04</td>\n",
       "      <td>427.000000</td>\n",
       "      <td>21.000000</td>\n",
       "      <td>0.000000</td>\n",
       "      <td>0.000000</td>\n",
       "      <td>1.720000e+05</td>\n",
       "      <td>2.051789e+07</td>\n",
       "      <td>392.000000</td>\n",
       "      <td>0.342790</td>\n",
       "      <td>2020.000000</td>\n",
       "      <td>502.000000</td>\n",
       "      <td>215.000000</td>\n",
       "      <td>52.000000</td>\n",
       "      <td>1041.000000</td>\n",
       "      <td>1.000000</td>\n",
       "    </tr>\n",
       "    <tr>\n",
       "      <th>75%</th>\n",
       "      <td>16.000000</td>\n",
       "      <td>8.626300e+04</td>\n",
       "      <td>1225.000000</td>\n",
       "      <td>72.000000</td>\n",
       "      <td>0.000000</td>\n",
       "      <td>0.000000</td>\n",
       "      <td>1.710000e+06</td>\n",
       "      <td>1.232111e+08</td>\n",
       "      <td>1924.000000</td>\n",
       "      <td>0.443083</td>\n",
       "      <td>2021.000000</td>\n",
       "      <td>766.000000</td>\n",
       "      <td>412.000000</td>\n",
       "      <td>70.000000</td>\n",
       "      <td>2068.000000</td>\n",
       "      <td>1.000000</td>\n",
       "    </tr>\n",
       "    <tr>\n",
       "      <th>max</th>\n",
       "      <td>25.000000</td>\n",
       "      <td>8.015846e+06</td>\n",
       "      <td>179491.000000</td>\n",
       "      <td>8261.000000</td>\n",
       "      <td>1.000000</td>\n",
       "      <td>1.000000</td>\n",
       "      <td>6.130000e+06</td>\n",
       "      <td>4.108876e+08</td>\n",
       "      <td>2320.000000</td>\n",
       "      <td>0.641743</td>\n",
       "      <td>2022.000000</td>\n",
       "      <td>46657.000000</td>\n",
       "      <td>572.000000</td>\n",
       "      <td>100.000000</td>\n",
       "      <td>4945.000000</td>\n",
       "      <td>1.000000</td>\n",
       "    </tr>\n",
       "  </tbody>\n",
       "</table>\n",
       "</div>"
      ],
      "text/plain": [
       "       channelTitle     viewCount      likeCount  commentCount  definition  \\\n",
       "count    749.000000  7.490000e+02     749.000000    749.000000  749.000000   \n",
       "mean      11.313752  1.296203e+05    2313.783712    103.110814    0.061415   \n",
       "std        6.609148  4.949598e+05   10257.323022    432.607691    0.240251   \n",
       "min        0.000000  0.000000e+00       0.000000      0.000000    0.000000   \n",
       "25%        6.000000  3.270000e+03      65.000000      5.000000    0.000000   \n",
       "50%       11.000000  3.043000e+04     427.000000     21.000000    0.000000   \n",
       "75%       16.000000  8.626300e+04    1225.000000     72.000000    0.000000   \n",
       "max       25.000000  8.015846e+06  179491.000000   8261.000000    1.000000   \n",
       "\n",
       "          caption   subscribers    totalViews  totalVideos  \\\n",
       "count  749.000000  7.490000e+02  7.490000e+02   749.000000   \n",
       "mean     0.128171  7.252055e+05  1.002219e+08   924.991989   \n",
       "std      0.334503  1.081812e+06  1.428281e+08   888.578189   \n",
       "min      0.000000  1.300000e+01  4.470000e+02    29.000000   \n",
       "25%      0.000000  5.700000e+04  5.006198e+06   237.000000   \n",
       "50%      0.000000  1.720000e+05  2.051789e+07   392.000000   \n",
       "75%      0.000000  1.710000e+06  1.232111e+08  1924.000000   \n",
       "max      1.000000  6.130000e+06  4.108876e+08  2320.000000   \n",
       "\n",
       "       avg polarity score  pushblishYear  durationSecs    tagCount  \\\n",
       "count          749.000000     749.000000    749.000000  749.000000   \n",
       "mean             0.348563    2019.086782   1263.995995  250.170895   \n",
       "std              0.132883       2.363764   3732.287897  178.524246   \n",
       "min              0.000000    2013.000000     25.000000    0.000000   \n",
       "25%              0.296812    2018.000000    322.000000  117.000000   \n",
       "50%              0.342790    2020.000000    502.000000  215.000000   \n",
       "75%              0.443083    2021.000000    766.000000  412.000000   \n",
       "max              0.641743    2022.000000  46657.000000  572.000000   \n",
       "\n",
       "       title length  description length       Label  \n",
       "count    749.000000          749.000000  749.000000  \n",
       "mean      54.078772         1359.574099    0.611482  \n",
       "std       22.605024         1080.829538    0.487739  \n",
       "min       12.000000            0.000000    0.000000  \n",
       "25%       35.000000          639.000000    0.000000  \n",
       "50%       52.000000         1041.000000    1.000000  \n",
       "75%       70.000000         2068.000000    1.000000  \n",
       "max      100.000000         4945.000000    1.000000  "
      ]
     },
     "execution_count": 25,
     "metadata": {},
     "output_type": "execute_result"
    }
   ],
   "source": [
    "df.describe()"
   ]
  },
  {
   "cell_type": "code",
   "execution_count": 26,
   "metadata": {},
   "outputs": [
    {
     "name": "stdout",
     "output_type": "stream",
     "text": [
      "<class 'pandas.core.frame.DataFrame'>\n",
      "RangeIndex: 749 entries, 0 to 748\n",
      "Data columns (total 16 columns):\n",
      " #   Column              Non-Null Count  Dtype  \n",
      "---  ------              --------------  -----  \n",
      " 0   channelTitle        749 non-null    int64  \n",
      " 1   viewCount           749 non-null    int64  \n",
      " 2   likeCount           749 non-null    int64  \n",
      " 3   commentCount        749 non-null    int64  \n",
      " 4   definition          749 non-null    int64  \n",
      " 5   caption             749 non-null    int64  \n",
      " 6   subscribers         749 non-null    int64  \n",
      " 7   totalViews          749 non-null    int64  \n",
      " 8   totalVideos         749 non-null    int64  \n",
      " 9   avg polarity score  749 non-null    float64\n",
      " 10  pushblishYear       749 non-null    int64  \n",
      " 11  durationSecs        749 non-null    float64\n",
      " 12  tagCount            749 non-null    int64  \n",
      " 13  title length        749 non-null    int64  \n",
      " 14  description length  749 non-null    int64  \n",
      " 15  Label               749 non-null    int64  \n",
      "dtypes: float64(2), int64(14)\n",
      "memory usage: 93.8 KB\n"
     ]
    }
   ],
   "source": [
    "df.info()"
   ]
  },
  {
   "cell_type": "markdown",
   "metadata": {},
   "source": [
    "Checking duplicates"
   ]
  },
  {
   "cell_type": "code",
   "execution_count": 27,
   "metadata": {},
   "outputs": [
    {
     "data": {
      "text/plain": [
       "8"
      ]
     },
     "execution_count": 27,
     "metadata": {},
     "output_type": "execute_result"
    }
   ],
   "source": [
    "df.duplicated().sum()\n"
   ]
  },
  {
   "cell_type": "code",
   "execution_count": 28,
   "metadata": {},
   "outputs": [
    {
     "data": {
      "text/plain": [
       "(741, 16)"
      ]
     },
     "execution_count": 28,
     "metadata": {},
     "output_type": "execute_result"
    }
   ],
   "source": [
    "df = df.drop_duplicates()\n",
    "df.shape"
   ]
  },
  {
   "cell_type": "markdown",
   "metadata": {},
   "source": [
    "Checking null values"
   ]
  },
  {
   "cell_type": "code",
   "execution_count": 29,
   "metadata": {},
   "outputs": [
    {
     "data": {
      "text/plain": [
       "channelTitle          0\n",
       "viewCount             0\n",
       "likeCount             0\n",
       "commentCount          0\n",
       "definition            0\n",
       "caption               0\n",
       "subscribers           0\n",
       "totalViews            0\n",
       "totalVideos           0\n",
       "avg polarity score    0\n",
       "pushblishYear         0\n",
       "durationSecs          0\n",
       "tagCount              0\n",
       "title length          0\n",
       "description length    0\n",
       "Label                 0\n",
       "dtype: int64"
      ]
     },
     "execution_count": 29,
     "metadata": {},
     "output_type": "execute_result"
    }
   ],
   "source": [
    "df.isnull().sum()\n"
   ]
  },
  {
   "cell_type": "markdown",
   "metadata": {},
   "source": [
    "### Label distribution "
   ]
  },
  {
   "cell_type": "code",
   "execution_count": 30,
   "metadata": {},
   "outputs": [
    {
     "data": {
      "text/plain": [
       "1    100\n",
       "0     60\n",
       "Name: Label, dtype: int64"
      ]
     },
     "execution_count": 30,
     "metadata": {},
     "output_type": "execute_result"
    },
    {
     "data": {
      "image/png": "[encoded data removed]",
      "text/plain": [
       "<Figure size 432x288 with 1 Axes>"
      ]
     },
     "metadata": {
      "needs_background": "light"
     },
     "output_type": "display_data"
    }
   ],
   "source": [
    "sns.countplot(x=\"Label\", data=df)\n",
    "dff[\"Label\"].value_counts()"
   ]
  },
  {
   "cell_type": "markdown",
   "metadata": {},
   "source": [
    "Our data is unbalanced so we might need oversampling"
   ]
  },
  {
   "cell_type": "code",
   "execution_count": 31,
   "metadata": {},
   "outputs": [],
   "source": [
    "# sns.scatterplot(x=\"commentCount\", y=\"durationSecs\", hue=\"Label\", data = df)"
   ]
  },
  {
   "cell_type": "code",
   "execution_count": 32,
   "metadata": {},
   "outputs": [],
   "source": [
    "# df_dist = df.select_dtypes([int,float]) \n",
    "# fig = plt.figure(figsize=(15, 18)) \n",
    "# try:\n",
    "#     for i,columns in enumerate(df_dist.columns, 1): \n",
    "#         ax = plt.subplot(5,3,i) \n",
    "#         sns.kdeplot(x=df_dist[columns])\n",
    "#         ax.set_xlabel(None) \n",
    "#         ax.set_title(f'{columns}')\n",
    "#         plt.tight_layout(w_pad=3) \n",
    "# except ValueError as ve:\n",
    "#     exit;      \n",
    "# plt.show()"
   ]
  },
  {
   "cell_type": "markdown",
   "metadata": {},
   "source": [
    "Correlation map"
   ]
  },
  {
   "cell_type": "code",
   "execution_count": 33,
   "metadata": {},
   "outputs": [
    {
     "data": {
      "text/plain": [
       "<AxesSubplot:>"
      ]
     },
     "execution_count": 33,
     "metadata": {},
     "output_type": "execute_result"
    },
    {
     "data": {
      "image/png": "[encoded data removed]",
      "text/plain": [
       "<Figure size 1152x504 with 2 Axes>"
      ]
     },
     "metadata": {
      "needs_background": "light"
     },
     "output_type": "display_data"
    }
   ],
   "source": [
    "plt.figure(figsize=(16, 7))\n",
    "sns.heatmap(df.corr(), annot = True)"
   ]
  },
  {
   "cell_type": "markdown",
   "metadata": {},
   "source": [
    "Scaling"
   ]
  },
  {
   "cell_type": "code",
   "execution_count": 34,
   "metadata": {},
   "outputs": [],
   "source": [
    "# from sklearn.preprocessing import StandardScaler\n",
    "# scale = StandardScaler()\n",
    "\n",
    "feat_col = ['channelTitle', 'viewCount', 'likeCount', 'definition', 'commentCount', 'caption', 'subscribers', 'totalViews', 'totalVideos', 'avg polarity score', 'pushblishYear', 'durationSecs', 'tagCount', 'description length', 'title length']\n",
    "\n",
    "X = dff[feat_col] # Features\n",
    "y = dff['Label']# Target variable\n",
    "\n",
    "a = df[feat_col] # Features\n",
    "b = df['Label']# Target variable"
   ]
  },
  {
   "cell_type": "markdown",
   "metadata": {},
   "source": [
    "# Modeling"
   ]
  },
  {
   "cell_type": "code",
   "execution_count": 35,
   "metadata": {},
   "outputs": [],
   "source": [
    "import sklearn\n",
    "from sklearn.model_selection import train_test_split\n",
    "from sklearn.linear_model import LogisticRegression"
   ]
  },
  {
   "cell_type": "markdown",
   "metadata": {},
   "source": [
    "Splitting data"
   ]
  },
  {
   "cell_type": "code",
   "execution_count": 36,
   "metadata": {},
   "outputs": [],
   "source": [
    "X_train, X_test, y_train, y_test = train_test_split(X, y, test_size=0.25, random_state=16)\n",
    "\n",
    "from imblearn.over_sampling import SMOTE\n",
    "#Create an oversampled training data\n",
    "smote = SMOTE(random_state = 16)\n",
    "X_train, y_train = smote.fit_resample(X_train, y_train)\n",
    "\n",
    "a_train, a_test, b_train, b_test = train_test_split(a, b, test_size=0.25, random_state=16)"
   ]
  },
  {
   "cell_type": "code",
   "execution_count": 37,
   "metadata": {},
   "outputs": [],
   "source": [
    "# instantiate the model (using the default parameters)\n",
    "logreg = LogisticRegression(random_state=16, max_iter=1000)\n",
    "\n",
    "# fit the model with data\n",
    "logreg.fit(X_train, y_train)\n",
    "\n",
    "y_pred = logreg.predict(X_test)"
   ]
  },
  {
   "cell_type": "code",
   "execution_count": 38,
   "metadata": {},
   "outputs": [
    {
     "name": "stdout",
     "output_type": "stream",
     "text": [
      "               precision    recall  f1-score   support\n",
      "\n",
      "    reputable       0.68      1.00      0.81        15\n",
      "non reputable       1.00      0.72      0.84        25\n",
      "\n",
      "     accuracy                           0.82        40\n",
      "    macro avg       0.84      0.86      0.82        40\n",
      " weighted avg       0.88      0.82      0.83        40\n",
      "\n",
      "Train Accuracy: 0.8933333333333333\n",
      "Test Accuracy: 0.825\n"
     ]
    }
   ],
   "source": [
    "from sklearn.metrics import classification_report\n",
    "target_names = ['reputable', 'non reputable']\n",
    "print(classification_report(y_test, y_pred, target_names=target_names))\n",
    "print(\"Train Accuracy:\",logreg.score(X_train, y_train))\n",
    "print(\"Test Accuracy:\",logreg.score(X_test, y_test))"
   ]
  },
  {
   "cell_type": "code",
   "execution_count": 39,
   "metadata": {},
   "outputs": [
    {
     "name": "stdout",
     "output_type": "stream",
     "text": [
      "Mean AUC Score - Logistic Regression:  0.8920828522920204\n"
     ]
    }
   ],
   "source": [
    "from random import shuffle\n",
    "from sklearn.linear_model import LogisticRegression\n",
    "from sklearn.model_selection import KFold\n",
    "from sklearn.model_selection import cross_val_score\n",
    "\n",
    "model = LogisticRegression(max_iter=1000)\n",
    "cross_val = KFold(n_splits=3, random_state=16, shuffle=True)\n",
    "scores = cross_val_score(model, X_train, y_train, cv=cross_val, scoring='roc_auc')\n",
    "print(\"Mean AUC Score - Logistic Regression: \", scores.mean())"
   ]
  },
  {
   "cell_type": "markdown",
   "metadata": {},
   "source": [
    "# Testing different models"
   ]
  },
  {
   "cell_type": "markdown",
   "metadata": {},
   "source": [
    "### Random Forest"
   ]
  },
  {
   "cell_type": "code",
   "execution_count": 40,
   "metadata": {},
   "outputs": [
    {
     "name": "stdout",
     "output_type": "stream",
     "text": [
      "Mean AUC Score - Random Forest:  0.9836903225806451\n"
     ]
    }
   ],
   "source": [
    "from sklearn.ensemble import RandomForestClassifier\n",
    "model1 = RandomForestClassifier()\n",
    "kfold = KFold(n_splits=3, random_state=16, shuffle=True) \n",
    "scores = cross_val_score(model1, X_train, y_train, cv=kfold, scoring='roc_auc')\n",
    "print(\"Mean AUC Score - Random Forest: \", scores.mean())"
   ]
  },
  {
   "cell_type": "code",
   "execution_count": 41,
   "metadata": {},
   "outputs": [
    {
     "name": "stdout",
     "output_type": "stream",
     "text": [
      "Random Forest Train Accuracy: 1.0\n",
      "Random Forest Test Accuracy: 0.95\n",
      "               precision    recall  f1-score   support\n",
      "\n",
      "    reputable       0.88      1.00      0.94        15\n",
      "non reputable       1.00      0.92      0.96        25\n",
      "\n",
      "     accuracy                           0.95        40\n",
      "    macro avg       0.94      0.96      0.95        40\n",
      " weighted avg       0.96      0.95      0.95        40\n",
      "\n"
     ]
    }
   ],
   "source": [
    "# fit the model with data\n",
    "model1.fit(X_train, y_train)\n",
    "\n",
    "rf_pred = model1.predict(X_test)\n",
    "\n",
    "print(\"Random Forest Train Accuracy:\",model1.score(X_train, y_train))\n",
    "print(\"Random Forest Test Accuracy:\",model1.score(X_test, y_test))\n",
    "target_names = ['reputable', 'non reputable']\n",
    "print(classification_report(y_test, rf_pred, target_names=target_names))"
   ]
  },
  {
   "cell_type": "markdown",
   "metadata": {},
   "source": [
    "### Decision Tree"
   ]
  },
  {
   "cell_type": "code",
   "execution_count": 42,
   "metadata": {},
   "outputs": [
    {
     "name": "stdout",
     "output_type": "stream",
     "text": [
      "Mean AUC Score - Decision Tree:  0.9001358234295416\n"
     ]
    }
   ],
   "source": [
    "from sklearn.tree import DecisionTreeClassifier\n",
    "model2 = DecisionTreeClassifier()\n",
    "cross_val = KFold(n_splits=3, random_state=16, shuffle=True)\n",
    "scores = cross_val_score(model2, X_train, y_train, cv=cross_val, scoring='roc_auc')\n",
    "print(\"Mean AUC Score - Decision Tree: \", scores.mean())"
   ]
  },
  {
   "cell_type": "code",
   "execution_count": 43,
   "metadata": {},
   "outputs": [
    {
     "name": "stdout",
     "output_type": "stream",
     "text": [
      "Train Accuracy: 1.0\n",
      "Test Accuracy: 0.95\n",
      "               precision    recall  f1-score   support\n",
      "\n",
      "    reputable       0.88      1.00      0.94        15\n",
      "non reputable       1.00      0.92      0.96        25\n",
      "\n",
      "     accuracy                           0.95        40\n",
      "    macro avg       0.94      0.96      0.95        40\n",
      " weighted avg       0.96      0.95      0.95        40\n",
      "\n"
     ]
    }
   ],
   "source": [
    "# fit the model with data\n",
    "model2.fit(X_train, y_train)\n",
    "\n",
    "dc_pred = model2.predict(X_test)\n",
    "\n",
    "print(\"Train Accuracy:\",model2.score(X_train, y_train))\n",
    "print(\"Test Accuracy:\",model2.score(X_test, y_test))\n",
    "target_names = ['reputable', 'non reputable']\n",
    "print(classification_report(y_test, dc_pred, target_names=target_names))\n"
   ]
  },
  {
   "cell_type": "markdown",
   "metadata": {},
   "source": [
    "### XGBClassifier"
   ]
  },
  {
   "cell_type": "code",
   "execution_count": 44,
   "metadata": {},
   "outputs": [
    {
     "name": "stdout",
     "output_type": "stream",
     "text": [
      "Mean AUC Score - Gaussian Naive Bayes:  0.9438012450481041\n"
     ]
    }
   ],
   "source": [
    "from xgboost import XGBClassifier\n",
    "model4 = XGBClassifier()\n",
    "cross_val = KFold(n_splits=3, random_state=16, shuffle=True)\n",
    "scores = cross_val_score(model4, X_train, y_train, cv=cross_val, scoring='roc_auc')\n",
    "print(\"Mean AUC Score - Gaussian Naive Bayes: \", scores.mean())"
   ]
  },
  {
   "cell_type": "code",
   "execution_count": 45,
   "metadata": {},
   "outputs": [
    {
     "name": "stdout",
     "output_type": "stream",
     "text": [
      "XGB Train Accuracy: 1.0\n",
      "XGB Test Accuracy: 0.975\n",
      "               precision    recall  f1-score   support\n",
      "\n",
      "    reputable       0.94      1.00      0.97        15\n",
      "non reputable       1.00      0.96      0.98        25\n",
      "\n",
      "     accuracy                           0.97        40\n",
      "    macro avg       0.97      0.98      0.97        40\n",
      " weighted avg       0.98      0.97      0.98        40\n",
      "\n"
     ]
    }
   ],
   "source": [
    "# fit the model with data\n",
    "model4.fit(X_train, y_train)\n",
    "\n",
    "xgb_pred = model4.predict(X_test)\n",
    "\n",
    "print(\"XGB Train Accuracy:\",model4.score(X_train, y_train))\n",
    "print(\"XGB Test Accuracy:\",model4.score(X_test, y_test))\n",
    "target_names = ['reputable', 'non reputable']\n",
    "print(classification_report(y_test, xgb_pred, target_names=target_names))"
   ]
  },
  {
   "cell_type": "markdown",
   "metadata": {},
   "source": [
    "### K-Nearest Neighbors"
   ]
  },
  {
   "cell_type": "code",
   "execution_count": 46,
   "metadata": {},
   "outputs": [
    {
     "name": "stdout",
     "output_type": "stream",
     "text": [
      "Mean AUC Score - K-Nearest Neighbors:  0.939644142614601\n"
     ]
    }
   ],
   "source": [
    "from sklearn.neighbors import KNeighborsClassifier\n",
    "model5 = KNeighborsClassifier()\n",
    "cross_val = KFold(n_splits=3, random_state=16, shuffle=True)\n",
    "scores = cross_val_score(model5, X_train, y_train, cv=cross_val, scoring='roc_auc')\n",
    "print(\"Mean AUC Score - K-Nearest Neighbors: \", scores.mean())"
   ]
  },
  {
   "cell_type": "code",
   "execution_count": 47,
   "metadata": {},
   "outputs": [
    {
     "name": "stdout",
     "output_type": "stream",
     "text": [
      "KNN Train Accuracy: 0.92\n",
      "KNN Test Accuracy: 0.9\n"
     ]
    }
   ],
   "source": [
    "# fit the model with data\n",
    "model5.fit(X_train, y_train)\n",
    "\n",
    "k_pred = model5.predict(X_test)\n",
    "\n",
    "print(\"KNN Train Accuracy:\",model5.score(X_train, y_train))\n",
    "print(\"KNN Test Accuracy:\",model5.score(X_test, y_test))"
   ]
  },
  {
   "cell_type": "code",
   "execution_count": 48,
   "metadata": {},
   "outputs": [
    {
     "name": "stdout",
     "output_type": "stream",
     "text": [
      "               precision    recall  f1-score   support\n",
      "\n",
      "    reputable       0.79      1.00      0.88        15\n",
      "non reputable       1.00      0.84      0.91        25\n",
      "\n",
      "     accuracy                           0.90        40\n",
      "    macro avg       0.89      0.92      0.90        40\n",
      " weighted avg       0.92      0.90      0.90        40\n",
      "\n"
     ]
    }
   ],
   "source": [
    "from sklearn.metrics import classification_report\n",
    "\n",
    "target_names = ['reputable', 'non reputable']\n",
    "print(classification_report(y_test, k_pred, target_names=target_names))"
   ]
  },
  {
   "cell_type": "markdown",
   "metadata": {},
   "source": [
    "# Hyper parameters tuning"
   ]
  },
  {
   "cell_type": "code",
   "execution_count": 49,
   "metadata": {},
   "outputs": [
    {
     "name": "stdout",
     "output_type": "stream",
     "text": [
      "Best parameters set found on development set:\n",
      "\n",
      "{'C': 60.3016015075377, 'penalty': 'l2'}\n",
      "\n",
      "Optimized model achieved an ROC of: 0.9442\n",
      "LogReg Train Accuracy: 0.9441777777777778\n",
      "LogReg Test Accuracy: 0.9440000000000001\n"
     ]
    }
   ],
   "source": [
    "from sklearn.model_selection import GridSearchCV\n",
    "tuned_parameters = [{'C': np.linspace(.0001, 1000, 200) , 'penalty': [\"l2\"]}]\n",
    "clf = GridSearchCV(logreg, tuned_parameters, cv=cross_val, scoring= 'roc_auc')\n",
    "clf.fit(X_train, y_train)\n",
    "\n",
    "print(\"Best parameters set found on development set:\")\n",
    "print()\n",
    "print(clf.best_params_)\n",
    "print(\"\\nOptimized model achieved an ROC of:\", round(clf.score(X_train, y_train), 4))\n",
    "print(\"LogReg Train Accuracy:\",clf.score(X_train, y_train))\n",
    "print(\"LogReg Test Accuracy:\",clf.score(X_test, y_test))"
   ]
  },
  {
   "cell_type": "code",
   "execution_count": 50,
   "metadata": {},
   "outputs": [
    {
     "name": "stdout",
     "output_type": "stream",
     "text": [
      "Fitting 3 folds for each of 288 candidates, totalling 864 fits\n",
      "Best parameters set found on development set:\n",
      "\n",
      "{'bootstrap': True, 'max_depth': 100, 'max_features': 3, 'min_samples_leaf': 3, 'min_samples_split': 8, 'n_estimators': 200}\n",
      "\n",
      "Optimized model achieved an ROC of: 0.9733\n",
      "RF Train Accuracy: 0.9733333333333334\n",
      "RF Test Accuracy: 0.975\n"
     ]
    }
   ],
   "source": [
    "param_grid = {\n",
    "    'bootstrap': [True],\n",
    "    'max_depth': [80, 90, 100, 110],\n",
    "    'max_features': [2, 3],\n",
    "    'min_samples_leaf': [3, 4, 5],\n",
    "    'min_samples_split': [8, 10, 12],\n",
    "    'n_estimators': [100, 200, 300, 1000]\n",
    "}\n",
    "# Instantiate the grid search model\n",
    "clf2 = GridSearchCV(model1, param_grid=param_grid, cv=cross_val, n_jobs=-1, verbose=2)\n",
    "\n",
    "clf2.fit(X_train, y_train)\n",
    "\n",
    "print(\"Best parameters set found on development set:\")\n",
    "print()\n",
    "print(clf2.best_params_)\n",
    "print(\"\\nOptimized model achieved an ROC of:\", round(clf2.score(X_train, y_train), 4))\n",
    "print(\"RF Train Accuracy:\",clf2.score(X_train, y_train))\n",
    "print(\"RF Test Accuracy:\",clf2.score(X_test, y_test))"
   ]
  },
  {
   "cell_type": "markdown",
   "metadata": {},
   "source": [
    "Random forest"
   ]
  },
  {
   "cell_type": "code",
   "execution_count": 51,
   "metadata": {},
   "outputs": [
    {
     "name": "stdout",
     "output_type": "stream",
     "text": [
      "LogReg Train Accuracy: 0.8974040847489978\n",
      "LogReg Test Accuracy: 0.8455808080808079\n",
      "RF Train Accuracy: 0.963963963963964\n",
      "RF Test Accuracy: 0.956989247311828\n"
     ]
    }
   ],
   "source": [
    "print(\"LogReg Train Accuracy:\",clf.score(a_train, b_train))\n",
    "print(\"LogReg Test Accuracy:\",clf.score(a_test, b_test))\n",
    "\n",
    "print(\"RF Train Accuracy:\",clf2.score(a_train, b_train))\n",
    "print(\"RF Test Accuracy:\",clf2.score(a_test, b_test))"
   ]
  },
  {
   "cell_type": "markdown",
   "metadata": {},
   "source": [
    "# Save model"
   ]
  },
  {
   "cell_type": "code",
   "execution_count": 52,
   "metadata": {},
   "outputs": [],
   "source": [
    "import pickle\n",
    "\n",
    "pickle.dump(clf2, open('RFmodelFinal', 'wb'))"
   ]
  }
 ],
 "metadata": {
  "kernelspec": {
   "display_name": "Python 3.10.0 64-bit",
   "language": "python",
   "name": "python3"
  },
  "language_info": {
   "codemirror_mode": {
    "name": "ipython",
    "version": 3
   },
   "file_extension": ".py",
   "mimetype": "text/x-python",
   "name": "python",
   "nbconvert_exporter": "python",
   "pygments_lexer": "ipython3",
   "version": "3.10.1"
  },
  "orig_nbformat": 4,
  "vscode": {
   "interpreter": {
    "hash": "369f2c481f4da34e4445cda3fffd2e751bd1c4d706f27375911949ba6bb62e1c"
   }
  }
 },
 "nbformat": 4,
 "nbformat_minor": 2
}
