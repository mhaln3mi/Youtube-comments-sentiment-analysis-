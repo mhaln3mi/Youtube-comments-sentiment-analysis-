{
 "cells": [
  {
   "cell_type": "markdown",
   "metadata": {},
   "source": [
    "### Importing libraries "
   ]
  },
  {
   "cell_type": "code",
   "execution_count": 141,
   "metadata": {},
   "outputs": [],
   "source": [
    "import pandas as pd\n",
    "import seaborn as sns\n",
    "import numpy as np\n",
    "from dateutil import parser\n",
    "import matplotlib as plt"
   ]
  },
  {
   "cell_type": "markdown",
   "metadata": {},
   "source": [
    "### Importing Data"
   ]
  },
  {
   "cell_type": "code",
   "execution_count": 142,
   "metadata": {},
   "outputs": [],
   "source": [
    "df = pd.read_csv('data/ytdataframe.csv')\n",
    "\n",
    "dff = pd.read_csv(r'C:\\Users\\wled3\\ytunlabeled.csv')"
   ]
  },
  {
   "cell_type": "code",
   "execution_count": 143,
   "metadata": {},
   "outputs": [
    {
     "data": {
      "text/html": [
       "<div>\n",
       "<style scoped>\n",
       "    .dataframe tbody tr th:only-of-type {\n",
       "        vertical-align: middle;\n",
       "    }\n",
       "\n",
       "    .dataframe tbody tr th {\n",
       "        vertical-align: top;\n",
       "    }\n",
       "\n",
       "    .dataframe thead th {\n",
       "        text-align: right;\n",
       "    }\n",
       "</style>\n",
       "<table border=\"1\" class=\"dataframe\">\n",
       "  <thead>\n",
       "    <tr style=\"text-align: right;\">\n",
       "      <th></th>\n",
       "      <th>Unnamed: 0</th>\n",
       "      <th>video_id</th>\n",
       "      <th>channelTitle</th>\n",
       "      <th>title</th>\n",
       "      <th>description</th>\n",
       "      <th>tags</th>\n",
       "      <th>publishedAt</th>\n",
       "      <th>viewCount</th>\n",
       "      <th>likeCount</th>\n",
       "      <th>favouriteCount</th>\n",
       "      <th>commentCount</th>\n",
       "      <th>duration</th>\n",
       "      <th>definition</th>\n",
       "      <th>caption</th>\n",
       "      <th>subscribers</th>\n",
       "      <th>totalViews</th>\n",
       "      <th>totalVideos</th>\n",
       "      <th>total polarity score</th>\n",
       "      <th>Label</th>\n",
       "    </tr>\n",
       "  </thead>\n",
       "  <tbody>\n",
       "    <tr>\n",
       "      <th>0</th>\n",
       "      <td>0</td>\n",
       "      <td>-SejlHOXexc</td>\n",
       "      <td>Tech Tutorial</td>\n",
       "      <td>How to download facebook stories in your phone</td>\n",
       "      <td>Hey friends today we have another great topic ...</td>\n",
       "      <td>['facebook stories in your phone', 'download f...</td>\n",
       "      <td>2019-11-02T14:25:35Z</td>\n",
       "      <td>968252</td>\n",
       "      <td>11104</td>\n",
       "      <td>NaN</td>\n",
       "      <td>338</td>\n",
       "      <td>PT3M55S</td>\n",
       "      <td>hd</td>\n",
       "      <td>False</td>\n",
       "      <td>140000</td>\n",
       "      <td>8642059</td>\n",
       "      <td>161</td>\n",
       "      <td>0.0082</td>\n",
       "      <td>non reputable</td>\n",
       "    </tr>\n",
       "    <tr>\n",
       "      <th>1</th>\n",
       "      <td>1</td>\n",
       "      <td>set4Kr8hX0w</td>\n",
       "      <td>Tech Tutorial</td>\n",
       "      <td>How to check whatsapp lastseen if hidden or bl...</td>\n",
       "      <td>Hello  friends welcome to my channel Our today...</td>\n",
       "      <td>['How to check whatsapp lastseen if hidden or ...</td>\n",
       "      <td>2018-01-20T15:35:36Z</td>\n",
       "      <td>1477841</td>\n",
       "      <td>11931</td>\n",
       "      <td>NaN</td>\n",
       "      <td>860</td>\n",
       "      <td>PT4M44S</td>\n",
       "      <td>hd</td>\n",
       "      <td>False</td>\n",
       "      <td>140000</td>\n",
       "      <td>8642059</td>\n",
       "      <td>161</td>\n",
       "      <td>0.1820</td>\n",
       "      <td>non reputable</td>\n",
       "    </tr>\n",
       "    <tr>\n",
       "      <th>2</th>\n",
       "      <td>2</td>\n",
       "      <td>s4EYU1ptpIs</td>\n",
       "      <td>Tech Tutorial</td>\n",
       "      <td>How to change voice during call | Male female ...</td>\n",
       "      <td>Hey friends today we have another great topic ...</td>\n",
       "      <td>['How to change voice during call', 'voice cha...</td>\n",
       "      <td>2021-11-30T17:37:11Z</td>\n",
       "      <td>542795</td>\n",
       "      <td>9114</td>\n",
       "      <td>NaN</td>\n",
       "      <td>332</td>\n",
       "      <td>PT5M21S</td>\n",
       "      <td>hd</td>\n",
       "      <td>False</td>\n",
       "      <td>140000</td>\n",
       "      <td>8642059</td>\n",
       "      <td>161</td>\n",
       "      <td>0.0890</td>\n",
       "      <td>non reputable</td>\n",
       "    </tr>\n",
       "    <tr>\n",
       "      <th>3</th>\n",
       "      <td>3</td>\n",
       "      <td>-lcPJAa6trw</td>\n",
       "      <td>Tech Tutorial</td>\n",
       "      <td>How to check who read my message in whatsapp g...</td>\n",
       "      <td>Hey friends today we have another great topic ...</td>\n",
       "      <td>['how to check who read message in whatsapp gr...</td>\n",
       "      <td>2018-05-07T15:12:51Z</td>\n",
       "      <td>322980</td>\n",
       "      <td>5359</td>\n",
       "      <td>NaN</td>\n",
       "      <td>266</td>\n",
       "      <td>PT3M</td>\n",
       "      <td>hd</td>\n",
       "      <td>False</td>\n",
       "      <td>140000</td>\n",
       "      <td>8642059</td>\n",
       "      <td>161</td>\n",
       "      <td>0.3620</td>\n",
       "      <td>non reputable</td>\n",
       "    </tr>\n",
       "    <tr>\n",
       "      <th>4</th>\n",
       "      <td>4</td>\n",
       "      <td>G1F6W7QhrWU</td>\n",
       "      <td>Tech Tutorial</td>\n",
       "      <td>How to Record Messenger calls -facebook messen...</td>\n",
       "      <td>Hey friends today we have another great topic ...</td>\n",
       "      <td>['How to Record Messenger calls', 'facebook me...</td>\n",
       "      <td>2021-10-07T16:18:54Z</td>\n",
       "      <td>42017</td>\n",
       "      <td>321</td>\n",
       "      <td>NaN</td>\n",
       "      <td>19</td>\n",
       "      <td>PT4M23S</td>\n",
       "      <td>hd</td>\n",
       "      <td>False</td>\n",
       "      <td>140000</td>\n",
       "      <td>8642059</td>\n",
       "      <td>161</td>\n",
       "      <td>0.3250</td>\n",
       "      <td>non reputable</td>\n",
       "    </tr>\n",
       "  </tbody>\n",
       "</table>\n",
       "</div>"
      ],
      "text/plain": [
       "   Unnamed: 0     video_id   channelTitle  \\\n",
       "0           0  -SejlHOXexc  Tech Tutorial   \n",
       "1           1  set4Kr8hX0w  Tech Tutorial   \n",
       "2           2  s4EYU1ptpIs  Tech Tutorial   \n",
       "3           3  -lcPJAa6trw  Tech Tutorial   \n",
       "4           4  G1F6W7QhrWU  Tech Tutorial   \n",
       "\n",
       "                                               title  \\\n",
       "0     How to download facebook stories in your phone   \n",
       "1  How to check whatsapp lastseen if hidden or bl...   \n",
       "2  How to change voice during call | Male female ...   \n",
       "3  How to check who read my message in whatsapp g...   \n",
       "4  How to Record Messenger calls -facebook messen...   \n",
       "\n",
       "                                         description  \\\n",
       "0  Hey friends today we have another great topic ...   \n",
       "1  Hello  friends welcome to my channel Our today...   \n",
       "2  Hey friends today we have another great topic ...   \n",
       "3  Hey friends today we have another great topic ...   \n",
       "4  Hey friends today we have another great topic ...   \n",
       "\n",
       "                                                tags           publishedAt  \\\n",
       "0  ['facebook stories in your phone', 'download f...  2019-11-02T14:25:35Z   \n",
       "1  ['How to check whatsapp lastseen if hidden or ...  2018-01-20T15:35:36Z   \n",
       "2  ['How to change voice during call', 'voice cha...  2021-11-30T17:37:11Z   \n",
       "3  ['how to check who read message in whatsapp gr...  2018-05-07T15:12:51Z   \n",
       "4  ['How to Record Messenger calls', 'facebook me...  2021-10-07T16:18:54Z   \n",
       "\n",
       "   viewCount  likeCount  favouriteCount  commentCount duration definition  \\\n",
       "0     968252      11104             NaN           338  PT3M55S         hd   \n",
       "1    1477841      11931             NaN           860  PT4M44S         hd   \n",
       "2     542795       9114             NaN           332  PT5M21S         hd   \n",
       "3     322980       5359             NaN           266     PT3M         hd   \n",
       "4      42017        321             NaN            19  PT4M23S         hd   \n",
       "\n",
       "   caption  subscribers  totalViews  totalVideos  total polarity score  \\\n",
       "0    False       140000     8642059          161                0.0082   \n",
       "1    False       140000     8642059          161                0.1820   \n",
       "2    False       140000     8642059          161                0.0890   \n",
       "3    False       140000     8642059          161                0.3620   \n",
       "4    False       140000     8642059          161                0.3250   \n",
       "\n",
       "           Label  \n",
       "0  non reputable  \n",
       "1  non reputable  \n",
       "2  non reputable  \n",
       "3  non reputable  \n",
       "4  non reputable  "
      ]
     },
     "execution_count": 143,
     "metadata": {},
     "output_type": "execute_result"
    }
   ],
   "source": [
    "df.head(5)"
   ]
  },
  {
   "cell_type": "code",
   "execution_count": 144,
   "metadata": {},
   "outputs": [
    {
     "name": "stdout",
     "output_type": "stream",
     "text": [
      "<class 'pandas.core.frame.DataFrame'>\n",
      "RangeIndex: 106 entries, 0 to 105\n",
      "Data columns (total 19 columns):\n",
      " #   Column                Non-Null Count  Dtype  \n",
      "---  ------                --------------  -----  \n",
      " 0   Unnamed: 0            106 non-null    int64  \n",
      " 1   video_id              106 non-null    object \n",
      " 2   channelTitle          106 non-null    object \n",
      " 3   title                 106 non-null    object \n",
      " 4   description           106 non-null    object \n",
      " 5   tags                  99 non-null     object \n",
      " 6   publishedAt           106 non-null    object \n",
      " 7   viewCount             106 non-null    int64  \n",
      " 8   likeCount             106 non-null    int64  \n",
      " 9   favouriteCount        0 non-null      float64\n",
      " 10  commentCount          106 non-null    int64  \n",
      " 11  duration              106 non-null    object \n",
      " 12  definition            106 non-null    object \n",
      " 13  caption               106 non-null    bool   \n",
      " 14  subscribers           106 non-null    int64  \n",
      " 15  totalViews            106 non-null    int64  \n",
      " 16  totalVideos           106 non-null    int64  \n",
      " 17  total polarity score  106 non-null    float64\n",
      " 18  Label                 106 non-null    object \n",
      "dtypes: bool(1), float64(2), int64(7), object(9)\n",
      "memory usage: 15.1+ KB\n"
     ]
    }
   ],
   "source": [
    "df.info()"
   ]
  },
  {
   "cell_type": "markdown",
   "metadata": {},
   "source": [
    "# Data preprocessing "
   ]
  },
  {
   "cell_type": "markdown",
   "metadata": {},
   "source": [
    "Checking duplicates"
   ]
  },
  {
   "cell_type": "code",
   "execution_count": 145,
   "metadata": {},
   "outputs": [
    {
     "data": {
      "text/plain": [
       "0"
      ]
     },
     "execution_count": 145,
     "metadata": {},
     "output_type": "execute_result"
    }
   ],
   "source": [
    "df.duplicated().sum()\n"
   ]
  },
  {
   "cell_type": "code",
   "execution_count": 146,
   "metadata": {},
   "outputs": [
    {
     "data": {
      "text/plain": [
       "(106, 19)"
      ]
     },
     "execution_count": 146,
     "metadata": {},
     "output_type": "execute_result"
    }
   ],
   "source": [
    "df = df.drop_duplicates()\n",
    "df.shape"
   ]
  },
  {
   "cell_type": "markdown",
   "metadata": {},
   "source": [
    "Checking null values"
   ]
  },
  {
   "cell_type": "code",
   "execution_count": 147,
   "metadata": {},
   "outputs": [
    {
     "data": {
      "text/plain": [
       "Unnamed: 0                0\n",
       "video_id                  0\n",
       "channelTitle              0\n",
       "title                     0\n",
       "description               0\n",
       "tags                      7\n",
       "publishedAt               0\n",
       "viewCount                 0\n",
       "likeCount                 0\n",
       "favouriteCount          106\n",
       "commentCount              0\n",
       "duration                  0\n",
       "definition                0\n",
       "caption                   0\n",
       "subscribers               0\n",
       "totalViews                0\n",
       "totalVideos               0\n",
       "total polarity score      0\n",
       "Label                     0\n",
       "dtype: int64"
      ]
     },
     "execution_count": 147,
     "metadata": {},
     "output_type": "execute_result"
    }
   ],
   "source": [
    "df.isnull().sum()\n"
   ]
  },
  {
   "cell_type": "markdown",
   "metadata": {},
   "source": [
    "Convert count columns to numeric"
   ]
  },
  {
   "cell_type": "code",
   "execution_count": 148,
   "metadata": {},
   "outputs": [],
   "source": [
    "numeric_cols = ['viewCount', 'likeCount', 'favouriteCount', 'commentCount']\n",
    "\n",
    "df[numeric_cols] = df[numeric_cols].apply(pd.to_numeric, errors = 'coerce', axis = 1)\n",
    "\n",
    "dff[numeric_cols] = dff[numeric_cols].apply(pd.to_numeric, errors = 'coerce', axis = 1)"
   ]
  },
  {
   "cell_type": "markdown",
   "metadata": {},
   "source": [
    "Convert publish date to year"
   ]
  },
  {
   "cell_type": "code",
   "execution_count": 149,
   "metadata": {},
   "outputs": [],
   "source": [
    "df['publishedAt'] = df['publishedAt'].apply(lambda x: parser.parse(x)) \n",
    "df['pushblishYear'] = df['publishedAt'].apply(lambda x: x.strftime(\"%Y\"))\n",
    "\n",
    "dff['publishedAt'] = dff['publishedAt'].apply(lambda x: parser.parse(x)) \n",
    "dff['pushblishYear'] = dff['publishedAt'].apply(lambda x: x.strftime(\"%Y\"))"
   ]
  },
  {
   "cell_type": "markdown",
   "metadata": {},
   "source": [
    "Convert duration to seconds"
   ]
  },
  {
   "cell_type": "code",
   "execution_count": 150,
   "metadata": {},
   "outputs": [],
   "source": [
    "import isodate\n",
    "df['durationSecs'] = df['duration'].apply(lambda x: isodate.parse_duration(x))\n",
    "df['durationSecs'] = df['durationSecs'].astype('timedelta64[s]')\n",
    "\n",
    "dff['durationSecs'] = dff['duration'].apply(lambda x: isodate.parse_duration(x))\n",
    "dff['durationSecs'] = dff['durationSecs'].astype('timedelta64[s]')"
   ]
  },
  {
   "cell_type": "markdown",
   "metadata": {},
   "source": [
    "Add tag count"
   ]
  },
  {
   "cell_type": "code",
   "execution_count": 151,
   "metadata": {},
   "outputs": [],
   "source": [
    "\n",
    "\n",
    "df['tagCount'] = df['tags'].apply(lambda x: 0 if x is np.nan else len(x))\n",
    "\n",
    "dff['tagCount'] = dff['tags'].apply(lambda x: 0 if x is np.nan else len(x))"
   ]
  },
  {
   "cell_type": "markdown",
   "metadata": {},
   "source": [
    "Dropping columns we wont use"
   ]
  },
  {
   "cell_type": "code",
   "execution_count": 152,
   "metadata": {},
   "outputs": [],
   "source": [
    "df = df.drop(['Unnamed: 0', 'publishedAt', 'duration', 'favouriteCount', 'video_id', 'tags'], axis=1)\n",
    "\n",
    "dff = dff.drop(['Unnamed: 0', 'publishedAt', 'duration', 'favouriteCount', 'video_id', 'tags'], axis=1)\n"
   ]
  },
  {
   "cell_type": "markdown",
   "metadata": {},
   "source": [
    "# EDA"
   ]
  },
  {
   "cell_type": "markdown",
   "metadata": {},
   "source": [
    "### Label distribution "
   ]
  },
  {
   "cell_type": "code",
   "execution_count": 153,
   "metadata": {},
   "outputs": [
    {
     "data": {
      "text/plain": [
       "reputable        75\n",
       "non reputable    31\n",
       "Name: Label, dtype: int64"
      ]
     },
     "execution_count": 153,
     "metadata": {},
     "output_type": "execute_result"
    },
    {
     "data": {
      "image/png": "[encoded data removed]",
      "text/plain": [
       "<Figure size 500x500 with 1 Axes>"
      ]
     },
     "metadata": {},
     "output_type": "display_data"
    }
   ],
   "source": [
    "sns.displot(df, x=\"Label\")\n",
    "df[\"Label\"].value_counts()"
   ]
  },
  {
   "cell_type": "markdown",
   "metadata": {},
   "source": [
    "Our data is unbalanced so we might need oversampling"
   ]
  },
  {
   "cell_type": "code",
   "execution_count": 183,
   "metadata": {},
   "outputs": [
    {
     "data": {
      "text/plain": [
       "<AxesSubplot:xlabel='total polarity score', ylabel='commentCount'>"
      ]
     },
     "execution_count": 183,
     "metadata": {},
     "output_type": "execute_result"
    },
    {
     "data": {
      "image/png": "[encoded data removed]",
      "text/plain": [
       "<Figure size 640x480 with 1 Axes>"
      ]
     },
     "metadata": {},
     "output_type": "display_data"
    }
   ],
   "source": [
    "sns.scatterplot(x=\"total polarity score\", y=\"commentCount\", hue=\"Label\", data = df)"
   ]
  },
  {
   "cell_type": "markdown",
   "metadata": {},
   "source": [
    "# Modeling"
   ]
  },
  {
   "cell_type": "code",
   "execution_count": 155,
   "metadata": {},
   "outputs": [],
   "source": [
    "import sklearn\n",
    "from sklearn.model_selection import train_test_split\n",
    "from sklearn.linear_model import LogisticRegression\n",
    "from sklearn.preprocessing import LabelEncoder"
   ]
  },
  {
   "cell_type": "code",
   "execution_count": 156,
   "metadata": {},
   "outputs": [
    {
     "data": {
      "text/html": [
       "<div>\n",
       "<style scoped>\n",
       "    .dataframe tbody tr th:only-of-type {\n",
       "        vertical-align: middle;\n",
       "    }\n",
       "\n",
       "    .dataframe tbody tr th {\n",
       "        vertical-align: top;\n",
       "    }\n",
       "\n",
       "    .dataframe thead th {\n",
       "        text-align: right;\n",
       "    }\n",
       "</style>\n",
       "<table border=\"1\" class=\"dataframe\">\n",
       "  <thead>\n",
       "    <tr style=\"text-align: right;\">\n",
       "      <th></th>\n",
       "      <th>channelTitle</th>\n",
       "      <th>title</th>\n",
       "      <th>description</th>\n",
       "      <th>viewCount</th>\n",
       "      <th>likeCount</th>\n",
       "      <th>commentCount</th>\n",
       "      <th>definition</th>\n",
       "      <th>caption</th>\n",
       "      <th>subscribers</th>\n",
       "      <th>totalViews</th>\n",
       "      <th>totalVideos</th>\n",
       "      <th>total polarity score</th>\n",
       "      <th>Label</th>\n",
       "      <th>pushblishYear</th>\n",
       "      <th>durationSecs</th>\n",
       "      <th>tagCount</th>\n",
       "    </tr>\n",
       "  </thead>\n",
       "  <tbody>\n",
       "    <tr>\n",
       "      <th>0</th>\n",
       "      <td>13</td>\n",
       "      <td>44</td>\n",
       "      <td>30</td>\n",
       "      <td>968252.0</td>\n",
       "      <td>11104.0</td>\n",
       "      <td>338.0</td>\n",
       "      <td>0</td>\n",
       "      <td>0</td>\n",
       "      <td>140000</td>\n",
       "      <td>8642059</td>\n",
       "      <td>161</td>\n",
       "      <td>0.0082</td>\n",
       "      <td>0</td>\n",
       "      <td>2019</td>\n",
       "      <td>235.0</td>\n",
       "      <td>412</td>\n",
       "    </tr>\n",
       "  </tbody>\n",
       "</table>\n",
       "</div>"
      ],
      "text/plain": [
       "   channelTitle  title  description  viewCount  likeCount  commentCount  \\\n",
       "0            13     44           30   968252.0    11104.0         338.0   \n",
       "\n",
       "   definition  caption  subscribers  totalViews  totalVideos  \\\n",
       "0           0        0       140000     8642059          161   \n",
       "\n",
       "   total polarity score  Label pushblishYear  durationSecs  tagCount  \n",
       "0                0.0082      0          2019         235.0       412  "
      ]
     },
     "execution_count": 156,
     "metadata": {},
     "output_type": "execute_result"
    }
   ],
   "source": [
    "le = LabelEncoder()\n",
    "\n",
    "df2 = ['channelTitle', 'title', 'description', 'definition', 'caption', 'Label']\n",
    "\n",
    "df[df2] = df[df2].apply(le.fit_transform)\n",
    "\n",
    "dffs = ['channelTitle', 'title', 'description', 'definition', 'caption']\n",
    "dff[dffs] = dff[dffs].apply(le.fit_transform)\n",
    "\n",
    "\n",
    "\n",
    "df.head(1)"
   ]
  },
  {
   "cell_type": "code",
   "execution_count": 158,
   "metadata": {},
   "outputs": [],
   "source": [
    "feat_col = ['channelTitle', 'title', 'description', 'viewCount', 'likeCount', 'definition', 'commentCount', 'caption', 'subscribers', 'totalViews', 'totalVideos', 'total polarity score', 'pushblishYear', 'durationSecs', 'tagCount']\n",
    "\n",
    "X = df[feat_col] # Features\n",
    "y = df.Label # Target variable"
   ]
  },
  {
   "cell_type": "code",
   "execution_count": 159,
   "metadata": {},
   "outputs": [],
   "source": [
    "X_train, X_test, y_train, y_test = train_test_split(X, y, test_size=0.25, random_state=16)"
   ]
  },
  {
   "cell_type": "code",
   "execution_count": 160,
   "metadata": {},
   "outputs": [],
   "source": [
    "# instantiate the model (using the default parameters)\n",
    "logreg = LogisticRegression(random_state=16, max_iter=1000)\n",
    "\n",
    "# fit the model with data\n",
    "logreg.fit(X_train, y_train)\n",
    "\n",
    "y_pred = logreg.predict(X_test)"
   ]
  },
  {
   "cell_type": "code",
   "execution_count": 163,
   "metadata": {},
   "outputs": [
    {
     "name": "stdout",
     "output_type": "stream",
     "text": [
      "               precision    recall  f1-score   support\n",
      "\n",
      "    reputable       0.88      0.88      0.88         8\n",
      "non reputable       0.95      0.95      0.95        19\n",
      "\n",
      "     accuracy                           0.93        27\n",
      "    macro avg       0.91      0.91      0.91        27\n",
      " weighted avg       0.93      0.93      0.93        27\n",
      "\n"
     ]
    }
   ],
   "source": [
    "from sklearn.metrics import classification_report\n",
    "target_names = ['reputable', 'non reputable']\n",
    "print(classification_report(y_test, y_pred, target_names=target_names))"
   ]
  },
  {
   "cell_type": "code",
   "execution_count": 164,
   "metadata": {},
   "outputs": [
    {
     "name": "stdout",
     "output_type": "stream",
     "text": [
      "Train Accuracy: 0.9367088607594937\n",
      "Test Accuracy: 0.9259259259259259\n"
     ]
    }
   ],
   "source": [
    "\n",
    "\n",
    "print(\"Train Accuracy:\",logreg.score(X_train, y_train))\n",
    "print(\"Test Accuracy:\",logreg.score(X_test, y_test))"
   ]
  },
  {
   "cell_type": "code",
   "execution_count": 165,
   "metadata": {},
   "outputs": [
    {
     "name": "stdout",
     "output_type": "stream",
     "text": [
      "Mean AUC Score - Logistic Regression:  0.9276515151515151\n"
     ]
    }
   ],
   "source": [
    "from random import shuffle\n",
    "from sklearn.linear_model import LogisticRegression\n",
    "from sklearn.model_selection import KFold\n",
    "from sklearn.model_selection import cross_val_score\n",
    "\n",
    "model = LogisticRegression(max_iter=1000)\n",
    "cross_val = KFold(n_splits=3, random_state=16, shuffle=True)\n",
    "scores = cross_val_score(model, X_train, y_train, cv=cross_val, scoring='roc_auc')\n",
    "print(\"Mean AUC Score - Logistic Regression: \", scores.mean())"
   ]
  },
  {
   "cell_type": "markdown",
   "metadata": {},
   "source": [
    "# Testing different models"
   ]
  },
  {
   "cell_type": "markdown",
   "metadata": {},
   "source": [
    "### Random Forest"
   ]
  },
  {
   "cell_type": "code",
   "execution_count": 166,
   "metadata": {},
   "outputs": [
    {
     "name": "stdout",
     "output_type": "stream",
     "text": [
      "Mean AUC Score - Random Forest:  0.9833333333333334\n"
     ]
    }
   ],
   "source": [
    "from sklearn.ensemble import RandomForestClassifier\n",
    "model1 = RandomForestClassifier()\n",
    "kfold = KFold(n_splits=3, random_state=16, shuffle=True) \n",
    "scores = cross_val_score(model1, X_train, y_train, cv=kfold, scoring='roc_auc')\n",
    "print(\"Mean AUC Score - Random Forest: \", scores.mean())"
   ]
  },
  {
   "cell_type": "code",
   "execution_count": 167,
   "metadata": {},
   "outputs": [
    {
     "name": "stdout",
     "output_type": "stream",
     "text": [
      "Train Accuracy: 1.0\n",
      "Test Accuracy: 0.9259259259259259\n"
     ]
    }
   ],
   "source": [
    "# fit the model with data\n",
    "model1.fit(X_train, y_train)\n",
    "\n",
    "rf_pred = model1.predict(X_test)\n",
    "\n",
    "print(\"Train Accuracy:\",model1.score(X_train, y_train))\n",
    "print(\"Test Accuracy:\",model1.score(X_test, y_test))"
   ]
  },
  {
   "cell_type": "markdown",
   "metadata": {},
   "source": [
    "### Decision Tree"
   ]
  },
  {
   "cell_type": "code",
   "execution_count": 168,
   "metadata": {},
   "outputs": [
    {
     "name": "stdout",
     "output_type": "stream",
     "text": [
      "Mean AUC Score - Decision Tree:  0.9335227272727273\n"
     ]
    }
   ],
   "source": [
    "from sklearn.tree import DecisionTreeClassifier\n",
    "model2 = DecisionTreeClassifier()\n",
    "cross_val = KFold(n_splits=3, random_state=16, shuffle=True)\n",
    "scores = cross_val_score(model2, X_train, y_train, cv=cross_val, scoring='roc_auc')\n",
    "print(\"Mean AUC Score - Decision Tree: \", scores.mean())"
   ]
  },
  {
   "cell_type": "code",
   "execution_count": 169,
   "metadata": {},
   "outputs": [
    {
     "name": "stdout",
     "output_type": "stream",
     "text": [
      "Train Accuracy: 1.0\n",
      "Test Accuracy: 0.9629629629629629\n"
     ]
    }
   ],
   "source": [
    "# fit the model with data\n",
    "model2.fit(X_train, y_train)\n",
    "\n",
    "dc_pred = model2.predict(X_test)\n",
    "\n",
    "print(\"Train Accuracy:\",model2.score(X_train, y_train))\n",
    "print(\"Test Accuracy:\",model2.score(X_test, y_test))"
   ]
  },
  {
   "cell_type": "markdown",
   "metadata": {},
   "source": [
    "### Gaussian Naive Bayes"
   ]
  },
  {
   "cell_type": "code",
   "execution_count": 170,
   "metadata": {},
   "outputs": [
    {
     "name": "stdout",
     "output_type": "stream",
     "text": [
      "Mean AUC Score - Gaussian Naive Bayes:  0.9066287878787879\n"
     ]
    }
   ],
   "source": [
    "from sklearn.naive_bayes import GaussianNB\n",
    "model4 = GaussianNB()\n",
    "cross_val = KFold(n_splits=3, random_state=16, shuffle=True)\n",
    "scores = cross_val_score(model4, X_train, y_train, cv=cross_val, scoring='roc_auc')\n",
    "print(\"Mean AUC Score - Gaussian Naive Bayes: \", scores.mean())"
   ]
  },
  {
   "cell_type": "code",
   "execution_count": 171,
   "metadata": {},
   "outputs": [
    {
     "name": "stdout",
     "output_type": "stream",
     "text": [
      "Train Accuracy: 0.8354430379746836\n",
      "Test Accuracy: 0.7407407407407407\n"
     ]
    }
   ],
   "source": [
    "# fit the model with data\n",
    "model4.fit(X_train, y_train)\n",
    "\n",
    "gn_pred = model4.predict(X_test)\n",
    "\n",
    "print(\"Train Accuracy:\",model4.score(X_train, y_train))\n",
    "print(\"Test Accuracy:\",model4.score(X_test, y_test))"
   ]
  },
  {
   "cell_type": "markdown",
   "metadata": {},
   "source": [
    "### K-Nearest Neighbors"
   ]
  },
  {
   "cell_type": "code",
   "execution_count": 172,
   "metadata": {},
   "outputs": [
    {
     "name": "stdout",
     "output_type": "stream",
     "text": [
      "Mean AUC Score - K-Nearest Neighbors:  0.9347537878787878\n"
     ]
    }
   ],
   "source": [
    "from sklearn.neighbors import KNeighborsClassifier\n",
    "model5 = KNeighborsClassifier()\n",
    "cross_val = KFold(n_splits=3, random_state=16, shuffle=True)\n",
    "scores = cross_val_score(model5, X_train, y_train, cv=cross_val, scoring='roc_auc')\n",
    "print(\"Mean AUC Score - K-Nearest Neighbors: \", scores.mean())"
   ]
  },
  {
   "cell_type": "code",
   "execution_count": 173,
   "metadata": {},
   "outputs": [
    {
     "name": "stdout",
     "output_type": "stream",
     "text": [
      "Train Accuracy: 0.9493670886075949\n",
      "Test Accuracy: 0.9259259259259259\n"
     ]
    }
   ],
   "source": [
    "# fit the model with data\n",
    "model5.fit(X_train, y_train)\n",
    "\n",
    "k_pred = model5.predict(X_test)\n",
    "\n",
    "print(\"Train Accuracy:\",model5.score(X_train, y_train))\n",
    "print(\"Test Accuracy:\",model5.score(X_test, y_test))"
   ]
  },
  {
   "cell_type": "markdown",
   "metadata": {},
   "source": [
    "From the 5 scores above the top 3 performers were Logistic Regression and Random Forest and K-Neasrest Neighbors. We will move ahead and fine tune them."
   ]
  },
  {
   "cell_type": "markdown",
   "metadata": {},
   "source": [
    "# Hyper parameters tuning"
   ]
  },
  {
   "cell_type": "code",
   "execution_count": 180,
   "metadata": {},
   "outputs": [
    {
     "name": "stdout",
     "output_type": "stream",
     "text": [
      "Best parameters set found on development set:\n",
      "\n",
      "{'C': 1335.6679205602802, 'penalty': 'l2'}\n",
      "\n",
      "Optimized model achieved an ROC of: 0.9775\n"
     ]
    },
    {
     "name": "stderr",
     "output_type": "stream",
     "text": [
      "c:\\Python310\\lib\\site-packages\\sklearn\\model_selection\\_validation.py:378: FitFailedWarning: \n",
      "6000 fits failed out of a total of 12000.\n",
      "The score on these train-test partitions for these parameters will be set to nan.\n",
      "If these failures are not expected, you can try to debug them by setting error_score='raise'.\n",
      "\n",
      "Below are more details about the failures:\n",
      "--------------------------------------------------------------------------------\n",
      "6000 fits failed with the following error:\n",
      "Traceback (most recent call last):\n",
      "  File \"c:\\Python310\\lib\\site-packages\\sklearn\\model_selection\\_validation.py\", line 686, in _fit_and_score\n",
      "    estimator.fit(X_train, y_train, **fit_params)\n",
      "  File \"c:\\Python310\\lib\\site-packages\\sklearn\\linear_model\\_logistic.py\", line 1091, in fit\n",
      "    solver = _check_solver(self.solver, self.penalty, self.dual)\n",
      "  File \"c:\\Python310\\lib\\site-packages\\sklearn\\linear_model\\_logistic.py\", line 61, in _check_solver\n",
      "    raise ValueError(\n",
      "ValueError: Solver lbfgs supports only 'l2' or 'none' penalties, got l1 penalty.\n",
      "\n",
      "  warnings.warn(some_fits_failed_message, FitFailedWarning)\n",
      "c:\\Python310\\lib\\site-packages\\sklearn\\model_selection\\_search.py:953: UserWarning: One or more of the test scores are non-finite: [       nan 0.93882576        nan ... 0.93390152        nan 0.94299242]\n",
      "  warnings.warn(\n"
     ]
    }
   ],
   "source": [
    "from sklearn.model_selection import GridSearchCV\n",
    "tuned_parameters = [{'C': np.linspace(.0001, 1000, 200) , 'penalty': [ \"l1\", \"l2\"]}]\n",
    "clf = GridSearchCV(logreg, tuned_parameters, cv=cross_val, scoring= 'roc_auc')\n",
    "clf.fit(X_train, y_train)\n",
    "\n",
    "print(\"Best parameters set found on development set:\")\n",
    "print()\n",
    "print(clf.best_params_)\n",
    "print(\"\\nOptimized model achieved an ROC of:\", round(clf.score(X_train, y_train), 4))"
   ]
  },
  {
   "cell_type": "code",
   "execution_count": null,
   "metadata": {},
   "outputs": [],
   "source": []
  },
  {
   "cell_type": "markdown",
   "metadata": {},
   "source": [
    "# Save model"
   ]
  },
  {
   "cell_type": "code",
   "execution_count": 175,
   "metadata": {},
   "outputs": [],
   "source": [
    "import pickle\n",
    "\n",
    "pickle.dump(clf, open('LogRegModel', 'wb'))"
   ]
  },
  {
   "cell_type": "markdown",
   "metadata": {},
   "source": [
    "# Labelling data using our model"
   ]
  },
  {
   "cell_type": "markdown",
   "metadata": {},
   "source": [
    "Reindexing"
   ]
  },
  {
   "cell_type": "code",
   "execution_count": null,
   "metadata": {},
   "outputs": [],
   "source": [
    "new_cols = [\"channelTitle\",\"title\",\"description\",\"viewCount\",'likeCount','definition','commentCount','caption','subscribers','totalViews','totalVideos','total polarity score','pushblishYear','durationSecs','tagCount']\n",
    "dff=dff[new_cols]\n",
    "#or\n",
    "dff=dff.reindex(columns=new_cols)"
   ]
  },
  {
   "cell_type": "markdown",
   "metadata": {},
   "source": [
    "Labeling"
   ]
  },
  {
   "cell_type": "code",
   "execution_count": null,
   "metadata": {},
   "outputs": [],
   "source": [
    "new_pred = logreg.predict(dff)\n",
    "print(new_pred)"
   ]
  },
  {
   "cell_type": "markdown",
   "metadata": {},
   "source": [
    "Assigning the labels"
   ]
  },
  {
   "cell_type": "code",
   "execution_count": null,
   "metadata": {},
   "outputs": [],
   "source": [
    "dff['Label'] = None\n",
    "\n",
    "dff = dff.assign(Label = new_pred)"
   ]
  }
 ],
 "metadata": {
  "kernelspec": {
   "display_name": "Python 3.10.0 64-bit",
   "language": "python",
   "name": "python3"
  },
  "language_info": {
   "codemirror_mode": {
    "name": "ipython",
    "version": 3
   },
   "file_extension": ".py",
   "mimetype": "text/x-python",
   "name": "python",
   "nbconvert_exporter": "python",
   "pygments_lexer": "ipython3",
   "version": "3.10.0"
  },
  "orig_nbformat": 4,
  "vscode": {
   "interpreter": {
    "hash": "369f2c481f4da34e4445cda3fffd2e751bd1c4d706f27375911949ba6bb62e1c"
   }
  }
 },
 "nbformat": 4,
 "nbformat_minor": 2
}
