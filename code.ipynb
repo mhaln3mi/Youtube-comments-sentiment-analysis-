{
 "cells": [
  {
   "cell_type": "markdown",
   "metadata": {},
   "source": [
    "### Importing libraries "
   ]
  },
  {
   "cell_type": "code",
   "execution_count": 289,
   "metadata": {},
   "outputs": [],
   "source": [
    "import pandas as pd\n",
    "import seaborn as sns\n",
    "import numpy as np\n",
    "from dateutil import parser\n",
    "import matplotlib.pyplot as plt"
   ]
  },
  {
   "cell_type": "markdown",
   "metadata": {},
   "source": [
    "### Importing Data"
   ]
  },
  {
   "cell_type": "code",
   "execution_count": 290,
   "metadata": {},
   "outputs": [
    {
     "data": {
      "text/html": [
       "<div>\n",
       "<style scoped>\n",
       "    .dataframe tbody tr th:only-of-type {\n",
       "        vertical-align: middle;\n",
       "    }\n",
       "\n",
       "    .dataframe tbody tr th {\n",
       "        vertical-align: top;\n",
       "    }\n",
       "\n",
       "    .dataframe thead th {\n",
       "        text-align: right;\n",
       "    }\n",
       "</style>\n",
       "<table border=\"1\" class=\"dataframe\">\n",
       "  <thead>\n",
       "    <tr style=\"text-align: right;\">\n",
       "      <th></th>\n",
       "      <th>Unnamed: 0.5</th>\n",
       "      <th>Unnamed: 0.4</th>\n",
       "      <th>Unnamed: 0.3</th>\n",
       "      <th>Unnamed: 0.2</th>\n",
       "      <th>Unnamed: 0.1</th>\n",
       "      <th>Unnamed: 0</th>\n",
       "      <th>video_id</th>\n",
       "      <th>avg polarity score</th>\n",
       "      <th>channelTitle</th>\n",
       "      <th>title</th>\n",
       "      <th>...</th>\n",
       "      <th>viewCount</th>\n",
       "      <th>likeCount</th>\n",
       "      <th>favouriteCount</th>\n",
       "      <th>commentCount</th>\n",
       "      <th>duration</th>\n",
       "      <th>definition</th>\n",
       "      <th>caption</th>\n",
       "      <th>subscribers</th>\n",
       "      <th>totalViews</th>\n",
       "      <th>totalVideos</th>\n",
       "    </tr>\n",
       "  </thead>\n",
       "  <tbody>\n",
       "    <tr>\n",
       "      <th>0</th>\n",
       "      <td>0</td>\n",
       "      <td>0.0</td>\n",
       "      <td>0.0</td>\n",
       "      <td>0.0</td>\n",
       "      <td>0.0</td>\n",
       "      <td>0.0</td>\n",
       "      <td>jGwO_UgTS7I</td>\n",
       "      <td>0.277473</td>\n",
       "      <td>Stanford Online</td>\n",
       "      <td>Stanford CS229: Machine Learning Course, Lectu...</td>\n",
       "      <td>...</td>\n",
       "      <td>1410150</td>\n",
       "      <td>18797</td>\n",
       "      <td>NaN</td>\n",
       "      <td>76</td>\n",
       "      <td>PT1H15M20S</td>\n",
       "      <td>hd</td>\n",
       "      <td>True</td>\n",
       "      <td>369000</td>\n",
       "      <td>20517888</td>\n",
       "      <td>1850</td>\n",
       "    </tr>\n",
       "    <tr>\n",
       "      <th>1</th>\n",
       "      <td>1</td>\n",
       "      <td>1.0</td>\n",
       "      <td>1.0</td>\n",
       "      <td>1.0</td>\n",
       "      <td>1.0</td>\n",
       "      <td>1.0</td>\n",
       "      <td>4b4MUYve_U8</td>\n",
       "      <td>0.234844</td>\n",
       "      <td>Stanford Online</td>\n",
       "      <td>Stanford CS229: Machine Learning - Linear Regr...</td>\n",
       "      <td>...</td>\n",
       "      <td>561083</td>\n",
       "      <td>6564</td>\n",
       "      <td>NaN</td>\n",
       "      <td>31</td>\n",
       "      <td>PT1H18M17S</td>\n",
       "      <td>hd</td>\n",
       "      <td>True</td>\n",
       "      <td>369000</td>\n",
       "      <td>20517888</td>\n",
       "      <td>1850</td>\n",
       "    </tr>\n",
       "    <tr>\n",
       "      <th>2</th>\n",
       "      <td>2</td>\n",
       "      <td>2.0</td>\n",
       "      <td>2.0</td>\n",
       "      <td>2.0</td>\n",
       "      <td>2.0</td>\n",
       "      <td>2.0</td>\n",
       "      <td>het9HFqo1TQ</td>\n",
       "      <td>0.236257</td>\n",
       "      <td>Stanford Online</td>\n",
       "      <td>Locally Weighted &amp; Logistic Regression | Stanf...</td>\n",
       "      <td>...</td>\n",
       "      <td>264242</td>\n",
       "      <td>2629</td>\n",
       "      <td>NaN</td>\n",
       "      <td>10</td>\n",
       "      <td>PT1H19M34S</td>\n",
       "      <td>hd</td>\n",
       "      <td>True</td>\n",
       "      <td>369000</td>\n",
       "      <td>20517888</td>\n",
       "      <td>1850</td>\n",
       "    </tr>\n",
       "    <tr>\n",
       "      <th>3</th>\n",
       "      <td>3</td>\n",
       "      <td>3.0</td>\n",
       "      <td>3.0</td>\n",
       "      <td>3.0</td>\n",
       "      <td>3.0</td>\n",
       "      <td>3.0</td>\n",
       "      <td>iZTeva0WSTQ</td>\n",
       "      <td>0.237893</td>\n",
       "      <td>Stanford Online</td>\n",
       "      <td>Lecture 4 - Perceptron &amp; Generalized Linear Mo...</td>\n",
       "      <td>...</td>\n",
       "      <td>129002</td>\n",
       "      <td>1091</td>\n",
       "      <td>NaN</td>\n",
       "      <td>3</td>\n",
       "      <td>PT1H22M2S</td>\n",
       "      <td>hd</td>\n",
       "      <td>True</td>\n",
       "      <td>369000</td>\n",
       "      <td>20517888</td>\n",
       "      <td>1850</td>\n",
       "    </tr>\n",
       "    <tr>\n",
       "      <th>4</th>\n",
       "      <td>4</td>\n",
       "      <td>4.0</td>\n",
       "      <td>4.0</td>\n",
       "      <td>4.0</td>\n",
       "      <td>4.0</td>\n",
       "      <td>4.0</td>\n",
       "      <td>nt63k3bfXS0</td>\n",
       "      <td>0.244639</td>\n",
       "      <td>Stanford Online</td>\n",
       "      <td>Lecture 5 - GDA &amp; Naive Bayes | Stanford CS229...</td>\n",
       "      <td>...</td>\n",
       "      <td>125920</td>\n",
       "      <td>1291</td>\n",
       "      <td>NaN</td>\n",
       "      <td>8</td>\n",
       "      <td>PT1H18M52S</td>\n",
       "      <td>hd</td>\n",
       "      <td>True</td>\n",
       "      <td>369000</td>\n",
       "      <td>20517888</td>\n",
       "      <td>1850</td>\n",
       "    </tr>\n",
       "  </tbody>\n",
       "</table>\n",
       "<p>5 rows × 23 columns</p>\n",
       "</div>"
      ],
      "text/plain": [
       "   Unnamed: 0.5  Unnamed: 0.4  Unnamed: 0.3  Unnamed: 0.2  Unnamed: 0.1  \\\n",
       "0             0           0.0           0.0           0.0           0.0   \n",
       "1             1           1.0           1.0           1.0           1.0   \n",
       "2             2           2.0           2.0           2.0           2.0   \n",
       "3             3           3.0           3.0           3.0           3.0   \n",
       "4             4           4.0           4.0           4.0           4.0   \n",
       "\n",
       "   Unnamed: 0     video_id  avg polarity score     channelTitle  \\\n",
       "0         0.0  jGwO_UgTS7I            0.277473  Stanford Online   \n",
       "1         1.0  4b4MUYve_U8            0.234844  Stanford Online   \n",
       "2         2.0  het9HFqo1TQ            0.236257  Stanford Online   \n",
       "3         3.0  iZTeva0WSTQ            0.237893  Stanford Online   \n",
       "4         4.0  nt63k3bfXS0            0.244639  Stanford Online   \n",
       "\n",
       "                                               title  ... viewCount likeCount  \\\n",
       "0  Stanford CS229: Machine Learning Course, Lectu...  ...   1410150     18797   \n",
       "1  Stanford CS229: Machine Learning - Linear Regr...  ...    561083      6564   \n",
       "2  Locally Weighted & Logistic Regression | Stanf...  ...    264242      2629   \n",
       "3  Lecture 4 - Perceptron & Generalized Linear Mo...  ...    129002      1091   \n",
       "4  Lecture 5 - GDA & Naive Bayes | Stanford CS229...  ...    125920      1291   \n",
       "\n",
       "  favouriteCount  commentCount    duration  definition  caption subscribers  \\\n",
       "0            NaN            76  PT1H15M20S          hd     True      369000   \n",
       "1            NaN            31  PT1H18M17S          hd     True      369000   \n",
       "2            NaN            10  PT1H19M34S          hd     True      369000   \n",
       "3            NaN             3   PT1H22M2S          hd     True      369000   \n",
       "4            NaN             8  PT1H18M52S          hd     True      369000   \n",
       "\n",
       "  totalViews  totalVideos  \n",
       "0   20517888         1850  \n",
       "1   20517888         1850  \n",
       "2   20517888         1850  \n",
       "3   20517888         1850  \n",
       "4   20517888         1850  \n",
       "\n",
       "[5 rows x 23 columns]"
      ]
     },
     "execution_count": 290,
     "metadata": {},
     "output_type": "execute_result"
    }
   ],
   "source": [
    "df = pd.read_csv('data/ytdataframe.csv')\n",
    "\n",
    "dff = pd.read_csv('data/ytunlabeled2.csv')\n",
    "\n",
    "dff.head()\n"
   ]
  },
  {
   "cell_type": "code",
   "execution_count": 291,
   "metadata": {},
   "outputs": [],
   "source": [
    "dff = dff.drop(['Unnamed: 0', 'Unnamed: 0.2', 'Unnamed: 0.3', 'Unnamed: 0.4', 'Unnamed: 0.5'], axis=1)\n"
   ]
  },
  {
   "cell_type": "code",
   "execution_count": 292,
   "metadata": {},
   "outputs": [
    {
     "data": {
      "text/html": [
       "<div>\n",
       "<style scoped>\n",
       "    .dataframe tbody tr th:only-of-type {\n",
       "        vertical-align: middle;\n",
       "    }\n",
       "\n",
       "    .dataframe tbody tr th {\n",
       "        vertical-align: top;\n",
       "    }\n",
       "\n",
       "    .dataframe thead th {\n",
       "        text-align: right;\n",
       "    }\n",
       "</style>\n",
       "<table border=\"1\" class=\"dataframe\">\n",
       "  <thead>\n",
       "    <tr style=\"text-align: right;\">\n",
       "      <th></th>\n",
       "      <th>Unnamed: 0</th>\n",
       "      <th>video_id</th>\n",
       "      <th>channelTitle</th>\n",
       "      <th>title</th>\n",
       "      <th>description</th>\n",
       "      <th>tags</th>\n",
       "      <th>publishedAt</th>\n",
       "      <th>viewCount</th>\n",
       "      <th>likeCount</th>\n",
       "      <th>favouriteCount</th>\n",
       "      <th>commentCount</th>\n",
       "      <th>duration</th>\n",
       "      <th>definition</th>\n",
       "      <th>caption</th>\n",
       "      <th>subscribers</th>\n",
       "      <th>totalViews</th>\n",
       "      <th>totalVideos</th>\n",
       "      <th>avg polarity score</th>\n",
       "      <th>Label</th>\n",
       "    </tr>\n",
       "  </thead>\n",
       "  <tbody>\n",
       "    <tr>\n",
       "      <th>0</th>\n",
       "      <td>0</td>\n",
       "      <td>d56mG7DezGs</td>\n",
       "      <td>Programming with Mosh</td>\n",
       "      <td>TypeScript Tutorial for Beginners [2022]</td>\n",
       "      <td>TypeScript Tutorial for Beginners. Learn TypeS...</td>\n",
       "      <td>['typescript tutorial', 'learn typescript', 't...</td>\n",
       "      <td>2022-05-23T13:00:18Z</td>\n",
       "      <td>190224</td>\n",
       "      <td>4957</td>\n",
       "      <td>NaN</td>\n",
       "      <td>567</td>\n",
       "      <td>PT1H4M28S</td>\n",
       "      <td>hd</td>\n",
       "      <td>False</td>\n",
       "      <td>2710000</td>\n",
       "      <td>129809111</td>\n",
       "      <td>171</td>\n",
       "      <td>0.199642</td>\n",
       "      <td>reputable</td>\n",
       "    </tr>\n",
       "    <tr>\n",
       "      <th>1</th>\n",
       "      <td>1</td>\n",
       "      <td>Ke90Tje7VS0</td>\n",
       "      <td>Programming with Mosh</td>\n",
       "      <td>React JS - React Tutorial for Beginners</td>\n",
       "      <td>React JS Tutorial - Get up &amp; running with Reac...</td>\n",
       "      <td>['react js', 'react tutorial', 'learn react', ...</td>\n",
       "      <td>2018-07-16T16:51:44Z</td>\n",
       "      <td>5174623</td>\n",
       "      <td>81494</td>\n",
       "      <td>NaN</td>\n",
       "      <td>4871</td>\n",
       "      <td>PT2H25M27S</td>\n",
       "      <td>hd</td>\n",
       "      <td>False</td>\n",
       "      <td>2710000</td>\n",
       "      <td>129809111</td>\n",
       "      <td>171</td>\n",
       "      <td>0.305360</td>\n",
       "      <td>reputable</td>\n",
       "    </tr>\n",
       "    <tr>\n",
       "      <th>2</th>\n",
       "      <td>2</td>\n",
       "      <td>0-S5a0eXPoc</td>\n",
       "      <td>Programming with Mosh</td>\n",
       "      <td>React Native Tutorial for Beginners - Build a ...</td>\n",
       "      <td>React Native Tutorial for Beginners - Learn to...</td>\n",
       "      <td>['react native', 'react native tutorial', 'rea...</td>\n",
       "      <td>2020-05-11T16:00:11Z</td>\n",
       "      <td>2112507</td>\n",
       "      <td>36594</td>\n",
       "      <td>NaN</td>\n",
       "      <td>1736</td>\n",
       "      <td>PT2H6M30S</td>\n",
       "      <td>hd</td>\n",
       "      <td>True</td>\n",
       "      <td>2710000</td>\n",
       "      <td>129809111</td>\n",
       "      <td>171</td>\n",
       "      <td>0.300777</td>\n",
       "      <td>reputable</td>\n",
       "    </tr>\n",
       "    <tr>\n",
       "      <th>3</th>\n",
       "      <td>3</td>\n",
       "      <td>k5E2AVpwsko</td>\n",
       "      <td>Programming with Mosh</td>\n",
       "      <td>Angular Tutorial for Beginners: Learn Angular ...</td>\n",
       "      <td>Angular tutorial for beginners: Learn Angular ...</td>\n",
       "      <td>['learn angular 4', 'learn angular 4 from scra...</td>\n",
       "      <td>2017-09-05T16:48:15Z</td>\n",
       "      <td>3461546</td>\n",
       "      <td>51637</td>\n",
       "      <td>NaN</td>\n",
       "      <td>2153</td>\n",
       "      <td>PT2H2M42S</td>\n",
       "      <td>hd</td>\n",
       "      <td>False</td>\n",
       "      <td>2710000</td>\n",
       "      <td>129809111</td>\n",
       "      <td>171</td>\n",
       "      <td>0.304859</td>\n",
       "      <td>reputable</td>\n",
       "    </tr>\n",
       "    <tr>\n",
       "      <th>4</th>\n",
       "      <td>4</td>\n",
       "      <td>W6NZfCO5SIk</td>\n",
       "      <td>Programming with Mosh</td>\n",
       "      <td>JavaScript Tutorial for Beginners: Learn JavaS...</td>\n",
       "      <td>Watch this JavaScript tutorial for beginners t...</td>\n",
       "      <td>['javascript tutorial', 'javascript for beginn...</td>\n",
       "      <td>2018-04-24T02:37:33Z</td>\n",
       "      <td>8154940</td>\n",
       "      <td>146493</td>\n",
       "      <td>NaN</td>\n",
       "      <td>5377</td>\n",
       "      <td>PT48M17S</td>\n",
       "      <td>hd</td>\n",
       "      <td>True</td>\n",
       "      <td>2710000</td>\n",
       "      <td>129809111</td>\n",
       "      <td>171</td>\n",
       "      <td>0.288010</td>\n",
       "      <td>reputable</td>\n",
       "    </tr>\n",
       "  </tbody>\n",
       "</table>\n",
       "</div>"
      ],
      "text/plain": [
       "   Unnamed: 0     video_id           channelTitle  \\\n",
       "0           0  d56mG7DezGs  Programming with Mosh   \n",
       "1           1  Ke90Tje7VS0  Programming with Mosh   \n",
       "2           2  0-S5a0eXPoc  Programming with Mosh   \n",
       "3           3  k5E2AVpwsko  Programming with Mosh   \n",
       "4           4  W6NZfCO5SIk  Programming with Mosh   \n",
       "\n",
       "                                               title  \\\n",
       "0           TypeScript Tutorial for Beginners [2022]   \n",
       "1            React JS - React Tutorial for Beginners   \n",
       "2  React Native Tutorial for Beginners - Build a ...   \n",
       "3  Angular Tutorial for Beginners: Learn Angular ...   \n",
       "4  JavaScript Tutorial for Beginners: Learn JavaS...   \n",
       "\n",
       "                                         description  \\\n",
       "0  TypeScript Tutorial for Beginners. Learn TypeS...   \n",
       "1  React JS Tutorial - Get up & running with Reac...   \n",
       "2  React Native Tutorial for Beginners - Learn to...   \n",
       "3  Angular tutorial for beginners: Learn Angular ...   \n",
       "4  Watch this JavaScript tutorial for beginners t...   \n",
       "\n",
       "                                                tags           publishedAt  \\\n",
       "0  ['typescript tutorial', 'learn typescript', 't...  2022-05-23T13:00:18Z   \n",
       "1  ['react js', 'react tutorial', 'learn react', ...  2018-07-16T16:51:44Z   \n",
       "2  ['react native', 'react native tutorial', 'rea...  2020-05-11T16:00:11Z   \n",
       "3  ['learn angular 4', 'learn angular 4 from scra...  2017-09-05T16:48:15Z   \n",
       "4  ['javascript tutorial', 'javascript for beginn...  2018-04-24T02:37:33Z   \n",
       "\n",
       "   viewCount  likeCount  favouriteCount  commentCount    duration definition  \\\n",
       "0     190224       4957             NaN           567   PT1H4M28S         hd   \n",
       "1    5174623      81494             NaN          4871  PT2H25M27S         hd   \n",
       "2    2112507      36594             NaN          1736   PT2H6M30S         hd   \n",
       "3    3461546      51637             NaN          2153   PT2H2M42S         hd   \n",
       "4    8154940     146493             NaN          5377    PT48M17S         hd   \n",
       "\n",
       "   caption  subscribers  totalViews  totalVideos  avg polarity score  \\\n",
       "0    False      2710000   129809111          171            0.199642   \n",
       "1    False      2710000   129809111          171            0.305360   \n",
       "2     True      2710000   129809111          171            0.300777   \n",
       "3    False      2710000   129809111          171            0.304859   \n",
       "4     True      2710000   129809111          171            0.288010   \n",
       "\n",
       "       Label  \n",
       "0  reputable  \n",
       "1  reputable  \n",
       "2  reputable  \n",
       "3  reputable  \n",
       "4  reputable  "
      ]
     },
     "execution_count": 292,
     "metadata": {},
     "output_type": "execute_result"
    }
   ],
   "source": [
    "df.head(5)"
   ]
  },
  {
   "cell_type": "code",
   "execution_count": 293,
   "metadata": {},
   "outputs": [
    {
     "data": {
      "text/html": [
       "<div>\n",
       "<style scoped>\n",
       "    .dataframe tbody tr th:only-of-type {\n",
       "        vertical-align: middle;\n",
       "    }\n",
       "\n",
       "    .dataframe tbody tr th {\n",
       "        vertical-align: top;\n",
       "    }\n",
       "\n",
       "    .dataframe thead th {\n",
       "        text-align: right;\n",
       "    }\n",
       "</style>\n",
       "<table border=\"1\" class=\"dataframe\">\n",
       "  <thead>\n",
       "    <tr style=\"text-align: right;\">\n",
       "      <th></th>\n",
       "      <th>Unnamed: 0</th>\n",
       "      <th>viewCount</th>\n",
       "      <th>likeCount</th>\n",
       "      <th>favouriteCount</th>\n",
       "      <th>commentCount</th>\n",
       "      <th>subscribers</th>\n",
       "      <th>totalViews</th>\n",
       "      <th>totalVideos</th>\n",
       "      <th>avg polarity score</th>\n",
       "    </tr>\n",
       "  </thead>\n",
       "  <tbody>\n",
       "    <tr>\n",
       "      <th>count</th>\n",
       "      <td>160.000000</td>\n",
       "      <td>1.600000e+02</td>\n",
       "      <td>160.000000</td>\n",
       "      <td>0.0</td>\n",
       "      <td>160.000000</td>\n",
       "      <td>1.600000e+02</td>\n",
       "      <td>1.600000e+02</td>\n",
       "      <td>160.000000</td>\n",
       "      <td>160.000000</td>\n",
       "    </tr>\n",
       "    <tr>\n",
       "      <th>mean</th>\n",
       "      <td>79.500000</td>\n",
       "      <td>3.927198e+05</td>\n",
       "      <td>8957.743750</td>\n",
       "      <td>NaN</td>\n",
       "      <td>393.481250</td>\n",
       "      <td>6.778249e+05</td>\n",
       "      <td>4.409150e+07</td>\n",
       "      <td>4838.500000</td>\n",
       "      <td>0.338064</td>\n",
       "    </tr>\n",
       "    <tr>\n",
       "      <th>std</th>\n",
       "      <td>46.332134</td>\n",
       "      <td>9.833002e+05</td>\n",
       "      <td>21263.480475</td>\n",
       "      <td>NaN</td>\n",
       "      <td>825.018018</td>\n",
       "      <td>1.298520e+06</td>\n",
       "      <td>8.267774e+07</td>\n",
       "      <td>38075.994422</td>\n",
       "      <td>0.092491</td>\n",
       "    </tr>\n",
       "    <tr>\n",
       "      <th>min</th>\n",
       "      <td>0.000000</td>\n",
       "      <td>1.880000e+02</td>\n",
       "      <td>2.000000</td>\n",
       "      <td>NaN</td>\n",
       "      <td>0.000000</td>\n",
       "      <td>8.000000e+00</td>\n",
       "      <td>4.940000e+02</td>\n",
       "      <td>4.000000</td>\n",
       "      <td>0.000000</td>\n",
       "    </tr>\n",
       "    <tr>\n",
       "      <th>25%</th>\n",
       "      <td>39.750000</td>\n",
       "      <td>1.289625e+04</td>\n",
       "      <td>102.750000</td>\n",
       "      <td>NaN</td>\n",
       "      <td>18.750000</td>\n",
       "      <td>4.270000e+03</td>\n",
       "      <td>5.641192e+05</td>\n",
       "      <td>81.000000</td>\n",
       "      <td>0.316482</td>\n",
       "    </tr>\n",
       "    <tr>\n",
       "      <th>50%</th>\n",
       "      <td>79.500000</td>\n",
       "      <td>5.640800e+04</td>\n",
       "      <td>1315.000000</td>\n",
       "      <td>NaN</td>\n",
       "      <td>133.000000</td>\n",
       "      <td>1.400000e+05</td>\n",
       "      <td>8.679674e+06</td>\n",
       "      <td>218.000000</td>\n",
       "      <td>0.340861</td>\n",
       "    </tr>\n",
       "    <tr>\n",
       "      <th>75%</th>\n",
       "      <td>119.250000</td>\n",
       "      <td>2.712722e+05</td>\n",
       "      <td>8286.250000</td>\n",
       "      <td>NaN</td>\n",
       "      <td>360.750000</td>\n",
       "      <td>6.440000e+05</td>\n",
       "      <td>5.953507e+07</td>\n",
       "      <td>684.000000</td>\n",
       "      <td>0.342008</td>\n",
       "    </tr>\n",
       "    <tr>\n",
       "      <th>max</th>\n",
       "      <td>159.000000</td>\n",
       "      <td>8.154940e+06</td>\n",
       "      <td>146493.000000</td>\n",
       "      <td>NaN</td>\n",
       "      <td>5377.000000</td>\n",
       "      <td>6.130000e+06</td>\n",
       "      <td>4.108876e+08</td>\n",
       "      <td>342151.000000</td>\n",
       "      <td>0.865800</td>\n",
       "    </tr>\n",
       "  </tbody>\n",
       "</table>\n",
       "</div>"
      ],
      "text/plain": [
       "       Unnamed: 0     viewCount      likeCount  favouriteCount  commentCount  \\\n",
       "count  160.000000  1.600000e+02     160.000000             0.0    160.000000   \n",
       "mean    79.500000  3.927198e+05    8957.743750             NaN    393.481250   \n",
       "std     46.332134  9.833002e+05   21263.480475             NaN    825.018018   \n",
       "min      0.000000  1.880000e+02       2.000000             NaN      0.000000   \n",
       "25%     39.750000  1.289625e+04     102.750000             NaN     18.750000   \n",
       "50%     79.500000  5.640800e+04    1315.000000             NaN    133.000000   \n",
       "75%    119.250000  2.712722e+05    8286.250000             NaN    360.750000   \n",
       "max    159.000000  8.154940e+06  146493.000000             NaN   5377.000000   \n",
       "\n",
       "        subscribers    totalViews    totalVideos  avg polarity score  \n",
       "count  1.600000e+02  1.600000e+02     160.000000          160.000000  \n",
       "mean   6.778249e+05  4.409150e+07    4838.500000            0.338064  \n",
       "std    1.298520e+06  8.267774e+07   38075.994422            0.092491  \n",
       "min    8.000000e+00  4.940000e+02       4.000000            0.000000  \n",
       "25%    4.270000e+03  5.641192e+05      81.000000            0.316482  \n",
       "50%    1.400000e+05  8.679674e+06     218.000000            0.340861  \n",
       "75%    6.440000e+05  5.953507e+07     684.000000            0.342008  \n",
       "max    6.130000e+06  4.108876e+08  342151.000000            0.865800  "
      ]
     },
     "execution_count": 293,
     "metadata": {},
     "output_type": "execute_result"
    }
   ],
   "source": [
    "df.describe()"
   ]
  },
  {
   "cell_type": "code",
   "execution_count": 294,
   "metadata": {},
   "outputs": [
    {
     "name": "stdout",
     "output_type": "stream",
     "text": [
      "<class 'pandas.core.frame.DataFrame'>\n",
      "RangeIndex: 160 entries, 0 to 159\n",
      "Data columns (total 19 columns):\n",
      " #   Column              Non-Null Count  Dtype  \n",
      "---  ------              --------------  -----  \n",
      " 0   Unnamed: 0          160 non-null    int64  \n",
      " 1   video_id            160 non-null    object \n",
      " 2   channelTitle        160 non-null    object \n",
      " 3   title               160 non-null    object \n",
      " 4   description         160 non-null    object \n",
      " 5   tags                145 non-null    object \n",
      " 6   publishedAt         160 non-null    object \n",
      " 7   viewCount           160 non-null    int64  \n",
      " 8   likeCount           160 non-null    int64  \n",
      " 9   favouriteCount      0 non-null      float64\n",
      " 10  commentCount        160 non-null    int64  \n",
      " 11  duration            160 non-null    object \n",
      " 12  definition          160 non-null    object \n",
      " 13  caption             160 non-null    bool   \n",
      " 14  subscribers         160 non-null    int64  \n",
      " 15  totalViews          160 non-null    int64  \n",
      " 16  totalVideos         160 non-null    int64  \n",
      " 17  avg polarity score  160 non-null    float64\n",
      " 18  Label               160 non-null    object \n",
      "dtypes: bool(1), float64(2), int64(7), object(9)\n",
      "memory usage: 22.8+ KB\n"
     ]
    }
   ],
   "source": [
    "df.info()"
   ]
  },
  {
   "cell_type": "markdown",
   "metadata": {},
   "source": [
    "# Data preprocessing "
   ]
  },
  {
   "cell_type": "markdown",
   "metadata": {},
   "source": [
    "Checking duplicates"
   ]
  },
  {
   "cell_type": "code",
   "execution_count": 295,
   "metadata": {},
   "outputs": [
    {
     "data": {
      "text/plain": [
       "0"
      ]
     },
     "execution_count": 295,
     "metadata": {},
     "output_type": "execute_result"
    }
   ],
   "source": [
    "df.duplicated().sum()\n"
   ]
  },
  {
   "cell_type": "code",
   "execution_count": 296,
   "metadata": {},
   "outputs": [
    {
     "data": {
      "text/plain": [
       "(160, 19)"
      ]
     },
     "execution_count": 296,
     "metadata": {},
     "output_type": "execute_result"
    }
   ],
   "source": [
    "df = df.drop_duplicates()\n",
    "df.shape"
   ]
  },
  {
   "cell_type": "markdown",
   "metadata": {},
   "source": [
    "Checking null values"
   ]
  },
  {
   "cell_type": "code",
   "execution_count": 297,
   "metadata": {},
   "outputs": [
    {
     "data": {
      "text/plain": [
       "Unnamed: 0              0\n",
       "video_id                0\n",
       "channelTitle            0\n",
       "title                   0\n",
       "description             0\n",
       "tags                   15\n",
       "publishedAt             0\n",
       "viewCount               0\n",
       "likeCount               0\n",
       "favouriteCount        160\n",
       "commentCount            0\n",
       "duration                0\n",
       "definition              0\n",
       "caption                 0\n",
       "subscribers             0\n",
       "totalViews              0\n",
       "totalVideos             0\n",
       "avg polarity score      0\n",
       "Label                   0\n",
       "dtype: int64"
      ]
     },
     "execution_count": 297,
     "metadata": {},
     "output_type": "execute_result"
    }
   ],
   "source": [
    "df.isnull().sum()\n"
   ]
  },
  {
   "cell_type": "markdown",
   "metadata": {},
   "source": [
    "Convert publish date to year"
   ]
  },
  {
   "cell_type": "code",
   "execution_count": 298,
   "metadata": {},
   "outputs": [],
   "source": [
    "df['publishedAt'] = df['publishedAt'].apply(lambda x: parser.parse(x)) \n",
    "df['pushblishYear'] = df['publishedAt'].apply(lambda x: x.strftime(\"%Y\"))\n",
    "\n",
    "dff['publishedAt'] = dff['publishedAt'].apply(lambda x: parser.parse(x)) \n",
    "dff['pushblishYear'] = dff['publishedAt'].apply(lambda x: x.strftime(\"%Y\"))"
   ]
  },
  {
   "cell_type": "markdown",
   "metadata": {},
   "source": [
    "Convert count columns to numeric"
   ]
  },
  {
   "cell_type": "code",
   "execution_count": 299,
   "metadata": {},
   "outputs": [],
   "source": [
    "numeric_cols = ['viewCount', 'likeCount', 'commentCount', 'pushblishYear']\n",
    "\n",
    "df[numeric_cols] = df[numeric_cols].apply(pd.to_numeric, errors = 'coerce', axis = 1)\n",
    "\n",
    "dff[numeric_cols] = dff[numeric_cols].apply(pd.to_numeric, errors = 'coerce', axis = 1)"
   ]
  },
  {
   "cell_type": "markdown",
   "metadata": {},
   "source": [
    "Convert duration to seconds"
   ]
  },
  {
   "cell_type": "code",
   "execution_count": 300,
   "metadata": {},
   "outputs": [],
   "source": [
    "import isodate\n",
    "df['durationSecs'] = df['duration'].apply(lambda x: isodate.parse_duration(x))\n",
    "df['durationSecs'] = df['durationSecs'].astype('timedelta64[s]')\n",
    "\n",
    "dff['durationSecs'] = dff['duration'].apply(lambda x: isodate.parse_duration(x))\n",
    "dff['durationSecs'] = dff['durationSecs'].astype('timedelta64[s]')"
   ]
  },
  {
   "cell_type": "markdown",
   "metadata": {},
   "source": [
    "Add tag count"
   ]
  },
  {
   "cell_type": "code",
   "execution_count": 301,
   "metadata": {},
   "outputs": [],
   "source": [
    "\n",
    "\n",
    "df['tagCount'] = df['tags'].apply(lambda x: 0 if x is np.nan else len(x))\n",
    "\n",
    "dff['tagCount'] = dff['tags'].apply(lambda x: 0 if x is np.nan else len(x))"
   ]
  },
  {
   "cell_type": "markdown",
   "metadata": {},
   "source": [
    "Add title and description length"
   ]
  },
  {
   "cell_type": "code",
   "execution_count": 302,
   "metadata": {},
   "outputs": [],
   "source": [
    "df['title length'] = df['title'].apply(lambda x: 0 if x is np.nan else len(x))\n",
    "df['description length'] = df['description'].apply(lambda x: 0 if x is np.nan else len(x))\n",
    "\n",
    "dff['title length'] = dff['title'].apply(lambda x: 0 if x is np.nan else len(x))\n",
    "dff['description length'] = dff['description'].apply(lambda x: 0 if x is np.nan else len(x))\n"
   ]
  },
  {
   "cell_type": "code",
   "execution_count": 303,
   "metadata": {},
   "outputs": [],
   "source": [
    "new_cols = [\"channelTitle\",\"viewCount\",'likeCount','commentCount','definition','caption','subscribers','totalViews','totalVideos','avg polarity score','pushblishYear','durationSecs','tagCount','title length','description length']\n",
    "dff=dff[new_cols]\n",
    "#or\n",
    "dff=dff.reindex(columns=new_cols)"
   ]
  },
  {
   "cell_type": "markdown",
   "metadata": {},
   "source": [
    "Dropping columns we wont use"
   ]
  },
  {
   "cell_type": "code",
   "execution_count": 304,
   "metadata": {},
   "outputs": [],
   "source": [
    "df = df.drop(['Unnamed: 0', 'description', 'title', 'publishedAt', 'duration', 'favouriteCount', 'video_id', 'tags'], axis=1)\n",
    "\n"
   ]
  },
  {
   "cell_type": "markdown",
   "metadata": {},
   "source": [
    "# EDA"
   ]
  },
  {
   "cell_type": "markdown",
   "metadata": {},
   "source": [
    "### Label distribution "
   ]
  },
  {
   "cell_type": "code",
   "execution_count": 305,
   "metadata": {},
   "outputs": [
    {
     "data": {
      "text/plain": [
       "reputable        100\n",
       "non reputable     60\n",
       "Name: Label, dtype: int64"
      ]
     },
     "execution_count": 305,
     "metadata": {},
     "output_type": "execute_result"
    },
    {
     "data": {
      "image/png": "[encoded data removed]",
      "text/plain": [
       "<Figure size 432x288 with 1 Axes>"
      ]
     },
     "metadata": {
      "needs_background": "light"
     },
     "output_type": "display_data"
    }
   ],
   "source": [
    "sns.countplot(x=\"Label\", data=df)\n",
    "df[\"Label\"].value_counts()"
   ]
  },
  {
   "cell_type": "markdown",
   "metadata": {},
   "source": [
    "Our data is unbalanced so we might need oversampling"
   ]
  },
  {
   "cell_type": "code",
   "execution_count": 306,
   "metadata": {},
   "outputs": [],
   "source": [
    "# sns.scatterplot(x=\"commentCount\", y=\"durationSecs\", hue=\"Label\", data = df)"
   ]
  },
  {
   "cell_type": "code",
   "execution_count": 307,
   "metadata": {},
   "outputs": [],
   "source": [
    "# df_dist = df.select_dtypes([int,float]) \n",
    "# fig = plt.figure(figsize=(15, 18)) \n",
    "# try:\n",
    "#     for i,columns in enumerate(df_dist.columns, 1): \n",
    "#         ax = plt.subplot(5,3,i) \n",
    "#         sns.kdeplot(x=df_dist[columns])\n",
    "#         ax.set_xlabel(None) \n",
    "#         ax.set_title(f'{columns}')\n",
    "#         plt.tight_layout(w_pad=3) \n",
    "# except ValueError as ve:\n",
    "#     exit;      \n",
    "# plt.show()"
   ]
  },
  {
   "cell_type": "markdown",
   "metadata": {},
   "source": [
    "# Modeling"
   ]
  },
  {
   "cell_type": "code",
   "execution_count": 308,
   "metadata": {},
   "outputs": [],
   "source": [
    "import sklearn\n",
    "from sklearn.model_selection import train_test_split\n",
    "from sklearn.linear_model import LogisticRegression\n",
    "from sklearn.preprocessing import LabelEncoder"
   ]
  },
  {
   "cell_type": "markdown",
   "metadata": {},
   "source": [
    "Label encoding "
   ]
  },
  {
   "cell_type": "code",
   "execution_count": 309,
   "metadata": {},
   "outputs": [
    {
     "data": {
      "text/html": [
       "<div>\n",
       "<style scoped>\n",
       "    .dataframe tbody tr th:only-of-type {\n",
       "        vertical-align: middle;\n",
       "    }\n",
       "\n",
       "    .dataframe tbody tr th {\n",
       "        vertical-align: top;\n",
       "    }\n",
       "\n",
       "    .dataframe thead th {\n",
       "        text-align: right;\n",
       "    }\n",
       "</style>\n",
       "<table border=\"1\" class=\"dataframe\">\n",
       "  <thead>\n",
       "    <tr style=\"text-align: right;\">\n",
       "      <th></th>\n",
       "      <th>channelTitle</th>\n",
       "      <th>viewCount</th>\n",
       "      <th>likeCount</th>\n",
       "      <th>commentCount</th>\n",
       "      <th>definition</th>\n",
       "      <th>caption</th>\n",
       "      <th>subscribers</th>\n",
       "      <th>totalViews</th>\n",
       "      <th>totalVideos</th>\n",
       "      <th>avg polarity score</th>\n",
       "      <th>Label</th>\n",
       "      <th>pushblishYear</th>\n",
       "      <th>durationSecs</th>\n",
       "      <th>tagCount</th>\n",
       "      <th>title length</th>\n",
       "      <th>description length</th>\n",
       "    </tr>\n",
       "  </thead>\n",
       "  <tbody>\n",
       "    <tr>\n",
       "      <th>0</th>\n",
       "      <td>19</td>\n",
       "      <td>190224</td>\n",
       "      <td>4957</td>\n",
       "      <td>567</td>\n",
       "      <td>0</td>\n",
       "      <td>0</td>\n",
       "      <td>2710000</td>\n",
       "      <td>129809111</td>\n",
       "      <td>171</td>\n",
       "      <td>0.199642</td>\n",
       "      <td>1</td>\n",
       "      <td>2022</td>\n",
       "      <td>3868.0</td>\n",
       "      <td>342</td>\n",
       "      <td>40</td>\n",
       "      <td>1562</td>\n",
       "    </tr>\n",
       "  </tbody>\n",
       "</table>\n",
       "</div>"
      ],
      "text/plain": [
       "   channelTitle  viewCount  likeCount  commentCount  definition  caption  \\\n",
       "0            19     190224       4957           567           0        0   \n",
       "\n",
       "   subscribers  totalViews  totalVideos  avg polarity score  Label  \\\n",
       "0      2710000   129809111          171            0.199642      1   \n",
       "\n",
       "   pushblishYear  durationSecs  tagCount  title length  description length  \n",
       "0           2022        3868.0       342            40                1562  "
      ]
     },
     "execution_count": 309,
     "metadata": {},
     "output_type": "execute_result"
    }
   ],
   "source": [
    "le = LabelEncoder()\n",
    "\n",
    "df2 = ['channelTitle', 'definition', 'caption', 'Label']\n",
    "\n",
    "df[df2] = df[df2].apply(le.fit_transform)\n",
    "\n",
    "dffs = ['channelTitle', 'definition', 'caption']\n",
    "dff[dffs] = dff[dffs].apply(le.fit_transform)\n",
    "\n",
    "\n",
    "\n",
    "df.head(1)"
   ]
  },
  {
   "cell_type": "code",
   "execution_count": 310,
   "metadata": {},
   "outputs": [
    {
     "data": {
      "text/plain": [
       "<AxesSubplot:>"
      ]
     },
     "execution_count": 310,
     "metadata": {},
     "output_type": "execute_result"
    },
    {
     "data": {
      "image/png": "[encoded data removed]",
      "text/plain": [
       "<Figure size 1152x504 with 2 Axes>"
      ]
     },
     "metadata": {
      "needs_background": "light"
     },
     "output_type": "display_data"
    }
   ],
   "source": [
    "plt.figure(figsize=(16, 7))\n",
    "sns.heatmap(df.corr(), annot = True)"
   ]
  },
  {
   "cell_type": "markdown",
   "metadata": {},
   "source": [
    "Oversampling and splitting"
   ]
  },
  {
   "cell_type": "code",
   "execution_count": 311,
   "metadata": {},
   "outputs": [],
   "source": [
    "# from sklearn.preprocessing import StandardScaler\n",
    "# scale = StandardScaler()\n",
    "from imblearn.over_sampling import SMOTE\n",
    "\n",
    "feat_col = ['channelTitle', 'viewCount', 'likeCount', 'definition', 'commentCount', 'caption', 'subscribers', 'totalViews', 'totalVideos', 'avg polarity score', 'pushblishYear', 'durationSecs', 'tagCount', 'description length', 'title length']\n",
    "\n",
    "X = df[feat_col] # Features\n",
    "y = df['Label']# Target variable\n"
   ]
  },
  {
   "cell_type": "code",
   "execution_count": 312,
   "metadata": {},
   "outputs": [],
   "source": [
    "X_train, X_test, y_train, y_test = train_test_split(X, y, test_size=0.25, random_state=16)\n",
    "\n",
    "#Create an oversampled training data\n",
    "smote = SMOTE(random_state = 16)\n",
    "X_train, y_train = smote.fit_resample(X_train, y_train)"
   ]
  },
  {
   "cell_type": "markdown",
   "metadata": {},
   "source": [
    "### Logistic Regression"
   ]
  },
  {
   "cell_type": "code",
   "execution_count": 313,
   "metadata": {},
   "outputs": [],
   "source": [
    "# instantiate the model (using the default parameters)\n",
    "logreg = LogisticRegression(random_state=16, max_iter=1000)\n",
    "\n",
    "# fit the model with data\n",
    "logreg.fit(X_train, y_train)\n",
    "\n",
    "y_pred = logreg.predict(X_test)"
   ]
  },
  {
   "cell_type": "code",
   "execution_count": 314,
   "metadata": {},
   "outputs": [
    {
     "name": "stdout",
     "output_type": "stream",
     "text": [
      "               precision    recall  f1-score   support\n",
      "\n",
      "    reputable       0.68      1.00      0.81        15\n",
      "non reputable       1.00      0.72      0.84        25\n",
      "\n",
      "     accuracy                           0.82        40\n",
      "    macro avg       0.84      0.86      0.82        40\n",
      " weighted avg       0.88      0.82      0.83        40\n",
      "\n",
      "Train Accuracy: 0.8933333333333333\n",
      "Test Accuracy: 0.825\n"
     ]
    }
   ],
   "source": [
    "from sklearn.metrics import classification_report\n",
    "target_names = ['reputable', 'non reputable']\n",
    "print(classification_report(y_test, y_pred, target_names=target_names))\n",
    "print(\"Train Accuracy:\",logreg.score(X_train, y_train))\n",
    "print(\"Test Accuracy:\",logreg.score(X_test, y_test))"
   ]
  },
  {
   "cell_type": "code",
   "execution_count": 315,
   "metadata": {},
   "outputs": [
    {
     "name": "stdout",
     "output_type": "stream",
     "text": [
      "Mean AUC Score - Logistic Regression:  0.9212255739902799\n"
     ]
    }
   ],
   "source": [
    "from random import shuffle\n",
    "from sklearn.linear_model import LogisticRegression\n",
    "from sklearn.model_selection import KFold\n",
    "from sklearn.model_selection import cross_val_score\n",
    "\n",
    "model = LogisticRegression(max_iter=1000)\n",
    "cross_val = KFold(n_splits=5, random_state=16, shuffle=True)\n",
    "scores = cross_val_score(model, X_train, y_train, cv=cross_val, scoring='roc_auc')\n",
    "print(\"Mean AUC Score - Logistic Regression: \", scores.mean())"
   ]
  },
  {
   "cell_type": "markdown",
   "metadata": {},
   "source": [
    "# Testing different models"
   ]
  },
  {
   "cell_type": "markdown",
   "metadata": {},
   "source": [
    "### Random Forest"
   ]
  },
  {
   "cell_type": "code",
   "execution_count": 316,
   "metadata": {},
   "outputs": [
    {
     "name": "stdout",
     "output_type": "stream",
     "text": [
      "Mean AUC Score - Random Forest:  0.9794034690799396\n"
     ]
    }
   ],
   "source": [
    "from sklearn.ensemble import RandomForestClassifier\n",
    "model1 = RandomForestClassifier()\n",
    "kfold = KFold(n_splits=5, random_state=16, shuffle=True) \n",
    "scores = cross_val_score(model1, X_train, y_train, cv=kfold, scoring='roc_auc')\n",
    "print(\"Mean AUC Score - Random Forest: \", scores.mean())"
   ]
  },
  {
   "cell_type": "code",
   "execution_count": 317,
   "metadata": {},
   "outputs": [
    {
     "name": "stdout",
     "output_type": "stream",
     "text": [
      "Random Forest Train Accuracy: 1.0\n",
      "Random Forest Test Accuracy: 0.975\n",
      "               precision    recall  f1-score   support\n",
      "\n",
      "    reputable       0.94      1.00      0.97        15\n",
      "non reputable       1.00      0.96      0.98        25\n",
      "\n",
      "     accuracy                           0.97        40\n",
      "    macro avg       0.97      0.98      0.97        40\n",
      " weighted avg       0.98      0.97      0.98        40\n",
      "\n"
     ]
    }
   ],
   "source": [
    "# fit the model with data\n",
    "model1.fit(X_train, y_train)\n",
    "\n",
    "rf_pred = model1.predict(X_test)\n",
    "\n",
    "print(\"Random Forest Train Accuracy:\",model1.score(X_train, y_train))\n",
    "print(\"Random Forest Test Accuracy:\",model1.score(X_test, y_test))\n",
    "target_names = ['reputable', 'non reputable']\n",
    "print(classification_report(y_test, rf_pred, target_names=target_names))"
   ]
  },
  {
   "cell_type": "markdown",
   "metadata": {},
   "source": [
    "### Decision Tree"
   ]
  },
  {
   "cell_type": "code",
   "execution_count": 318,
   "metadata": {},
   "outputs": [
    {
     "name": "stdout",
     "output_type": "stream",
     "text": [
      "Mean AUC Score - Decision Tree:  0.8989617898441427\n"
     ]
    }
   ],
   "source": [
    "from sklearn.tree import DecisionTreeClassifier\n",
    "model2 = DecisionTreeClassifier()\n",
    "cross_val = KFold(n_splits=5, random_state=16, shuffle=True)\n",
    "scores = cross_val_score(model2, X_train, y_train, cv=cross_val, scoring='roc_auc')\n",
    "print(\"Mean AUC Score - Decision Tree: \", scores.mean())"
   ]
  },
  {
   "cell_type": "code",
   "execution_count": 319,
   "metadata": {},
   "outputs": [
    {
     "name": "stdout",
     "output_type": "stream",
     "text": [
      "Decision Tree Train Accuracy: 1.0\n",
      "Decision Tree Test Accuracy: 0.95\n",
      "               precision    recall  f1-score   support\n",
      "\n",
      "    reputable       0.88      1.00      0.94        15\n",
      "non reputable       1.00      0.92      0.96        25\n",
      "\n",
      "     accuracy                           0.95        40\n",
      "    macro avg       0.94      0.96      0.95        40\n",
      " weighted avg       0.96      0.95      0.95        40\n",
      "\n"
     ]
    }
   ],
   "source": [
    "# fit the model with data\n",
    "model2.fit(X_train, y_train)\n",
    "\n",
    "dc_pred = model2.predict(X_test)\n",
    "\n",
    "print(\"Decision Tree Train Accuracy:\",model2.score(X_train, y_train))\n",
    "print(\"Decision Tree Test Accuracy:\",model2.score(X_test, y_test))\n",
    "target_names = ['reputable', 'non reputable']\n",
    "print(classification_report(y_test, dc_pred, target_names=target_names))\n"
   ]
  },
  {
   "cell_type": "markdown",
   "metadata": {},
   "source": [
    "### XGBClassifier"
   ]
  },
  {
   "cell_type": "code",
   "execution_count": 320,
   "metadata": {},
   "outputs": [
    {
     "name": "stdout",
     "output_type": "stream",
     "text": [
      "Mean AUC Score - XGB:  0.9515992961287079\n"
     ]
    }
   ],
   "source": [
    "from xgboost import XGBClassifier\n",
    "model4 = XGBClassifier()\n",
    "cross_val = KFold(n_splits=5, random_state=16, shuffle=True)\n",
    "scores = cross_val_score(model4, X_train, y_train, cv=cross_val, scoring='roc_auc')\n",
    "print(\"Mean AUC Score - XGB: \", scores.mean())"
   ]
  },
  {
   "cell_type": "code",
   "execution_count": 321,
   "metadata": {},
   "outputs": [
    {
     "name": "stdout",
     "output_type": "stream",
     "text": [
      "XGB Train Accuracy: 1.0\n",
      "XGB Test Accuracy: 0.975\n",
      "               precision    recall  f1-score   support\n",
      "\n",
      "    reputable       0.94      1.00      0.97        15\n",
      "non reputable       1.00      0.96      0.98        25\n",
      "\n",
      "     accuracy                           0.97        40\n",
      "    macro avg       0.97      0.98      0.97        40\n",
      " weighted avg       0.98      0.97      0.98        40\n",
      "\n"
     ]
    }
   ],
   "source": [
    "# fit the model with data\n",
    "model4.fit(X_train, y_train)\n",
    "\n",
    "xgb_pred = model4.predict(X_test)\n",
    "\n",
    "print(\"XGB Train Accuracy:\",model4.score(X_train, y_train))\n",
    "print(\"XGB Test Accuracy:\",model4.score(X_test, y_test))\n",
    "target_names = ['reputable', 'non reputable']\n",
    "print(classification_report(y_test, xgb_pred, target_names=target_names))"
   ]
  },
  {
   "cell_type": "markdown",
   "metadata": {},
   "source": [
    "### K-Nearest Neighbors"
   ]
  },
  {
   "cell_type": "code",
   "execution_count": 322,
   "metadata": {},
   "outputs": [
    {
     "name": "stdout",
     "output_type": "stream",
     "text": [
      "Mean AUC Score - K-Nearest Neighbors:  0.9467990615049438\n"
     ]
    }
   ],
   "source": [
    "from sklearn.neighbors import KNeighborsClassifier\n",
    "model5 = KNeighborsClassifier()\n",
    "cross_val = KFold(n_splits=5, random_state=16, shuffle=True)\n",
    "scores = cross_val_score(model5, X_train, y_train, cv=cross_val, scoring='roc_auc')\n",
    "print(\"Mean AUC Score - K-Nearest Neighbors: \", scores.mean())"
   ]
  },
  {
   "cell_type": "code",
   "execution_count": 323,
   "metadata": {},
   "outputs": [
    {
     "name": "stdout",
     "output_type": "stream",
     "text": [
      "KNN Train Accuracy: 0.92\n",
      "KNN Test Accuracy: 0.9\n"
     ]
    }
   ],
   "source": [
    "# fit the model with data\n",
    "model5.fit(X_train, y_train)\n",
    "\n",
    "k_pred = model5.predict(X_test)\n",
    "\n",
    "print(\"KNN Train Accuracy:\",model5.score(X_train, y_train))\n",
    "print(\"KNN Test Accuracy:\",model5.score(X_test, y_test))"
   ]
  },
  {
   "cell_type": "code",
   "execution_count": 324,
   "metadata": {},
   "outputs": [
    {
     "name": "stdout",
     "output_type": "stream",
     "text": [
      "               precision    recall  f1-score   support\n",
      "\n",
      "    reputable       0.79      1.00      0.88        15\n",
      "non reputable       1.00      0.84      0.91        25\n",
      "\n",
      "     accuracy                           0.90        40\n",
      "    macro avg       0.89      0.92      0.90        40\n",
      " weighted avg       0.92      0.90      0.90        40\n",
      "\n"
     ]
    }
   ],
   "source": [
    "from sklearn.metrics import classification_report\n",
    "\n",
    "target_names = ['reputable', 'non reputable']\n",
    "print(classification_report(y_test, k_pred, target_names=target_names))"
   ]
  },
  {
   "cell_type": "markdown",
   "metadata": {},
   "source": [
    "From the 5 scores above the top 3 performers were Logistic Regression,XGBClassifier and K-Neasrest Neighbors. We will move ahead and fine tune them."
   ]
  },
  {
   "cell_type": "markdown",
   "metadata": {},
   "source": [
    "# Hyper parameters tuning"
   ]
  },
  {
   "cell_type": "code",
   "execution_count": 325,
   "metadata": {},
   "outputs": [
    {
     "name": "stdout",
     "output_type": "stream",
     "text": [
      "Best parameters set found on development set:\n",
      "\n",
      "{'C': 30.150850753768847, 'penalty': 'l2'}\n",
      "\n",
      "Optimized model achieved an ROC of: 0.9397\n",
      "LogReg Train Accuracy: 0.9397333333333333\n",
      "LogReg Test Accuracy: 0.9440000000000001\n"
     ]
    }
   ],
   "source": [
    "from sklearn.model_selection import GridSearchCV\n",
    "tuned_parameters = [{'C': np.linspace(.0001, 1000, 200) , 'penalty': [\"l2\"]}]\n",
    "clf = GridSearchCV(logreg, tuned_parameters, cv=cross_val, scoring= 'roc_auc')\n",
    "clf.fit(X_train, y_train)\n",
    "\n",
    "print(\"Best parameters set found on development set:\")\n",
    "print()\n",
    "print(clf.best_params_)\n",
    "print(\"\\nOptimized model achieved an ROC of:\", round(clf.score(X_train, y_train), 4))\n",
    "print(\"LogReg Train Accuracy:\",clf.score(X_train, y_train))\n",
    "print(\"LogReg Test Accuracy:\",clf.score(X_test, y_test))"
   ]
  },
  {
   "cell_type": "markdown",
   "metadata": {},
   "source": [
    "Random forest"
   ]
  },
  {
   "cell_type": "code",
   "execution_count": 326,
   "metadata": {},
   "outputs": [
    {
     "name": "stdout",
     "output_type": "stream",
     "text": [
      "Fitting 5 folds for each of 288 candidates, totalling 1440 fits\n",
      "Best parameters set found on development set:\n",
      "\n",
      "{'bootstrap': True, 'max_depth': 90, 'max_features': 3, 'min_samples_leaf': 4, 'min_samples_split': 10, 'n_estimators': 100}\n",
      "\n",
      "Optimized model achieved an ROC of: 0.96\n",
      "RF Train Accuracy: 0.96\n",
      "RF Test Accuracy: 0.925\n"
     ]
    }
   ],
   "source": [
    "param_grid = {\n",
    "    'bootstrap': [True],\n",
    "    'max_depth': [80, 90, 100, 110],\n",
    "    'max_features': [2, 3],\n",
    "    'min_samples_leaf': [3, 4, 5],\n",
    "    'min_samples_split': [8, 10, 12],\n",
    "    'n_estimators': [100, 200, 300, 1000]\n",
    "}\n",
    "# Instantiate the grid search model\n",
    "clf2 = GridSearchCV(model1, param_grid=param_grid, cv=cross_val, n_jobs=-1, verbose=2)\n",
    "\n",
    "clf2.fit(X_train, y_train)\n",
    "\n",
    "print(\"Best parameters set found on development set:\")\n",
    "print()\n",
    "print(clf2.best_params_)\n",
    "print(\"\\nOptimized model achieved an ROC of:\", round(clf2.score(X_train, y_train), 4))\n",
    "print(\"RF Train Accuracy:\",clf2.score(X_train, y_train))\n",
    "print(\"RF Test Accuracy:\",clf2.score(X_test, y_test))"
   ]
  },
  {
   "cell_type": "markdown",
   "metadata": {},
   "source": [
    "KNN"
   ]
  },
  {
   "cell_type": "code",
   "execution_count": 327,
   "metadata": {},
   "outputs": [
    {
     "name": "stdout",
     "output_type": "stream",
     "text": [
      "Fitting 5 folds for each of 2842 candidates, totalling 14210 fits\n",
      "Best parameters set found on development set:\n",
      "\n",
      "{'leaf_size': 1, 'n_neighbors': 1, 'p': 1}\n",
      "\n",
      "Optimized model achieved an ROC of: 1.0\n",
      "KNN Train Accuracy: 1.0\n",
      "KNN Test Accuracy: 0.95\n"
     ]
    }
   ],
   "source": [
    "#List Hyperparameters that we want to tune.\n",
    "leaf_size = list(range(1,50))\n",
    "n_neighbors = list(range(1,30))\n",
    "p=[1,2]\n",
    "#Convert to dictionary\n",
    "hyperparameters = dict(leaf_size=leaf_size, n_neighbors=n_neighbors, p=p)\n",
    "\n",
    "#Use GridSearch\n",
    "clf3 = GridSearchCV(model5, hyperparameters, cv=cross_val, n_jobs=-1, verbose=2)\n",
    "#Fit the model\n",
    "clf3.fit(X_train, y_train)\n",
    "#Print The value of best Hyperparameters\n",
    "print(\"Best parameters set found on development set:\")\n",
    "print()\n",
    "print(clf3.best_params_)\n",
    "\n",
    "print(\"\\nOptimized model achieved an ROC of:\", round(clf3.score(X_train, y_train), 4))\n",
    "print(\"KNN Train Accuracy:\",clf3.score(X_train, y_train))\n",
    "print(\"KNN Test Accuracy:\",clf3.score(X_test, y_test))"
   ]
  },
  {
   "cell_type": "markdown",
   "metadata": {},
   "source": [
    "XGB"
   ]
  },
  {
   "cell_type": "code",
   "execution_count": 328,
   "metadata": {},
   "outputs": [
    {
     "name": "stdout",
     "output_type": "stream",
     "text": [
      "Fitting 5 folds for each of 1458 candidates, totalling 7290 fits\n"
     ]
    },
    {
     "name": "stderr",
     "output_type": "stream",
     "text": [
      "c:\\Python310\\lib\\site-packages\\sklearn\\model_selection\\_validation.py:378: FitFailedWarning: \n",
      "2430 fits failed out of a total of 7290.\n",
      "The score on these train-test partitions for these parameters will be set to nan.\n",
      "If these failures are not expected, you can try to debug them by setting error_score='raise'.\n",
      "\n",
      "Below are more details about the failures:\n",
      "--------------------------------------------------------------------------------\n",
      "40 fits failed with the following error:\n",
      "Traceback (most recent call last):\n",
      "  File \"c:\\Python310\\lib\\site-packages\\sklearn\\model_selection\\_validation.py\", line 686, in _fit_and_score\n",
      "    estimator.fit(X_train, y_train, **fit_params)\n",
      "  File \"c:\\Python310\\lib\\site-packages\\xgboost\\core.py\", line 575, in inner_f\n",
      "    return f(**kwargs)\n",
      "  File \"c:\\Python310\\lib\\site-packages\\xgboost\\sklearn.py\", line 1400, in fit\n",
      "    self._Booster = train(\n",
      "  File \"c:\\Python310\\lib\\site-packages\\xgboost\\core.py\", line 575, in inner_f\n",
      "    return f(**kwargs)\n",
      "  File \"c:\\Python310\\lib\\site-packages\\xgboost\\training.py\", line 181, in train\n",
      "    bst.update(dtrain, i, obj)\n",
      "  File \"c:\\Python310\\lib\\site-packages\\xgboost\\core.py\", line 1778, in update\n",
      "    _check_call(_LIB.XGBoosterUpdateOneIter(self.handle,\n",
      "  File \"c:\\Python310\\lib\\site-packages\\xgboost\\core.py\", line 246, in _check_call\n",
      "    raise XGBoostError(py_str(_LIB.XGBGetLastError()))\n",
      "xgboost.core.XGBoostError: [23:13:04] c:\\users\\administrator\\workspace\\xgboost-win64_release_1.6.0\\src\\objective\\./regression_loss.h:94: Check failed: base_score > 0.0f && base_score < 1.0f: base_score must be in (0,1) for logistic loss, got: 1\n",
      "\n",
      "--------------------------------------------------------------------------------\n",
      "352 fits failed with the following error:\n",
      "Traceback (most recent call last):\n",
      "  File \"c:\\Python310\\lib\\site-packages\\sklearn\\model_selection\\_validation.py\", line 686, in _fit_and_score\n",
      "    estimator.fit(X_train, y_train, **fit_params)\n",
      "  File \"c:\\Python310\\lib\\site-packages\\xgboost\\core.py\", line 575, in inner_f\n",
      "    return f(**kwargs)\n",
      "  File \"c:\\Python310\\lib\\site-packages\\xgboost\\sklearn.py\", line 1400, in fit\n",
      "    self._Booster = train(\n",
      "  File \"c:\\Python310\\lib\\site-packages\\xgboost\\core.py\", line 575, in inner_f\n",
      "    return f(**kwargs)\n",
      "  File \"c:\\Python310\\lib\\site-packages\\xgboost\\training.py\", line 181, in train\n",
      "    bst.update(dtrain, i, obj)\n",
      "  File \"c:\\Python310\\lib\\site-packages\\xgboost\\core.py\", line 1778, in update\n",
      "    _check_call(_LIB.XGBoosterUpdateOneIter(self.handle,\n",
      "  File \"c:\\Python310\\lib\\site-packages\\xgboost\\core.py\", line 246, in _check_call\n",
      "    raise XGBoostError(py_str(_LIB.XGBGetLastError()))\n",
      "xgboost.core.XGBoostError: [23:13:05] c:\\users\\administrator\\workspace\\xgboost-win64_release_1.6.0\\src\\objective\\./regression_loss.h:94: Check failed: base_score > 0.0f && base_score < 1.0f: base_score must be in (0,1) for logistic loss, got: 1\n",
      "\n",
      "--------------------------------------------------------------------------------\n",
      "380 fits failed with the following error:\n",
      "Traceback (most recent call last):\n",
      "  File \"c:\\Python310\\lib\\site-packages\\sklearn\\model_selection\\_validation.py\", line 686, in _fit_and_score\n",
      "    estimator.fit(X_train, y_train, **fit_params)\n",
      "  File \"c:\\Python310\\lib\\site-packages\\xgboost\\core.py\", line 575, in inner_f\n",
      "    return f(**kwargs)\n",
      "  File \"c:\\Python310\\lib\\site-packages\\xgboost\\sklearn.py\", line 1400, in fit\n",
      "    self._Booster = train(\n",
      "  File \"c:\\Python310\\lib\\site-packages\\xgboost\\core.py\", line 575, in inner_f\n",
      "    return f(**kwargs)\n",
      "  File \"c:\\Python310\\lib\\site-packages\\xgboost\\training.py\", line 181, in train\n",
      "    bst.update(dtrain, i, obj)\n",
      "  File \"c:\\Python310\\lib\\site-packages\\xgboost\\core.py\", line 1778, in update\n",
      "    _check_call(_LIB.XGBoosterUpdateOneIter(self.handle,\n",
      "  File \"c:\\Python310\\lib\\site-packages\\xgboost\\core.py\", line 246, in _check_call\n",
      "    raise XGBoostError(py_str(_LIB.XGBGetLastError()))\n",
      "xgboost.core.XGBoostError: [23:13:06] c:\\users\\administrator\\workspace\\xgboost-win64_release_1.6.0\\src\\objective\\./regression_loss.h:94: Check failed: base_score > 0.0f && base_score < 1.0f: base_score must be in (0,1) for logistic loss, got: 1\n",
      "\n",
      "--------------------------------------------------------------------------------\n",
      "470 fits failed with the following error:\n",
      "Traceback (most recent call last):\n",
      "  File \"c:\\Python310\\lib\\site-packages\\sklearn\\model_selection\\_validation.py\", line 686, in _fit_and_score\n",
      "    estimator.fit(X_train, y_train, **fit_params)\n",
      "  File \"c:\\Python310\\lib\\site-packages\\xgboost\\core.py\", line 575, in inner_f\n",
      "    return f(**kwargs)\n",
      "  File \"c:\\Python310\\lib\\site-packages\\xgboost\\sklearn.py\", line 1400, in fit\n",
      "    self._Booster = train(\n",
      "  File \"c:\\Python310\\lib\\site-packages\\xgboost\\core.py\", line 575, in inner_f\n",
      "    return f(**kwargs)\n",
      "  File \"c:\\Python310\\lib\\site-packages\\xgboost\\training.py\", line 181, in train\n",
      "    bst.update(dtrain, i, obj)\n",
      "  File \"c:\\Python310\\lib\\site-packages\\xgboost\\core.py\", line 1778, in update\n",
      "    _check_call(_LIB.XGBoosterUpdateOneIter(self.handle,\n",
      "  File \"c:\\Python310\\lib\\site-packages\\xgboost\\core.py\", line 246, in _check_call\n",
      "    raise XGBoostError(py_str(_LIB.XGBGetLastError()))\n",
      "xgboost.core.XGBoostError: [23:13:07] c:\\users\\administrator\\workspace\\xgboost-win64_release_1.6.0\\src\\objective\\./regression_loss.h:94: Check failed: base_score > 0.0f && base_score < 1.0f: base_score must be in (0,1) for logistic loss, got: 1\n",
      "\n",
      "--------------------------------------------------------------------------------\n",
      "400 fits failed with the following error:\n",
      "Traceback (most recent call last):\n",
      "  File \"c:\\Python310\\lib\\site-packages\\sklearn\\model_selection\\_validation.py\", line 686, in _fit_and_score\n",
      "    estimator.fit(X_train, y_train, **fit_params)\n",
      "  File \"c:\\Python310\\lib\\site-packages\\xgboost\\core.py\", line 575, in inner_f\n",
      "    return f(**kwargs)\n",
      "  File \"c:\\Python310\\lib\\site-packages\\xgboost\\sklearn.py\", line 1400, in fit\n",
      "    self._Booster = train(\n",
      "  File \"c:\\Python310\\lib\\site-packages\\xgboost\\core.py\", line 575, in inner_f\n",
      "    return f(**kwargs)\n",
      "  File \"c:\\Python310\\lib\\site-packages\\xgboost\\training.py\", line 181, in train\n",
      "    bst.update(dtrain, i, obj)\n",
      "  File \"c:\\Python310\\lib\\site-packages\\xgboost\\core.py\", line 1778, in update\n",
      "    _check_call(_LIB.XGBoosterUpdateOneIter(self.handle,\n",
      "  File \"c:\\Python310\\lib\\site-packages\\xgboost\\core.py\", line 246, in _check_call\n",
      "    raise XGBoostError(py_str(_LIB.XGBGetLastError()))\n",
      "xgboost.core.XGBoostError: [23:13:08] c:\\users\\administrator\\workspace\\xgboost-win64_release_1.6.0\\src\\objective\\./regression_loss.h:94: Check failed: base_score > 0.0f && base_score < 1.0f: base_score must be in (0,1) for logistic loss, got: 1\n",
      "\n",
      "--------------------------------------------------------------------------------\n",
      "400 fits failed with the following error:\n",
      "Traceback (most recent call last):\n",
      "  File \"c:\\Python310\\lib\\site-packages\\sklearn\\model_selection\\_validation.py\", line 686, in _fit_and_score\n",
      "    estimator.fit(X_train, y_train, **fit_params)\n",
      "  File \"c:\\Python310\\lib\\site-packages\\xgboost\\core.py\", line 575, in inner_f\n",
      "    return f(**kwargs)\n",
      "  File \"c:\\Python310\\lib\\site-packages\\xgboost\\sklearn.py\", line 1400, in fit\n",
      "    self._Booster = train(\n",
      "  File \"c:\\Python310\\lib\\site-packages\\xgboost\\core.py\", line 575, in inner_f\n",
      "    return f(**kwargs)\n",
      "  File \"c:\\Python310\\lib\\site-packages\\xgboost\\training.py\", line 181, in train\n",
      "    bst.update(dtrain, i, obj)\n",
      "  File \"c:\\Python310\\lib\\site-packages\\xgboost\\core.py\", line 1778, in update\n",
      "    _check_call(_LIB.XGBoosterUpdateOneIter(self.handle,\n",
      "  File \"c:\\Python310\\lib\\site-packages\\xgboost\\core.py\", line 246, in _check_call\n",
      "    raise XGBoostError(py_str(_LIB.XGBGetLastError()))\n",
      "xgboost.core.XGBoostError: [23:13:09] c:\\users\\administrator\\workspace\\xgboost-win64_release_1.6.0\\src\\objective\\./regression_loss.h:94: Check failed: base_score > 0.0f && base_score < 1.0f: base_score must be in (0,1) for logistic loss, got: 1\n",
      "\n",
      "--------------------------------------------------------------------------------\n",
      "388 fits failed with the following error:\n",
      "Traceback (most recent call last):\n",
      "  File \"c:\\Python310\\lib\\site-packages\\sklearn\\model_selection\\_validation.py\", line 686, in _fit_and_score\n",
      "    estimator.fit(X_train, y_train, **fit_params)\n",
      "  File \"c:\\Python310\\lib\\site-packages\\xgboost\\core.py\", line 575, in inner_f\n",
      "    return f(**kwargs)\n",
      "  File \"c:\\Python310\\lib\\site-packages\\xgboost\\sklearn.py\", line 1400, in fit\n",
      "    self._Booster = train(\n",
      "  File \"c:\\Python310\\lib\\site-packages\\xgboost\\core.py\", line 575, in inner_f\n",
      "    return f(**kwargs)\n",
      "  File \"c:\\Python310\\lib\\site-packages\\xgboost\\training.py\", line 181, in train\n",
      "    bst.update(dtrain, i, obj)\n",
      "  File \"c:\\Python310\\lib\\site-packages\\xgboost\\core.py\", line 1778, in update\n",
      "    _check_call(_LIB.XGBoosterUpdateOneIter(self.handle,\n",
      "  File \"c:\\Python310\\lib\\site-packages\\xgboost\\core.py\", line 246, in _check_call\n",
      "    raise XGBoostError(py_str(_LIB.XGBGetLastError()))\n",
      "xgboost.core.XGBoostError: [23:13:10] c:\\users\\administrator\\workspace\\xgboost-win64_release_1.6.0\\src\\objective\\./regression_loss.h:94: Check failed: base_score > 0.0f && base_score < 1.0f: base_score must be in (0,1) for logistic loss, got: 1\n",
      "\n",
      "  warnings.warn(some_fits_failed_message, FitFailedWarning)\n",
      "c:\\Python310\\lib\\site-packages\\sklearn\\model_selection\\_search.py:953: UserWarning: One or more of the test scores are non-finite: [0.86666667 0.84       0.82666667 ...        nan        nan        nan]\n",
      "  warnings.warn(\n"
     ]
    },
    {
     "name": "stdout",
     "output_type": "stream",
     "text": [
      "Best parameters set found on development set:\n",
      "\n",
      "{'base_score': 0.5, 'booster': 'gbtree', 'gamma': 0, 'learning_rate': 0.01, 'n_estimators': 500, 'reg_alpha': 1, 'reg_lambda': 1}\n",
      "\n",
      "Optimized model achieved an ROC of: 0.9933\n",
      "XGB Train Accuracy: 0.9933333333333333\n",
      "XGB Test Accuracy: 0.975\n"
     ]
    }
   ],
   "source": [
    "#List Hyperparameters that we want to tune.\n",
    "params = {\n",
    "    'n_estimators': [100, 200, 500],\n",
    "    'learning_rate': [0.01,0.05,0.1],\n",
    "    'booster': ['gbtree', 'gblinear'],\n",
    "    'gamma': [0, 0.5, 1],\n",
    "    'reg_alpha': [0, 0.5, 1],\n",
    "    'reg_lambda': [0.5, 1, 5],\n",
    "    'base_score': [0.2, 0.5, 1]\n",
    "}\n",
    "\n",
    "#Use GridSearch\n",
    "clf4 = GridSearchCV(model4, params, cv=cross_val, n_jobs=-1, verbose=2)\n",
    "\n",
    "#Fit the model\n",
    "clf4.fit(X_train, y_train)\n",
    "\n",
    "#Print The value of best Hyperparameters\n",
    "print(\"Best parameters set found on development set:\")\n",
    "print()\n",
    "print(clf4.best_params_)\n",
    "\n",
    "print(\"\\nOptimized model achieved an ROC of:\", round(clf4.score(X_train, y_train), 4))\n",
    "print(\"XGB Train Accuracy:\",clf4.score(X_train, y_train))\n",
    "print(\"XGB Test Accuracy:\",clf4.score(X_test, y_test))"
   ]
  },
  {
   "cell_type": "markdown",
   "metadata": {},
   "source": [
    "# Save model"
   ]
  },
  {
   "cell_type": "code",
   "execution_count": 329,
   "metadata": {},
   "outputs": [],
   "source": [
    "# import pickle\n",
    "\n",
    "# pickle.dump(clf, open('LogRegModelInitial', 'wb'))"
   ]
  },
  {
   "cell_type": "markdown",
   "metadata": {},
   "source": [
    "# Labelling data using our model"
   ]
  },
  {
   "cell_type": "code",
   "execution_count": 337,
   "metadata": {},
   "outputs": [
    {
     "data": {
      "text/plain": [
       "channelTitle          0\n",
       "viewCount             0\n",
       "likeCount             0\n",
       "commentCount          0\n",
       "definition            0\n",
       "caption               0\n",
       "subscribers           0\n",
       "totalViews            0\n",
       "totalVideos           0\n",
       "avg polarity score    0\n",
       "pushblishYear         0\n",
       "durationSecs          0\n",
       "tagCount              0\n",
       "title length          0\n",
       "description length    0\n",
       "dtype: int64"
      ]
     },
     "execution_count": 337,
     "metadata": {},
     "output_type": "execute_result"
    }
   ],
   "source": [
    "dff = dff.fillna(0)\n",
    "\n",
    "dff.isnull().sum()"
   ]
  },
  {
   "cell_type": "markdown",
   "metadata": {},
   "source": [
    "Labeling"
   ]
  },
  {
   "cell_type": "code",
   "execution_count": 339,
   "metadata": {},
   "outputs": [
    {
     "name": "stdout",
     "output_type": "stream",
     "text": [
      "749\n"
     ]
    },
    {
     "name": "stderr",
     "output_type": "stream",
     "text": [
      "c:\\Python310\\lib\\site-packages\\sklearn\\base.py:493: FutureWarning: The feature names should match those that were passed during fit. Starting version 1.2, an error will be raised.\n",
      "Feature names must be in the same order as they were in fit.\n",
      "\n",
      "  warnings.warn(message, FutureWarning)\n"
     ]
    }
   ],
   "source": [
    "new_pred = model1.predict(dff)\n",
    "print(new_pred)"
   ]
  },
  {
   "cell_type": "markdown",
   "metadata": {},
   "source": [
    "Assigning the labels"
   ]
  },
  {
   "cell_type": "code",
   "execution_count": null,
   "metadata": {},
   "outputs": [],
   "source": [
    "dffs = pd.read_csv('data/ytunlabeled2.csv')\n",
    "\n",
    "dffs['Label'] = None\n",
    "\n",
    "dffs = dffs.assign(Label = new_pred)\n",
    "\n",
    "dffs.to_csv(r'data/ytlabeled.csv')"
   ]
  }
 ],
 "metadata": {
  "kernelspec": {
   "display_name": "Python 3.10.0 64-bit",
   "language": "python",
   "name": "python3"
  },
  "language_info": {
   "codemirror_mode": {
    "name": "ipython",
    "version": 3
   },
   "file_extension": ".py",
   "mimetype": "text/x-python",
   "name": "python",
   "nbconvert_exporter": "python",
   "pygments_lexer": "ipython3",
   "version": "3.10.1"
  },
  "orig_nbformat": 4,
  "vscode": {
   "interpreter": {
    "hash": "369f2c481f4da34e4445cda3fffd2e751bd1c4d706f27375911949ba6bb62e1c"
   }
  }
 },
 "nbformat": 4,
 "nbformat_minor": 2
}
