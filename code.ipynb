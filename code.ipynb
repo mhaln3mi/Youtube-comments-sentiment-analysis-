{
 "cells": [
  {
   "cell_type": "code",
   "execution_count": 39,
   "metadata": {},
   "outputs": [],
   "source": [
    "import pandas as pd\n",
    "import seaborn\n",
    "import numpy as np"
   ]
  },
  {
   "cell_type": "markdown",
   "metadata": {},
   "source": [
    "### Importing Data"
   ]
  },
  {
   "cell_type": "code",
   "execution_count": 40,
   "metadata": {},
   "outputs": [
    {
     "data": {
      "text/html": [
       "<div>\n",
       "<style scoped>\n",
       "    .dataframe tbody tr th:only-of-type {\n",
       "        vertical-align: middle;\n",
       "    }\n",
       "\n",
       "    .dataframe tbody tr th {\n",
       "        vertical-align: top;\n",
       "    }\n",
       "\n",
       "    .dataframe thead th {\n",
       "        text-align: right;\n",
       "    }\n",
       "</style>\n",
       "<table border=\"1\" class=\"dataframe\">\n",
       "  <thead>\n",
       "    <tr style=\"text-align: right;\">\n",
       "      <th></th>\n",
       "      <th>Authorname</th>\n",
       "      <th>Comments</th>\n",
       "    </tr>\n",
       "  </thead>\n",
       "  <tbody>\n",
       "    <tr>\n",
       "      <th>0</th>\n",
       "      <td>Radin Černý</td>\n",
       "      <td>Summary for those who are not fans of long vid...</td>\n",
       "    </tr>\n",
       "    <tr>\n",
       "      <th>1</th>\n",
       "      <td>Filipe Freire</td>\n",
       "      <td>More a linux starter tutorial than a docker on...</td>\n",
       "    </tr>\n",
       "    <tr>\n",
       "      <th>2</th>\n",
       "      <td>Troll Gamer</td>\n",
       "      <td>Hello mosh, i am a 15 year old kid and was lea...</td>\n",
       "    </tr>\n",
       "    <tr>\n",
       "      <th>3</th>\n",
       "      <td>Ash Moore</td>\n",
       "      <td>Hi Mosh, I just want to say thank you so much ...</td>\n",
       "    </tr>\n",
       "    <tr>\n",
       "      <th>4</th>\n",
       "      <td>Irfan Shaikh</td>\n",
       "      <td>Excellent beginners tutorial. You have not jum...</td>\n",
       "    </tr>\n",
       "  </tbody>\n",
       "</table>\n",
       "</div>"
      ],
      "text/plain": [
       "      Authorname                                           Comments\n",
       "0    Radin Černý  Summary for those who are not fans of long vid...\n",
       "1  Filipe Freire  More a linux starter tutorial than a docker on...\n",
       "2    Troll Gamer  Hello mosh, i am a 15 year old kid and was lea...\n",
       "3      Ash Moore  Hi Mosh, I just want to say thank you so much ...\n",
       "4   Irfan Shaikh  Excellent beginners tutorial. You have not jum..."
      ]
     },
     "execution_count": 40,
     "metadata": {},
     "output_type": "execute_result"
    }
   ],
   "source": [
    "df = pd.read_csv(\"data/ytdf3.csv\")\n",
    "df.head(5)"
   ]
  },
  {
   "cell_type": "code",
   "execution_count": 41,
   "metadata": {},
   "outputs": [
    {
     "name": "stdout",
     "output_type": "stream",
     "text": [
      "<class 'pandas.core.frame.DataFrame'>\n",
      "RangeIndex: 100 entries, 0 to 99\n",
      "Data columns (total 2 columns):\n",
      " #   Column      Non-Null Count  Dtype \n",
      "---  ------      --------------  ----- \n",
      " 0   Authorname  100 non-null    object\n",
      " 1   Comments    100 non-null    object\n",
      "dtypes: object(2)\n",
      "memory usage: 1.7+ KB\n"
     ]
    }
   ],
   "source": [
    "df.info()"
   ]
  },
  {
   "cell_type": "markdown",
   "metadata": {},
   "source": [
    "### Data preprocessing "
   ]
  },
  {
   "cell_type": "markdown",
   "metadata": {},
   "source": [
    "Checking duplicates"
   ]
  },
  {
   "cell_type": "code",
   "execution_count": 42,
   "metadata": {},
   "outputs": [
    {
     "data": {
      "text/plain": [
       "(100, 2)"
      ]
     },
     "execution_count": 42,
     "metadata": {},
     "output_type": "execute_result"
    }
   ],
   "source": [
    "df.duplicated().sum()\n",
    "df.shape"
   ]
  },
  {
   "cell_type": "code",
   "execution_count": 43,
   "metadata": {},
   "outputs": [
    {
     "data": {
      "text/plain": [
       "(97, 2)"
      ]
     },
     "execution_count": 43,
     "metadata": {},
     "output_type": "execute_result"
    }
   ],
   "source": [
    "df = df.drop_duplicates()\n",
    "df.shape"
   ]
  },
  {
   "cell_type": "markdown",
   "metadata": {},
   "source": [
    "Remove emojis and special characters"
   ]
  },
  {
   "cell_type": "code",
   "execution_count": 44,
   "metadata": {},
   "outputs": [],
   "source": [
    "import re\n",
    "def cleaning_comments(comment):\n",
    "  comment = re.sub(\"[🤣|🤭|🤣|😁|🤭|❤️|👍|🏴|😣|😠|💪|🙏|😞|🌺|🌸|🌞|🌻|💐|💓|😥|💔|😪|😑|🏽|😢|😑|😇|💜|🪴|🙌🏻|🇨🇦|🕊|🕯|😭|😔|💙|🏼|✝|🇿]+\",'',comment)\n",
    "  comment = re.sub(\"[0-9]+\",\"\",comment)\n",
    "  comment = re.sub(\"[\\:|\\@|\\)|\\*|\\.|\\$|\\!|\\?|\\,|\\%|\\\"|\\(|\\-|\\”|\\#|\\!|\\/|\\«|\\»|\\&|\\n|\\'|\\;|\\!|<|>|\\'|\\’|\\\\\\\\]+\",\" \",comment)\n",
    "  return comment\n",
    "\n",
    "df['Comments'] = df['Comments'].apply(cleaning_comments)"
   ]
  },
  {
   "cell_type": "markdown",
   "metadata": {},
   "source": [
    "Convert to lower case"
   ]
  },
  {
   "cell_type": "code",
   "execution_count": 45,
   "metadata": {},
   "outputs": [],
   "source": [
    "lower = lambda x: x.lower()\n",
    "df['Comments'] = df['Comments'].apply(lower)"
   ]
  },
  {
   "cell_type": "markdown",
   "metadata": {},
   "source": [
    "Get the polarity with the stopwords"
   ]
  },
  {
   "cell_type": "code",
   "execution_count": 46,
   "metadata": {},
   "outputs": [
    {
     "name": "stderr",
     "output_type": "stream",
     "text": [
      "[nltk_data] Downloading package vader_lexicon to\n",
      "[nltk_data]     C:\\Users\\maann\\AppData\\Roaming\\nltk_data...\n",
      "[nltk_data]   Package vader_lexicon is already up-to-date!\n"
     ]
    }
   ],
   "source": [
    "import nltk\n",
    "from nltk.sentiment.vader import SentimentIntensityAnalyzer\n",
    "nltk.download('vader_lexicon')\n",
    "sid = SentimentIntensityAnalyzer()\n",
    "\n",
    "#Create scores col\n",
    "df['Scores'] = df['Comments'].apply(lambda x: sid.polarity_scores(x))\n",
    "\n",
    "#Create compund score\n",
    "df['Compound'] = df['Scores'].apply(lambda score_dict: score_dict['compound'])\n",
    "\n",
    "#label based on score\n",
    "df['Polarity'] = df['Compound'].apply(lambda c: 'neutral' if -0.05 < c < 0.05 else ('negative' if c < -0.05 else 'positive'))"
   ]
  },
  {
   "cell_type": "markdown",
   "metadata": {},
   "source": [
    "Get the polarity without the stopwords"
   ]
  },
  {
   "cell_type": "code",
   "execution_count": 47,
   "metadata": {},
   "outputs": [
    {
     "name": "stderr",
     "output_type": "stream",
     "text": [
      "[nltk_data] Downloading package stopwords to\n",
      "[nltk_data]     C:\\Users\\maann\\AppData\\Roaming\\nltk_data...\n",
      "[nltk_data]   Package stopwords is already up-to-date!\n"
     ]
    }
   ],
   "source": [
    "from nltk.corpus import stopwords\n",
    "from nltk.tokenize import word_tokenize\n",
    "nltk.download('stopwords')\n",
    "\n",
    "stop = stopwords.words('english')\n",
    "\n",
    "#Create comments without stopwords col\n",
    "df['comments wo stopwords'] = df['Comments'].apply(lambda x: ' '.join([word for word in x.split() if word not in (stop)]))"
   ]
  },
  {
   "cell_type": "markdown",
   "metadata": {},
   "source": [
    "Add scores and polarity col without stopwords"
   ]
  },
  {
   "cell_type": "code",
   "execution_count": 48,
   "metadata": {},
   "outputs": [
    {
     "name": "stderr",
     "output_type": "stream",
     "text": [
      "[nltk_data] Downloading package vader_lexicon to\n",
      "[nltk_data]     C:\\Users\\maann\\AppData\\Roaming\\nltk_data...\n",
      "[nltk_data]   Package vader_lexicon is already up-to-date!\n"
     ]
    }
   ],
   "source": [
    "import nltk\n",
    "from nltk.sentiment.vader import SentimentIntensityAnalyzer\n",
    "nltk.download('vader_lexicon')\n",
    "sid = SentimentIntensityAnalyzer()\n",
    "\n",
    "df['Scores wo stopwords'] = df['comments wo stopwords'].apply(lambda x: sid.polarity_scores(x))\n",
    "\n",
    "df['compound wo stopwords'] = df['Scores wo stopwords'].apply(lambda score_dict: score_dict['compound'])\n",
    "\n",
    "df['polarity wo stopwords'] = df['compound wo stopwords'].apply(lambda c: 'neutral' if -0.05 < c < 0.05 else ('negative' if c < -0.05 else 'positive'))"
   ]
  },
  {
   "cell_type": "code",
   "execution_count": 55,
   "metadata": {},
   "outputs": [
    {
     "data": {
      "text/html": [
       "<div>\n",
       "<style scoped>\n",
       "    .dataframe tbody tr th:only-of-type {\n",
       "        vertical-align: middle;\n",
       "    }\n",
       "\n",
       "    .dataframe tbody tr th {\n",
       "        vertical-align: top;\n",
       "    }\n",
       "\n",
       "    .dataframe thead th {\n",
       "        text-align: right;\n",
       "    }\n",
       "</style>\n",
       "<table border=\"1\" class=\"dataframe\">\n",
       "  <thead>\n",
       "    <tr style=\"text-align: right;\">\n",
       "      <th></th>\n",
       "      <th>Authorname</th>\n",
       "      <th>Comments</th>\n",
       "      <th>Scores</th>\n",
       "      <th>Compound</th>\n",
       "      <th>Polarity</th>\n",
       "      <th>comments wo stopwords</th>\n",
       "      <th>Scores wo stopwords</th>\n",
       "      <th>compound wo stopwords</th>\n",
       "      <th>polarity wo stopwords</th>\n",
       "      <th>Length</th>\n",
       "    </tr>\n",
       "  </thead>\n",
       "  <tbody>\n",
       "    <tr>\n",
       "      <th>0</th>\n",
       "      <td>Radin Černý</td>\n",
       "      <td>summary for those who are not fans of long vid...</td>\n",
       "      <td>{'neg': 0.0, 'neu': 0.862, 'pos': 0.138, 'comp...</td>\n",
       "      <td>0.9612</td>\n",
       "      <td>positive</td>\n",
       "      <td>summary fans long videos name video says docke...</td>\n",
       "      <td>{'neg': 0.0, 'neu': 0.797, 'pos': 0.203, 'comp...</td>\n",
       "      <td>0.9186</td>\n",
       "      <td>positive</td>\n",
       "      <td>670</td>\n",
       "    </tr>\n",
       "    <tr>\n",
       "      <th>1</th>\n",
       "      <td>Filipe Freire</td>\n",
       "      <td>more a linux starter tutorial than a docker on...</td>\n",
       "      <td>{'neg': 0.0, 'neu': 0.742, 'pos': 0.258, 'comp...</td>\n",
       "      <td>0.7869</td>\n",
       "      <td>positive</td>\n",
       "      <td>linux starter tutorial docker one good enough ...</td>\n",
       "      <td>{'neg': 0.0, 'neu': 0.667, 'pos': 0.333, 'comp...</td>\n",
       "      <td>0.6124</td>\n",
       "      <td>positive</td>\n",
       "      <td>129</td>\n",
       "    </tr>\n",
       "    <tr>\n",
       "      <th>2</th>\n",
       "      <td>Troll Gamer</td>\n",
       "      <td>hello mosh  i am a  year old kid and was learn...</td>\n",
       "      <td>{'neg': 0.0, 'neu': 0.75, 'pos': 0.25, 'compou...</td>\n",
       "      <td>0.9652</td>\n",
       "      <td>positive</td>\n",
       "      <td>hello mosh year old kid learning python videos...</td>\n",
       "      <td>{'neg': 0.0, 'neu': 0.586, 'pos': 0.414, 'comp...</td>\n",
       "      <td>0.9652</td>\n",
       "      <td>positive</td>\n",
       "      <td>435</td>\n",
       "    </tr>\n",
       "    <tr>\n",
       "      <th>3</th>\n",
       "      <td>Ash Moore</td>\n",
       "      <td>hi mosh  i just want to say thank you so much ...</td>\n",
       "      <td>{'neg': 0.037, 'neu': 0.755, 'pos': 0.209, 'co...</td>\n",
       "      <td>0.9557</td>\n",
       "      <td>positive</td>\n",
       "      <td>hi mosh want say thank much providing valuable...</td>\n",
       "      <td>{'neg': 0.06, 'neu': 0.543, 'pos': 0.397, 'com...</td>\n",
       "      <td>0.9774</td>\n",
       "      <td>positive</td>\n",
       "      <td>671</td>\n",
       "    </tr>\n",
       "    <tr>\n",
       "      <th>4</th>\n",
       "      <td>Irfan Shaikh</td>\n",
       "      <td>excellent beginners tutorial  you have not jum...</td>\n",
       "      <td>{'neg': 0.0, 'neu': 0.903, 'pos': 0.097, 'comp...</td>\n",
       "      <td>0.3291</td>\n",
       "      <td>positive</td>\n",
       "      <td>excellent beginners tutorial jumped complex th...</td>\n",
       "      <td>{'neg': 0.0, 'neu': 0.764, 'pos': 0.236, 'comp...</td>\n",
       "      <td>0.5719</td>\n",
       "      <td>positive</td>\n",
       "      <td>140</td>\n",
       "    </tr>\n",
       "  </tbody>\n",
       "</table>\n",
       "</div>"
      ],
      "text/plain": [
       "      Authorname                                           Comments  \\\n",
       "0    Radin Černý  summary for those who are not fans of long vid...   \n",
       "1  Filipe Freire  more a linux starter tutorial than a docker on...   \n",
       "2    Troll Gamer  hello mosh  i am a  year old kid and was learn...   \n",
       "3      Ash Moore  hi mosh  i just want to say thank you so much ...   \n",
       "4   Irfan Shaikh  excellent beginners tutorial  you have not jum...   \n",
       "\n",
       "                                              Scores  Compound  Polarity  \\\n",
       "0  {'neg': 0.0, 'neu': 0.862, 'pos': 0.138, 'comp...    0.9612  positive   \n",
       "1  {'neg': 0.0, 'neu': 0.742, 'pos': 0.258, 'comp...    0.7869  positive   \n",
       "2  {'neg': 0.0, 'neu': 0.75, 'pos': 0.25, 'compou...    0.9652  positive   \n",
       "3  {'neg': 0.037, 'neu': 0.755, 'pos': 0.209, 'co...    0.9557  positive   \n",
       "4  {'neg': 0.0, 'neu': 0.903, 'pos': 0.097, 'comp...    0.3291  positive   \n",
       "\n",
       "                               comments wo stopwords  \\\n",
       "0  summary fans long videos name video says docke...   \n",
       "1  linux starter tutorial docker one good enough ...   \n",
       "2  hello mosh year old kid learning python videos...   \n",
       "3  hi mosh want say thank much providing valuable...   \n",
       "4  excellent beginners tutorial jumped complex th...   \n",
       "\n",
       "                                 Scores wo stopwords  compound wo stopwords  \\\n",
       "0  {'neg': 0.0, 'neu': 0.797, 'pos': 0.203, 'comp...                 0.9186   \n",
       "1  {'neg': 0.0, 'neu': 0.667, 'pos': 0.333, 'comp...                 0.6124   \n",
       "2  {'neg': 0.0, 'neu': 0.586, 'pos': 0.414, 'comp...                 0.9652   \n",
       "3  {'neg': 0.06, 'neu': 0.543, 'pos': 0.397, 'com...                 0.9774   \n",
       "4  {'neg': 0.0, 'neu': 0.764, 'pos': 0.236, 'comp...                 0.5719   \n",
       "\n",
       "  polarity wo stopwords  Length  \n",
       "0              positive     670  \n",
       "1              positive     129  \n",
       "2              positive     435  \n",
       "3              positive     671  \n",
       "4              positive     140  "
      ]
     },
     "execution_count": 55,
     "metadata": {},
     "output_type": "execute_result"
    }
   ],
   "source": [
    "df[\"Length\"] = df[\"Comments\"].str.len()\n",
    "df.head(5)"
   ]
  },
  {
   "cell_type": "markdown",
   "metadata": {},
   "source": [
    "Compare the polarity ratio with stopwords and without them"
   ]
  },
  {
   "cell_type": "code",
   "execution_count": 50,
   "metadata": {},
   "outputs": [
    {
     "data": {
      "text/plain": [
       "positive    90\n",
       "neutral      4\n",
       "negative     3\n",
       "Name: Polarity, dtype: int64"
      ]
     },
     "execution_count": 50,
     "metadata": {},
     "output_type": "execute_result"
    }
   ],
   "source": [
    "df['Polarity'].value_counts()"
   ]
  },
  {
   "cell_type": "code",
   "execution_count": 51,
   "metadata": {},
   "outputs": [
    {
     "data": {
      "text/plain": [
       "positive    90\n",
       "neutral      4\n",
       "negative     3\n",
       "Name: polarity wo stopwords, dtype: int64"
      ]
     },
     "execution_count": 51,
     "metadata": {},
     "output_type": "execute_result"
    }
   ],
   "source": [
    "df['polarity wo stopwords'].value_counts()"
   ]
  },
  {
   "cell_type": "markdown",
   "metadata": {},
   "source": [
    "Checking the negative comments"
   ]
  },
  {
   "cell_type": "code",
   "execution_count": 58,
   "metadata": {},
   "outputs": [
    {
     "data": {
      "text/html": [
       "<div>\n",
       "<style scoped>\n",
       "    .dataframe tbody tr th:only-of-type {\n",
       "        vertical-align: middle;\n",
       "    }\n",
       "\n",
       "    .dataframe tbody tr th {\n",
       "        vertical-align: top;\n",
       "    }\n",
       "\n",
       "    .dataframe thead th {\n",
       "        text-align: right;\n",
       "    }\n",
       "</style>\n",
       "<table border=\"1\" class=\"dataframe\">\n",
       "  <thead>\n",
       "    <tr style=\"text-align: right;\">\n",
       "      <th></th>\n",
       "      <th>Authorname</th>\n",
       "      <th>Comments</th>\n",
       "      <th>Scores</th>\n",
       "      <th>Compound</th>\n",
       "      <th>Polarity</th>\n",
       "      <th>comments wo stopwords</th>\n",
       "      <th>Scores wo stopwords</th>\n",
       "      <th>compound wo stopwords</th>\n",
       "      <th>polarity wo stopwords</th>\n",
       "      <th>Length</th>\n",
       "    </tr>\n",
       "  </thead>\n",
       "  <tbody>\n",
       "    <tr>\n",
       "      <th>48</th>\n",
       "      <td>Joshua Alabre</td>\n",
       "      <td>hey man nice course  i m having trouble with  ...</td>\n",
       "      <td>{'neg': 0.097, 'neu': 0.842, 'pos': 0.061, 'co...</td>\n",
       "      <td>-0.4588</td>\n",
       "      <td>negative</td>\n",
       "      <td>hey man nice course trouble docker action sect...</td>\n",
       "      <td>{'neg': 0.138, 'neu': 0.74, 'pos': 0.122, 'com...</td>\n",
       "      <td>-0.1531</td>\n",
       "      <td>negative</td>\n",
       "      <td>301</td>\n",
       "    </tr>\n",
       "    <tr>\n",
       "      <th>66</th>\n",
       "      <td>LOEHCRACK RECOMMEND ON INSTAGRAM</td>\n",
       "      <td>i cannot thank you enough  my dad passed away ...</td>\n",
       "      <td>{'neg': 0.116, 'neu': 0.816, 'pos': 0.067, 'co...</td>\n",
       "      <td>-0.1828</td>\n",
       "      <td>negative</td>\n",
       "      <td>cannot thank enough dad passed away unable acc...</td>\n",
       "      <td>{'neg': 0.141, 'neu': 0.735, 'pos': 0.124, 'co...</td>\n",
       "      <td>0.1230</td>\n",
       "      <td>positive</td>\n",
       "      <td>276</td>\n",
       "    </tr>\n",
       "    <tr>\n",
       "      <th>75</th>\n",
       "      <td>29 Naman Kumar</td>\n",
       "      <td>the  dislikes are given by the people who stru...</td>\n",
       "      <td>{'neg': 0.101, 'neu': 0.899, 'pos': 0.0, 'comp...</td>\n",
       "      <td>-0.4019</td>\n",
       "      <td>negative</td>\n",
       "      <td>dislikes given people structure coding courses...</td>\n",
       "      <td>{'neg': 0.184, 'neu': 0.816, 'pos': 0.0, 'comp...</td>\n",
       "      <td>-0.4019</td>\n",
       "      <td>negative</td>\n",
       "      <td>154</td>\n",
       "    </tr>\n",
       "  </tbody>\n",
       "</table>\n",
       "</div>"
      ],
      "text/plain": [
       "                           Authorname  \\\n",
       "48                      Joshua Alabre   \n",
       "66  LOEHCRACK RECOMMEND ON INSTAGRAM    \n",
       "75                     29 Naman Kumar   \n",
       "\n",
       "                                             Comments  \\\n",
       "48  hey man nice course  i m having trouble with  ...   \n",
       "66  i cannot thank you enough  my dad passed away ...   \n",
       "75  the  dislikes are given by the people who stru...   \n",
       "\n",
       "                                               Scores  Compound  Polarity  \\\n",
       "48  {'neg': 0.097, 'neu': 0.842, 'pos': 0.061, 'co...   -0.4588  negative   \n",
       "66  {'neg': 0.116, 'neu': 0.816, 'pos': 0.067, 'co...   -0.1828  negative   \n",
       "75  {'neg': 0.101, 'neu': 0.899, 'pos': 0.0, 'comp...   -0.4019  negative   \n",
       "\n",
       "                                comments wo stopwords  \\\n",
       "48  hey man nice course trouble docker action sect...   \n",
       "66  cannot thank enough dad passed away unable acc...   \n",
       "75  dislikes given people structure coding courses...   \n",
       "\n",
       "                                  Scores wo stopwords  compound wo stopwords  \\\n",
       "48  {'neg': 0.138, 'neu': 0.74, 'pos': 0.122, 'com...                -0.1531   \n",
       "66  {'neg': 0.141, 'neu': 0.735, 'pos': 0.124, 'co...                 0.1230   \n",
       "75  {'neg': 0.184, 'neu': 0.816, 'pos': 0.0, 'comp...                -0.4019   \n",
       "\n",
       "   polarity wo stopwords  Length  \n",
       "48              negative     301  \n",
       "66              positive     276  \n",
       "75              negative     154  "
      ]
     },
     "execution_count": 58,
     "metadata": {},
     "output_type": "execute_result"
    }
   ],
   "source": [
    "neg = df[df[\"Polarity\"] == \"negative\"]\n",
    "\n",
    "neg.head()"
   ]
  },
  {
   "cell_type": "markdown",
   "metadata": {},
   "source": [
    "#### Investigating the relationship between comment length and polarity"
   ]
  },
  {
   "cell_type": "code",
   "execution_count": 53,
   "metadata": {},
   "outputs": [
    {
     "data": {
      "text/plain": [
       "Polarity\n",
       "negative    243.666667\n",
       "neutral     147.500000\n",
       "positive    169.177778\n",
       "Name: Length, dtype: float64"
      ]
     },
     "execution_count": 53,
     "metadata": {},
     "output_type": "execute_result"
    }
   ],
   "source": [
    "a = df.groupby(\"Polarity\")\n",
    "a[\"Length\"].mean()"
   ]
  },
  {
   "cell_type": "markdown",
   "metadata": {},
   "source": [
    "It seems that negative comments tends to be longer"
   ]
  },
  {
   "cell_type": "code",
   "execution_count": 54,
   "metadata": {},
   "outputs": [
    {
     "data": {
      "image/png": "[encoded data removed]",
      "text/plain": [
       "<Figure size 432x288 with 1 Axes>"
      ]
     },
     "metadata": {
      "needs_background": "light"
     },
     "output_type": "display_data"
    }
   ],
   "source": [
    "from wordcloud import WordCloud\n",
    "import matplotlib.pyplot as plt\n",
    "\n",
    "comments = df[\"Comments\"].values\n",
    "b = WordCloud(background_color=\"white\").generate(str(comments))\n",
    "\n",
    "plt.imshow(b)\n",
    "plt.axis(\"off\")\n",
    "plt.show()"
   ]
  }
 ],
 "metadata": {
  "kernelspec": {
   "display_name": "Python 3.10.0 64-bit",
   "language": "python",
   "name": "python3"
  },
  "language_info": {
   "codemirror_mode": {
    "name": "ipython",
    "version": 3
   },
   "file_extension": ".py",
   "mimetype": "text/x-python",
   "name": "python",
   "nbconvert_exporter": "python",
   "pygments_lexer": "ipython3",
   "version": "3.10.1"
  },
  "orig_nbformat": 4,
  "vscode": {
   "interpreter": {
    "hash": "369f2c481f4da34e4445cda3fffd2e751bd1c4d706f27375911949ba6bb62e1c"
   }
  }
 },
 "nbformat": 4,
 "nbformat_minor": 2
}
