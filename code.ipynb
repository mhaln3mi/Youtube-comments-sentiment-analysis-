{
 "cells": [
  {
   "cell_type": "markdown",
   "metadata": {},
   "source": [
    "### Importing libraries "
   ]
  },
  {
   "cell_type": "code",
   "execution_count": 1847,
   "metadata": {},
   "outputs": [],
   "source": [
    "import pandas as pd\n",
    "import seaborn as sns\n",
    "import numpy as np\n",
    "from dateutil import parser\n",
    "import matplotlib as plt"
   ]
  },
  {
   "cell_type": "markdown",
   "metadata": {},
   "source": [
    "### Importing Data"
   ]
  },
  {
   "cell_type": "code",
   "execution_count": 1848,
   "metadata": {},
   "outputs": [],
   "source": [
    "df = pd.read_csv('data/ytdataframe.csv')"
   ]
  },
  {
   "cell_type": "code",
   "execution_count": 1858,
   "metadata": {},
   "outputs": [
    {
     "data": {
      "text/html": [
       "<div>\n",
       "<style scoped>\n",
       "    .dataframe tbody tr th:only-of-type {\n",
       "        vertical-align: middle;\n",
       "    }\n",
       "\n",
       "    .dataframe tbody tr th {\n",
       "        vertical-align: top;\n",
       "    }\n",
       "\n",
       "    .dataframe thead th {\n",
       "        text-align: right;\n",
       "    }\n",
       "</style>\n",
       "<table border=\"1\" class=\"dataframe\">\n",
       "  <thead>\n",
       "    <tr style=\"text-align: right;\">\n",
       "      <th></th>\n",
       "      <th>Unnamed: 0</th>\n",
       "      <th>video_id</th>\n",
       "      <th>channelTitle</th>\n",
       "      <th>title</th>\n",
       "      <th>description</th>\n",
       "      <th>tags</th>\n",
       "      <th>publishedAt</th>\n",
       "      <th>viewCount</th>\n",
       "      <th>likeCount</th>\n",
       "      <th>favouriteCount</th>\n",
       "      <th>...</th>\n",
       "      <th>duration</th>\n",
       "      <th>definition</th>\n",
       "      <th>caption</th>\n",
       "      <th>subscribers</th>\n",
       "      <th>totalViews</th>\n",
       "      <th>totalVideos</th>\n",
       "      <th>total polarity score</th>\n",
       "      <th>Label</th>\n",
       "      <th>pushblishYear</th>\n",
       "      <th>durationSecs</th>\n",
       "    </tr>\n",
       "  </thead>\n",
       "  <tbody>\n",
       "    <tr>\n",
       "      <th>0</th>\n",
       "      <td>0</td>\n",
       "      <td>-SejlHOXexc</td>\n",
       "      <td>Tech Tutorial</td>\n",
       "      <td>How to download facebook stories in your phone</td>\n",
       "      <td>Hey friends today we have another great topic ...</td>\n",
       "      <td>['facebook stories in your phone', 'download f...</td>\n",
       "      <td>2019-11-02 14:25:35+00:00</td>\n",
       "      <td>967622.0</td>\n",
       "      <td>11100.0</td>\n",
       "      <td>NaN</td>\n",
       "      <td>...</td>\n",
       "      <td>PT3M55S</td>\n",
       "      <td>hd</td>\n",
       "      <td>False</td>\n",
       "      <td>140000</td>\n",
       "      <td>8634729</td>\n",
       "      <td>161</td>\n",
       "      <td>0.0082</td>\n",
       "      <td>non reputable</td>\n",
       "      <td>2019</td>\n",
       "      <td>235.0</td>\n",
       "    </tr>\n",
       "    <tr>\n",
       "      <th>1</th>\n",
       "      <td>1</td>\n",
       "      <td>set4Kr8hX0w</td>\n",
       "      <td>Tech Tutorial</td>\n",
       "      <td>How to check whatsapp lastseen if hidden or bl...</td>\n",
       "      <td>Hello  friends welcome to my channel Our today...</td>\n",
       "      <td>['How to check whatsapp lastseen if hidden or ...</td>\n",
       "      <td>2018-01-20 15:35:36+00:00</td>\n",
       "      <td>1477032.0</td>\n",
       "      <td>11922.0</td>\n",
       "      <td>NaN</td>\n",
       "      <td>...</td>\n",
       "      <td>PT4M44S</td>\n",
       "      <td>hd</td>\n",
       "      <td>False</td>\n",
       "      <td>140000</td>\n",
       "      <td>8634729</td>\n",
       "      <td>161</td>\n",
       "      <td>0.1820</td>\n",
       "      <td>non reputable</td>\n",
       "      <td>2018</td>\n",
       "      <td>284.0</td>\n",
       "    </tr>\n",
       "    <tr>\n",
       "      <th>2</th>\n",
       "      <td>2</td>\n",
       "      <td>s4EYU1ptpIs</td>\n",
       "      <td>Tech Tutorial</td>\n",
       "      <td>How to change voice during call | Male female ...</td>\n",
       "      <td>Hey friends today we have another great topic ...</td>\n",
       "      <td>['How to change voice during call', 'voice cha...</td>\n",
       "      <td>2021-11-30 17:37:11+00:00</td>\n",
       "      <td>539109.0</td>\n",
       "      <td>9063.0</td>\n",
       "      <td>NaN</td>\n",
       "      <td>...</td>\n",
       "      <td>PT5M21S</td>\n",
       "      <td>hd</td>\n",
       "      <td>False</td>\n",
       "      <td>140000</td>\n",
       "      <td>8634729</td>\n",
       "      <td>161</td>\n",
       "      <td>0.0890</td>\n",
       "      <td>non reputable</td>\n",
       "      <td>2021</td>\n",
       "      <td>321.0</td>\n",
       "    </tr>\n",
       "    <tr>\n",
       "      <th>3</th>\n",
       "      <td>3</td>\n",
       "      <td>-lcPJAa6trw</td>\n",
       "      <td>Tech Tutorial</td>\n",
       "      <td>How to check who read my message in whatsapp g...</td>\n",
       "      <td>Hey friends today we have another great topic ...</td>\n",
       "      <td>['how to check who read message in whatsapp gr...</td>\n",
       "      <td>2018-05-07 15:12:51+00:00</td>\n",
       "      <td>322539.0</td>\n",
       "      <td>5355.0</td>\n",
       "      <td>NaN</td>\n",
       "      <td>...</td>\n",
       "      <td>PT3M</td>\n",
       "      <td>hd</td>\n",
       "      <td>False</td>\n",
       "      <td>140000</td>\n",
       "      <td>8634729</td>\n",
       "      <td>161</td>\n",
       "      <td>0.3620</td>\n",
       "      <td>non reputable</td>\n",
       "      <td>2018</td>\n",
       "      <td>180.0</td>\n",
       "    </tr>\n",
       "    <tr>\n",
       "      <th>4</th>\n",
       "      <td>4</td>\n",
       "      <td>G1F6W7QhrWU</td>\n",
       "      <td>Tech Tutorial</td>\n",
       "      <td>How to Record Messenger calls -facebook messen...</td>\n",
       "      <td>Hey friends today we have another great topic ...</td>\n",
       "      <td>['How to Record Messenger calls', 'facebook me...</td>\n",
       "      <td>2021-10-07 16:18:54+00:00</td>\n",
       "      <td>41652.0</td>\n",
       "      <td>319.0</td>\n",
       "      <td>NaN</td>\n",
       "      <td>...</td>\n",
       "      <td>PT4M23S</td>\n",
       "      <td>hd</td>\n",
       "      <td>False</td>\n",
       "      <td>140000</td>\n",
       "      <td>8634729</td>\n",
       "      <td>161</td>\n",
       "      <td>0.3250</td>\n",
       "      <td>non reputable</td>\n",
       "      <td>2021</td>\n",
       "      <td>263.0</td>\n",
       "    </tr>\n",
       "  </tbody>\n",
       "</table>\n",
       "<p>5 rows × 21 columns</p>\n",
       "</div>"
      ],
      "text/plain": [
       "   Unnamed: 0     video_id   channelTitle  \\\n",
       "0           0  -SejlHOXexc  Tech Tutorial   \n",
       "1           1  set4Kr8hX0w  Tech Tutorial   \n",
       "2           2  s4EYU1ptpIs  Tech Tutorial   \n",
       "3           3  -lcPJAa6trw  Tech Tutorial   \n",
       "4           4  G1F6W7QhrWU  Tech Tutorial   \n",
       "\n",
       "                                               title  \\\n",
       "0     How to download facebook stories in your phone   \n",
       "1  How to check whatsapp lastseen if hidden or bl...   \n",
       "2  How to change voice during call | Male female ...   \n",
       "3  How to check who read my message in whatsapp g...   \n",
       "4  How to Record Messenger calls -facebook messen...   \n",
       "\n",
       "                                         description  \\\n",
       "0  Hey friends today we have another great topic ...   \n",
       "1  Hello  friends welcome to my channel Our today...   \n",
       "2  Hey friends today we have another great topic ...   \n",
       "3  Hey friends today we have another great topic ...   \n",
       "4  Hey friends today we have another great topic ...   \n",
       "\n",
       "                                                tags  \\\n",
       "0  ['facebook stories in your phone', 'download f...   \n",
       "1  ['How to check whatsapp lastseen if hidden or ...   \n",
       "2  ['How to change voice during call', 'voice cha...   \n",
       "3  ['how to check who read message in whatsapp gr...   \n",
       "4  ['How to Record Messenger calls', 'facebook me...   \n",
       "\n",
       "                publishedAt  viewCount  likeCount  favouriteCount  ...  \\\n",
       "0 2019-11-02 14:25:35+00:00   967622.0    11100.0             NaN  ...   \n",
       "1 2018-01-20 15:35:36+00:00  1477032.0    11922.0             NaN  ...   \n",
       "2 2021-11-30 17:37:11+00:00   539109.0     9063.0             NaN  ...   \n",
       "3 2018-05-07 15:12:51+00:00   322539.0     5355.0             NaN  ...   \n",
       "4 2021-10-07 16:18:54+00:00    41652.0      319.0             NaN  ...   \n",
       "\n",
       "   duration definition caption  subscribers  totalViews  totalVideos  \\\n",
       "0   PT3M55S         hd   False       140000     8634729          161   \n",
       "1   PT4M44S         hd   False       140000     8634729          161   \n",
       "2   PT5M21S         hd   False       140000     8634729          161   \n",
       "3      PT3M         hd   False       140000     8634729          161   \n",
       "4   PT4M23S         hd   False       140000     8634729          161   \n",
       "\n",
       "   total polarity score          Label pushblishYear durationSecs  \n",
       "0                0.0082  non reputable          2019        235.0  \n",
       "1                0.1820  non reputable          2018        284.0  \n",
       "2                0.0890  non reputable          2021        321.0  \n",
       "3                0.3620  non reputable          2018        180.0  \n",
       "4                0.3250  non reputable          2021        263.0  \n",
       "\n",
       "[5 rows x 21 columns]"
      ]
     },
     "execution_count": 1858,
     "metadata": {},
     "output_type": "execute_result"
    }
   ],
   "source": [
    "df.head(5)"
   ]
  },
  {
   "cell_type": "code",
   "execution_count": 1849,
   "metadata": {},
   "outputs": [
    {
     "name": "stdout",
     "output_type": "stream",
     "text": [
      "<class 'pandas.core.frame.DataFrame'>\n",
      "RangeIndex: 83 entries, 0 to 82\n",
      "Data columns (total 19 columns):\n",
      " #   Column                Non-Null Count  Dtype  \n",
      "---  ------                --------------  -----  \n",
      " 0   Unnamed: 0            83 non-null     int64  \n",
      " 1   video_id              83 non-null     object \n",
      " 2   channelTitle          83 non-null     object \n",
      " 3   title                 83 non-null     object \n",
      " 4   description           83 non-null     object \n",
      " 5   tags                  78 non-null     object \n",
      " 6   publishedAt           83 non-null     object \n",
      " 7   viewCount             83 non-null     int64  \n",
      " 8   likeCount             83 non-null     int64  \n",
      " 9   favouriteCount        0 non-null      float64\n",
      " 10  commentCount          83 non-null     int64  \n",
      " 11  duration              83 non-null     object \n",
      " 12  definition            83 non-null     object \n",
      " 13  caption               83 non-null     bool   \n",
      " 14  subscribers           83 non-null     int64  \n",
      " 15  totalViews            83 non-null     int64  \n",
      " 16  totalVideos           83 non-null     int64  \n",
      " 17  total polarity score  83 non-null     float64\n",
      " 18  Label                 83 non-null     object \n",
      "dtypes: bool(1), float64(2), int64(7), object(9)\n",
      "memory usage: 11.9+ KB\n"
     ]
    }
   ],
   "source": [
    "df.info()"
   ]
  },
  {
   "cell_type": "markdown",
   "metadata": {},
   "source": [
    "# Data preprocessing "
   ]
  },
  {
   "cell_type": "markdown",
   "metadata": {},
   "source": [
    "Checking duplicates"
   ]
  },
  {
   "cell_type": "code",
   "execution_count": 1850,
   "metadata": {},
   "outputs": [
    {
     "data": {
      "text/plain": [
       "0"
      ]
     },
     "execution_count": 1850,
     "metadata": {},
     "output_type": "execute_result"
    }
   ],
   "source": [
    "df.duplicated().sum()\n"
   ]
  },
  {
   "cell_type": "code",
   "execution_count": 1851,
   "metadata": {},
   "outputs": [
    {
     "data": {
      "text/plain": [
       "(83, 19)"
      ]
     },
     "execution_count": 1851,
     "metadata": {},
     "output_type": "execute_result"
    }
   ],
   "source": [
    "df = df.drop_duplicates()\n",
    "df.shape"
   ]
  },
  {
   "cell_type": "markdown",
   "metadata": {},
   "source": [
    "Checking null values"
   ]
  },
  {
   "cell_type": "code",
   "execution_count": 1860,
   "metadata": {},
   "outputs": [
    {
     "data": {
      "text/plain": [
       "Unnamed: 0               0\n",
       "video_id                 0\n",
       "channelTitle             0\n",
       "title                    0\n",
       "description              0\n",
       "tags                     5\n",
       "publishedAt              0\n",
       "viewCount                0\n",
       "likeCount                0\n",
       "favouriteCount          83\n",
       "commentCount             0\n",
       "duration                 0\n",
       "definition               0\n",
       "caption                  0\n",
       "subscribers              0\n",
       "totalViews               0\n",
       "totalVideos              0\n",
       "total polarity score     0\n",
       "Label                    0\n",
       "pushblishYear            0\n",
       "durationSecs             0\n",
       "dtype: int64"
      ]
     },
     "execution_count": 1860,
     "metadata": {},
     "output_type": "execute_result"
    }
   ],
   "source": [
    "df.isnull().sum()"
   ]
  },
  {
   "cell_type": "markdown",
   "metadata": {},
   "source": [
    "Convert count columns to numeric"
   ]
  },
  {
   "cell_type": "code",
   "execution_count": 1853,
   "metadata": {},
   "outputs": [],
   "source": [
    "numeric_cols = ['viewCount', 'likeCount', 'favouriteCount', 'commentCount']\n",
    "df[numeric_cols] = df[numeric_cols].apply(pd.to_numeric, errors = 'coerce', axis = 1)"
   ]
  },
  {
   "cell_type": "markdown",
   "metadata": {},
   "source": [
    "Convert publish date to year"
   ]
  },
  {
   "cell_type": "code",
   "execution_count": 1854,
   "metadata": {},
   "outputs": [],
   "source": [
    "df['publishedAt'] = df['publishedAt'].apply(lambda x: parser.parse(x)) \n",
    "df['pushblishYear'] = df['publishedAt'].apply(lambda x: x.strftime(\"%Y\")) "
   ]
  },
  {
   "cell_type": "markdown",
   "metadata": {},
   "source": [
    "Convert duration to seconds"
   ]
  },
  {
   "cell_type": "code",
   "execution_count": 1855,
   "metadata": {},
   "outputs": [],
   "source": [
    "import isodate\n",
    "df['durationSecs'] = df['duration'].apply(lambda x: isodate.parse_duration(x))\n",
    "df['durationSecs'] = df['durationSecs'].astype('timedelta64[s]')"
   ]
  },
  {
   "cell_type": "markdown",
   "metadata": {},
   "source": [
    "Add tag count"
   ]
  },
  {
   "cell_type": "code",
   "execution_count": 1856,
   "metadata": {},
   "outputs": [],
   "source": [
    "# df['tagCount'] = df['tags'].apply(lambda x: 0 if x is None else len(x))"
   ]
  },
  {
   "cell_type": "markdown",
   "metadata": {},
   "source": [
    "Dropping columns we wont use"
   ]
  },
  {
   "cell_type": "code",
   "execution_count": 1862,
   "metadata": {},
   "outputs": [
    {
     "data": {
      "text/html": [
       "<div>\n",
       "<style scoped>\n",
       "    .dataframe tbody tr th:only-of-type {\n",
       "        vertical-align: middle;\n",
       "    }\n",
       "\n",
       "    .dataframe tbody tr th {\n",
       "        vertical-align: top;\n",
       "    }\n",
       "\n",
       "    .dataframe thead th {\n",
       "        text-align: right;\n",
       "    }\n",
       "</style>\n",
       "<table border=\"1\" class=\"dataframe\">\n",
       "  <thead>\n",
       "    <tr style=\"text-align: right;\">\n",
       "      <th></th>\n",
       "      <th>video_id</th>\n",
       "      <th>channelTitle</th>\n",
       "      <th>title</th>\n",
       "      <th>description</th>\n",
       "      <th>tags</th>\n",
       "      <th>viewCount</th>\n",
       "      <th>likeCount</th>\n",
       "      <th>commentCount</th>\n",
       "      <th>definition</th>\n",
       "      <th>caption</th>\n",
       "      <th>subscribers</th>\n",
       "      <th>totalViews</th>\n",
       "      <th>totalVideos</th>\n",
       "      <th>total polarity score</th>\n",
       "      <th>Label</th>\n",
       "      <th>pushblishYear</th>\n",
       "      <th>durationSecs</th>\n",
       "    </tr>\n",
       "  </thead>\n",
       "  <tbody>\n",
       "    <tr>\n",
       "      <th>0</th>\n",
       "      <td>-SejlHOXexc</td>\n",
       "      <td>Tech Tutorial</td>\n",
       "      <td>How to download facebook stories in your phone</td>\n",
       "      <td>Hey friends today we have another great topic ...</td>\n",
       "      <td>['facebook stories in your phone', 'download f...</td>\n",
       "      <td>967622.0</td>\n",
       "      <td>11100.0</td>\n",
       "      <td>338.0</td>\n",
       "      <td>hd</td>\n",
       "      <td>False</td>\n",
       "      <td>140000</td>\n",
       "      <td>8634729</td>\n",
       "      <td>161</td>\n",
       "      <td>0.0082</td>\n",
       "      <td>non reputable</td>\n",
       "      <td>2019</td>\n",
       "      <td>235.0</td>\n",
       "    </tr>\n",
       "    <tr>\n",
       "      <th>1</th>\n",
       "      <td>set4Kr8hX0w</td>\n",
       "      <td>Tech Tutorial</td>\n",
       "      <td>How to check whatsapp lastseen if hidden or bl...</td>\n",
       "      <td>Hello  friends welcome to my channel Our today...</td>\n",
       "      <td>['How to check whatsapp lastseen if hidden or ...</td>\n",
       "      <td>1477032.0</td>\n",
       "      <td>11922.0</td>\n",
       "      <td>861.0</td>\n",
       "      <td>hd</td>\n",
       "      <td>False</td>\n",
       "      <td>140000</td>\n",
       "      <td>8634729</td>\n",
       "      <td>161</td>\n",
       "      <td>0.1820</td>\n",
       "      <td>non reputable</td>\n",
       "      <td>2018</td>\n",
       "      <td>284.0</td>\n",
       "    </tr>\n",
       "  </tbody>\n",
       "</table>\n",
       "</div>"
      ],
      "text/plain": [
       "      video_id   channelTitle  \\\n",
       "0  -SejlHOXexc  Tech Tutorial   \n",
       "1  set4Kr8hX0w  Tech Tutorial   \n",
       "\n",
       "                                               title  \\\n",
       "0     How to download facebook stories in your phone   \n",
       "1  How to check whatsapp lastseen if hidden or bl...   \n",
       "\n",
       "                                         description  \\\n",
       "0  Hey friends today we have another great topic ...   \n",
       "1  Hello  friends welcome to my channel Our today...   \n",
       "\n",
       "                                                tags  viewCount  likeCount  \\\n",
       "0  ['facebook stories in your phone', 'download f...   967622.0    11100.0   \n",
       "1  ['How to check whatsapp lastseen if hidden or ...  1477032.0    11922.0   \n",
       "\n",
       "   commentCount definition  caption  subscribers  totalViews  totalVideos  \\\n",
       "0         338.0         hd    False       140000     8634729          161   \n",
       "1         861.0         hd    False       140000     8634729          161   \n",
       "\n",
       "   total polarity score          Label pushblishYear  durationSecs  \n",
       "0                0.0082  non reputable          2019         235.0  \n",
       "1                0.1820  non reputable          2018         284.0  "
      ]
     },
     "execution_count": 1862,
     "metadata": {},
     "output_type": "execute_result"
    }
   ],
   "source": [
    "df = df.drop(['Unnamed: 0', 'publishedAt', 'duration', 'favouriteCount'], axis=1)\n"
   ]
  },
  {
   "cell_type": "markdown",
   "metadata": {},
   "source": [
    "# EDA"
   ]
  },
  {
   "cell_type": "markdown",
   "metadata": {},
   "source": [
    "### Label distribution "
   ]
  },
  {
   "cell_type": "code",
   "execution_count": 1867,
   "metadata": {},
   "outputs": [
    {
     "data": {
      "text/plain": [
       "reputable        63\n",
       "non reputable    20\n",
       "Name: Label, dtype: int64"
      ]
     },
     "execution_count": 1867,
     "metadata": {},
     "output_type": "execute_result"
    },
    {
     "data": {
      "image/png": "[encoded data removed]",
      "text/plain": [
       "<Figure size 360x360 with 1 Axes>"
      ]
     },
     "metadata": {
      "needs_background": "light"
     },
     "output_type": "display_data"
    }
   ],
   "source": [
    "sns.displot(df, x=\"Label\")\n",
    "df[\"Label\"].value_counts()"
   ]
  },
  {
   "cell_type": "markdown",
   "metadata": {},
   "source": [
    "Our data is unbalanced so we might need oversampling"
   ]
  },
  {
   "cell_type": "code",
   "execution_count": 1872,
   "metadata": {},
   "outputs": [
    {
     "data": {
      "text/plain": [
       "<AxesSubplot:xlabel='total polarity score', ylabel='likeCount'>"
      ]
     },
     "execution_count": 1872,
     "metadata": {},
     "output_type": "execute_result"
    },
    {
     "data": {
      "image/png": "[encoded data removed]",
      "text/plain": [
       "<Figure size 432x288 with 1 Axes>"
      ]
     },
     "metadata": {
      "needs_background": "light"
     },
     "output_type": "display_data"
    }
   ],
   "source": [
    "sns.scatterplot(x=\"total polarity score\", y=\"likeCount\", hue=\"Label\", data = df)"
   ]
  }
 ],
 "metadata": {
  "kernelspec": {
   "display_name": "Python 3.10.0 64-bit",
   "language": "python",
   "name": "python3"
  },
  "language_info": {
   "codemirror_mode": {
    "name": "ipython",
    "version": 3
   },
   "file_extension": ".py",
   "mimetype": "text/x-python",
   "name": "python",
   "nbconvert_exporter": "python",
   "pygments_lexer": "ipython3",
   "version": "3.10.0"
  },
  "orig_nbformat": 4,
  "vscode": {
   "interpreter": {
    "hash": "369f2c481f4da34e4445cda3fffd2e751bd1c4d706f27375911949ba6bb62e1c"
   }
  }
 },
 "nbformat": 4,
 "nbformat_minor": 2
}
