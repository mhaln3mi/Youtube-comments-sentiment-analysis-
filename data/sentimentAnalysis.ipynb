{
 "cells": [
  {
   "cell_type": "code",
   "execution_count": 1769,
   "metadata": {},
   "outputs": [],
   "source": [
    "import pandas as pd\n",
    "import seaborn\n",
    "import numpy as np"
   ]
  },
  {
   "cell_type": "markdown",
   "metadata": {},
   "source": [
    "### Importing Data"
   ]
  },
  {
   "cell_type": "code",
   "execution_count": 1770,
   "metadata": {},
   "outputs": [],
   "source": [
    "df = pd.read_csv(r'C:\\Users\\wled3\\ytdf17.csv')"
   ]
  },
  {
   "cell_type": "code",
   "execution_count": 1771,
   "metadata": {},
   "outputs": [
    {
     "name": "stdout",
     "output_type": "stream",
     "text": [
      "<class 'pandas.core.frame.DataFrame'>\n",
      "RangeIndex: 87 entries, 0 to 86\n",
      "Data columns (total 5 columns):\n",
      " #   Column       Non-Null Count  Dtype \n",
      "---  ------       --------------  ----- \n",
      " 0   Name         87 non-null     object\n",
      " 1   Comments     87 non-null     object\n",
      " 2   Time         87 non-null     object\n",
      " 3   Likes        87 non-null     int64 \n",
      " 4   Reply Count  87 non-null     int64 \n",
      "dtypes: int64(2), object(3)\n",
      "memory usage: 3.5+ KB\n"
     ]
    }
   ],
   "source": [
    "df.info()"
   ]
  },
  {
   "cell_type": "markdown",
   "metadata": {},
   "source": [
    "### Data preprocessing "
   ]
  },
  {
   "cell_type": "markdown",
   "metadata": {},
   "source": [
    "Checking duplicates"
   ]
  },
  {
   "cell_type": "code",
   "execution_count": 1772,
   "metadata": {},
   "outputs": [
    {
     "data": {
      "text/plain": [
       "0"
      ]
     },
     "execution_count": 1772,
     "metadata": {},
     "output_type": "execute_result"
    }
   ],
   "source": [
    "df.duplicated().sum()\n"
   ]
  },
  {
   "cell_type": "code",
   "execution_count": 1773,
   "metadata": {},
   "outputs": [
    {
     "data": {
      "text/html": [
       "<div>\n",
       "<style scoped>\n",
       "    .dataframe tbody tr th:only-of-type {\n",
       "        vertical-align: middle;\n",
       "    }\n",
       "\n",
       "    .dataframe tbody tr th {\n",
       "        vertical-align: top;\n",
       "    }\n",
       "\n",
       "    .dataframe thead th {\n",
       "        text-align: right;\n",
       "    }\n",
       "</style>\n",
       "<table border=\"1\" class=\"dataframe\">\n",
       "  <thead>\n",
       "    <tr style=\"text-align: right;\">\n",
       "      <th></th>\n",
       "      <th>Name</th>\n",
       "      <th>Comments</th>\n",
       "      <th>Time</th>\n",
       "      <th>Likes</th>\n",
       "      <th>Reply Count</th>\n",
       "    </tr>\n",
       "  </thead>\n",
       "  <tbody>\n",
       "    <tr>\n",
       "      <th>0</th>\n",
       "      <td>Gba Gba</td>\n",
       "      <td>macho la gente dejo de aprender esto? el comen...</td>\n",
       "      <td>2022-04-17T08:50:16Z</td>\n",
       "      <td>0</td>\n",
       "      <td>0</td>\n",
       "    </tr>\n",
       "    <tr>\n",
       "      <th>1</th>\n",
       "      <td>Mantis_repair_man</td>\n",
       "      <td>When I map, NaN values come for some reason, h...</td>\n",
       "      <td>2022-04-04T11:24:24Z</td>\n",
       "      <td>0</td>\n",
       "      <td>0</td>\n",
       "    </tr>\n",
       "    <tr>\n",
       "      <th>2</th>\n",
       "      <td>Viet Anh Le</td>\n",
       "      <td>Ultra helpful tutorial for beginner</td>\n",
       "      <td>2021-09-29T18:25:25Z</td>\n",
       "      <td>0</td>\n",
       "      <td>0</td>\n",
       "    </tr>\n",
       "    <tr>\n",
       "      <th>3</th>\n",
       "      <td>Manga art</td>\n",
       "      <td>Thanks for the series sentdex! I learned a lot!</td>\n",
       "      <td>2021-04-30T22:42:39Z</td>\n",
       "      <td>0</td>\n",
       "      <td>0</td>\n",
       "    </tr>\n",
       "    <tr>\n",
       "      <th>4</th>\n",
       "      <td>Dewawis</td>\n",
       "      <td>only [[\"1K\"]] likes???</td>\n",
       "      <td>2021-02-04T04:04:38Z</td>\n",
       "      <td>0</td>\n",
       "      <td>0</td>\n",
       "    </tr>\n",
       "    <tr>\n",
       "      <th>...</th>\n",
       "      <td>...</td>\n",
       "      <td>...</td>\n",
       "      <td>...</td>\n",
       "      <td>...</td>\n",
       "      <td>...</td>\n",
       "    </tr>\n",
       "    <tr>\n",
       "      <th>82</th>\n",
       "      <td>Alenkruth Murali</td>\n",
       "      <td>You. Are. The. Best.</td>\n",
       "      <td>2019-03-04T15:26:40Z</td>\n",
       "      <td>0</td>\n",
       "      <td>0</td>\n",
       "    </tr>\n",
       "    <tr>\n",
       "      <th>83</th>\n",
       "      <td>Shresth Rana</td>\n",
       "      <td>really love what you're doing.\\nFinished your ...</td>\n",
       "      <td>2019-03-04T15:15:59Z</td>\n",
       "      <td>1</td>\n",
       "      <td>1</td>\n",
       "    </tr>\n",
       "    <tr>\n",
       "      <th>84</th>\n",
       "      <td>jaythizzle1969</td>\n",
       "      <td>What’s the best, most cost effective way of fi...</td>\n",
       "      <td>2019-03-04T15:15:48Z</td>\n",
       "      <td>0</td>\n",
       "      <td>2</td>\n",
       "    </tr>\n",
       "    <tr>\n",
       "      <th>85</th>\n",
       "      <td>hackingatubuntu</td>\n",
       "      <td>First comment,\\nPlz make a traffic generator bot</td>\n",
       "      <td>2019-03-04T15:09:27Z</td>\n",
       "      <td>2</td>\n",
       "      <td>5</td>\n",
       "    </tr>\n",
       "    <tr>\n",
       "      <th>86</th>\n",
       "      <td>cxm max</td>\n",
       "      <td>love it</td>\n",
       "      <td>2019-03-04T15:09:24Z</td>\n",
       "      <td>1</td>\n",
       "      <td>0</td>\n",
       "    </tr>\n",
       "  </tbody>\n",
       "</table>\n",
       "<p>87 rows × 5 columns</p>\n",
       "</div>"
      ],
      "text/plain": [
       "                 Name                                           Comments  \\\n",
       "0             Gba Gba  macho la gente dejo de aprender esto? el comen...   \n",
       "1   Mantis_repair_man  When I map, NaN values come for some reason, h...   \n",
       "2         Viet Anh Le                Ultra helpful tutorial for beginner   \n",
       "3           Manga art    Thanks for the series sentdex! I learned a lot!   \n",
       "4             Dewawis                             only [[\"1K\"]] likes???   \n",
       "..                ...                                                ...   \n",
       "82   Alenkruth Murali                               You. Are. The. Best.   \n",
       "83       Shresth Rana  really love what you're doing.\\nFinished your ...   \n",
       "84     jaythizzle1969  What’s the best, most cost effective way of fi...   \n",
       "85    hackingatubuntu   First comment,\\nPlz make a traffic generator bot   \n",
       "86            cxm max                                            love it   \n",
       "\n",
       "                    Time  Likes  Reply Count  \n",
       "0   2022-04-17T08:50:16Z      0            0  \n",
       "1   2022-04-04T11:24:24Z      0            0  \n",
       "2   2021-09-29T18:25:25Z      0            0  \n",
       "3   2021-04-30T22:42:39Z      0            0  \n",
       "4   2021-02-04T04:04:38Z      0            0  \n",
       "..                   ...    ...          ...  \n",
       "82  2019-03-04T15:26:40Z      0            0  \n",
       "83  2019-03-04T15:15:59Z      1            1  \n",
       "84  2019-03-04T15:15:48Z      0            2  \n",
       "85  2019-03-04T15:09:27Z      2            5  \n",
       "86  2019-03-04T15:09:24Z      1            0  \n",
       "\n",
       "[87 rows x 5 columns]"
      ]
     },
     "execution_count": 1773,
     "metadata": {},
     "output_type": "execute_result"
    }
   ],
   "source": [
    "df.dropna()"
   ]
  },
  {
   "cell_type": "code",
   "execution_count": 1774,
   "metadata": {},
   "outputs": [
    {
     "data": {
      "text/plain": [
       "(87, 5)"
      ]
     },
     "execution_count": 1774,
     "metadata": {},
     "output_type": "execute_result"
    }
   ],
   "source": [
    "df = df.drop_duplicates()\n",
    "df.shape"
   ]
  },
  {
   "cell_type": "markdown",
   "metadata": {},
   "source": [
    "Remove emojis and special characters"
   ]
  },
  {
   "cell_type": "code",
   "execution_count": 1775,
   "metadata": {},
   "outputs": [],
   "source": [
    "import re\n",
    "def cleaning_comments(comment):\n",
    "  comment = re.sub(\"[😃|🤣|🤭|🤣|😁|🤭|❤️|👍|🏴|😣|😠|💪|🙏|😞|🌺|🌸|🌞|🌻|💐|💓|😥|💔|😪|😑|🏽|😢|😑|😇|💜|🪴|🙌🏻|🇨🇦|🕊|🕯|😭|😔|💙|🏼|✝|🇿]+\",'',str(comment))\n",
    "  comment = re.sub(\"[\\:|\\@|\\)|\\*|\\.|\\$|\\!|\\?|\\,|\\%|\\\"|\\(|\\-|\\”|\\#|\\!|\\/|\\«|\\»|\\&|\\n|\\'|\\;|\\!|<|>|\\'|\\’|\\\\\\\\]+\",\" \",str(comment))\n",
    "  return comment\n",
    "\n",
    "df['Comments'] = df['Comments'].apply(cleaning_comments)"
   ]
  },
  {
   "cell_type": "markdown",
   "metadata": {},
   "source": [
    "Convert to lower case"
   ]
  },
  {
   "cell_type": "code",
   "execution_count": 1776,
   "metadata": {},
   "outputs": [],
   "source": [
    "lower = lambda x: x.lower()\n",
    "df['Comments'] = df['Comments'].apply(lower)"
   ]
  },
  {
   "cell_type": "markdown",
   "metadata": {},
   "source": [
    "Get the polarity with the stopwords"
   ]
  },
  {
   "cell_type": "code",
   "execution_count": 1777,
   "metadata": {},
   "outputs": [
    {
     "name": "stderr",
     "output_type": "stream",
     "text": [
      "[nltk_data] Downloading package vader_lexicon to\n",
      "[nltk_data]     C:\\Users\\wled3\\AppData\\Roaming\\nltk_data...\n",
      "[nltk_data]   Package vader_lexicon is already up-to-date!\n"
     ]
    }
   ],
   "source": [
    "import nltk\n",
    "from nltk.sentiment.vader import SentimentIntensityAnalyzer\n",
    "nltk.download('vader_lexicon')\n",
    "sid = SentimentIntensityAnalyzer()\n",
    "\n",
    "#Create scores col\n",
    "df['Scores'] = df['Comments'].apply(lambda x: sid.polarity_scores(x))\n",
    "\n",
    "#Create compund score\n",
    "df['Compound'] = df['Scores'].apply(lambda score_dict: score_dict['compound'])\n",
    "\n",
    "#label based on score\n",
    "df['Polarity'] = df['Compound'].apply(lambda c: 'neutral' if -0.05 < c < 0.05 else ('negative' if c < -0.05 else 'positive'))"
   ]
  },
  {
   "cell_type": "markdown",
   "metadata": {},
   "source": [
    "Get the polarity without the stopwords"
   ]
  },
  {
   "cell_type": "code",
   "execution_count": 1778,
   "metadata": {},
   "outputs": [
    {
     "name": "stderr",
     "output_type": "stream",
     "text": [
      "[nltk_data] Downloading package stopwords to\n",
      "[nltk_data]     C:\\Users\\wled3\\AppData\\Roaming\\nltk_data...\n",
      "[nltk_data]   Package stopwords is already up-to-date!\n"
     ]
    }
   ],
   "source": [
    "from nltk.corpus import stopwords\n",
    "from nltk.tokenize import word_tokenize\n",
    "nltk.download('stopwords')\n",
    "\n",
    "stop = stopwords.words('english')\n",
    "\n",
    "#Create comments without stopwords col\n",
    "df['comments wo stopwords'] = df['Comments'].apply(lambda x: ' '.join([word for word in x.split() if word not in (stop)]))"
   ]
  },
  {
   "cell_type": "code",
   "execution_count": 1779,
   "metadata": {},
   "outputs": [
    {
     "data": {
      "text/plain": [
       "0.40383103448275853"
      ]
     },
     "execution_count": 1779,
     "metadata": {},
     "output_type": "execute_result"
    }
   ],
   "source": [
    "g = df['Compound'].sum()\n",
    "d = df['Compound'].count()\n",
    "\n",
    "total_score = g / d\n",
    "total_score"
   ]
  },
  {
   "cell_type": "markdown",
   "metadata": {},
   "source": [
    "Add scores and polarity col without stopwords"
   ]
  },
  {
   "cell_type": "code",
   "execution_count": 1780,
   "metadata": {},
   "outputs": [
    {
     "name": "stderr",
     "output_type": "stream",
     "text": [
      "[nltk_data] Downloading package vader_lexicon to\n",
      "[nltk_data]     C:\\Users\\wled3\\AppData\\Roaming\\nltk_data...\n",
      "[nltk_data]   Package vader_lexicon is already up-to-date!\n"
     ]
    }
   ],
   "source": [
    "import nltk\n",
    "from nltk.sentiment.vader import SentimentIntensityAnalyzer\n",
    "nltk.download('vader_lexicon')\n",
    "sid = SentimentIntensityAnalyzer()\n",
    "\n",
    "df['Scores wo stopwords'] = df['comments wo stopwords'].apply(lambda x: sid.polarity_scores(x))\n",
    "\n",
    "df['compound wo stopwords'] = df['Scores wo stopwords'].apply(lambda score_dict: score_dict['compound'])\n",
    "\n",
    "df['polarity wo stopwords'] = df['compound wo stopwords'].apply(lambda c: 'neutral' if -0.05 < c < 0.05 else ('negative' if c < -0.05 else 'positive'))"
   ]
  },
  {
   "cell_type": "code",
   "execution_count": 1781,
   "metadata": {},
   "outputs": [
    {
     "data": {
      "text/plain": [
       "0.4259264367816091"
      ]
     },
     "execution_count": 1781,
     "metadata": {},
     "output_type": "execute_result"
    }
   ],
   "source": [
    "x = df['compound wo stopwords'].sum()\n",
    "z = df['compound wo stopwords'].count()\n",
    "\n",
    "total_score2 = x / z\n",
    "total_score2"
   ]
  },
  {
   "cell_type": "code",
   "execution_count": 1782,
   "metadata": {},
   "outputs": [],
   "source": [
    "df[\"Length\"] = df[\"Comments\"].str.len()"
   ]
  },
  {
   "cell_type": "markdown",
   "metadata": {},
   "source": [
    "Compare the polarity ratio with stopwords and without them"
   ]
  },
  {
   "cell_type": "code",
   "execution_count": 1783,
   "metadata": {},
   "outputs": [
    {
     "data": {
      "text/plain": [
       "positive    64\n",
       "neutral     15\n",
       "negative     8\n",
       "Name: Polarity, dtype: int64"
      ]
     },
     "execution_count": 1783,
     "metadata": {},
     "output_type": "execute_result"
    }
   ],
   "source": [
    "df['Polarity'].value_counts()"
   ]
  },
  {
   "cell_type": "code",
   "execution_count": 1784,
   "metadata": {},
   "outputs": [
    {
     "data": {
      "text/plain": [
       "positive    67\n",
       "neutral     14\n",
       "negative     6\n",
       "Name: polarity wo stopwords, dtype: int64"
      ]
     },
     "execution_count": 1784,
     "metadata": {},
     "output_type": "execute_result"
    }
   ],
   "source": [
    "df['polarity wo stopwords'].value_counts()"
   ]
  },
  {
   "cell_type": "markdown",
   "metadata": {},
   "source": [
    "Checking the negative comments"
   ]
  },
  {
   "cell_type": "code",
   "execution_count": 1785,
   "metadata": {},
   "outputs": [
    {
     "data": {
      "text/html": [
       "<div>\n",
       "<style scoped>\n",
       "    .dataframe tbody tr th:only-of-type {\n",
       "        vertical-align: middle;\n",
       "    }\n",
       "\n",
       "    .dataframe tbody tr th {\n",
       "        vertical-align: top;\n",
       "    }\n",
       "\n",
       "    .dataframe thead th {\n",
       "        text-align: right;\n",
       "    }\n",
       "</style>\n",
       "<table border=\"1\" class=\"dataframe\">\n",
       "  <thead>\n",
       "    <tr style=\"text-align: right;\">\n",
       "      <th></th>\n",
       "      <th>Name</th>\n",
       "      <th>Comments</th>\n",
       "      <th>Time</th>\n",
       "      <th>Likes</th>\n",
       "      <th>Reply Count</th>\n",
       "      <th>Scores</th>\n",
       "      <th>Compound</th>\n",
       "      <th>Polarity</th>\n",
       "      <th>comments wo stopwords</th>\n",
       "      <th>Scores wo stopwords</th>\n",
       "      <th>compound wo stopwords</th>\n",
       "      <th>polarity wo stopwords</th>\n",
       "      <th>Length</th>\n",
       "    </tr>\n",
       "  </thead>\n",
       "  <tbody>\n",
       "    <tr>\n",
       "      <th>22</th>\n",
       "      <td>bbuggediffy</td>\n",
       "      <td>i needed to add  df = df reset_index  here in ...</td>\n",
       "      <td>2020-04-10T11:14:39Z</td>\n",
       "      <td>0</td>\n",
       "      <td>0</td>\n",
       "      <td>{'neg': 0.072, 'neu': 0.928, 'pos': 0.0, 'comp...</td>\n",
       "      <td>-0.3412</td>\n",
       "      <td>negative</td>\n",
       "      <td>needed add df = df reset_index order index col...</td>\n",
       "      <td>{'neg': 0.0, 'neu': 0.828, 'pos': 0.172, 'comp...</td>\n",
       "      <td>0.4404</td>\n",
       "      <td>positive</td>\n",
       "      <td>182</td>\n",
       "    </tr>\n",
       "    <tr>\n",
       "      <th>24</th>\n",
       "      <td>Candie Mann</td>\n",
       "      <td>i got this error at 22 30 valueerror  found ar...</td>\n",
       "      <td>2020-03-09T20:53:51Z</td>\n",
       "      <td>0</td>\n",
       "      <td>1</td>\n",
       "      <td>{'neg': 0.153, 'neu': 0.847, 'pos': 0.0, 'comp...</td>\n",
       "      <td>-0.4019</td>\n",
       "      <td>negative</td>\n",
       "      <td>got error 22 30 valueerror found array dim 3 e...</td>\n",
       "      <td>{'neg': 0.197, 'neu': 0.803, 'pos': 0.0, 'comp...</td>\n",
       "      <td>-0.4019</td>\n",
       "      <td>negative</td>\n",
       "      <td>105</td>\n",
       "    </tr>\n",
       "    <tr>\n",
       "      <th>31</th>\n",
       "      <td>Jermaine Haughton</td>\n",
       "      <td>i ran this and used apple stock open high low ...</td>\n",
       "      <td>2019-08-07T05:05:28Z</td>\n",
       "      <td>0</td>\n",
       "      <td>0</td>\n",
       "      <td>{'neg': 0.119, 'neu': 0.848, 'pos': 0.033, 'co...</td>\n",
       "      <td>-0.5798</td>\n",
       "      <td>negative</td>\n",
       "      <td>ran used apple stock open high low close diffe...</td>\n",
       "      <td>{'neg': 0.164, 'neu': 0.79, 'pos': 0.046, 'com...</td>\n",
       "      <td>-0.5798</td>\n",
       "      <td>negative</td>\n",
       "      <td>250</td>\n",
       "    </tr>\n",
       "    <tr>\n",
       "      <th>45</th>\n",
       "      <td>i3i2ian</td>\n",
       "      <td>did that bad ass just bust out the people s el...</td>\n",
       "      <td>2019-03-11T10:35:13Z</td>\n",
       "      <td>0</td>\n",
       "      <td>0</td>\n",
       "      <td>{'neg': 0.25, 'neu': 0.571, 'pos': 0.179, 'com...</td>\n",
       "      <td>-0.2500</td>\n",
       "      <td>negative</td>\n",
       "      <td>bad ass bust people elbow</td>\n",
       "      <td>{'neg': 0.7, 'neu': 0.3, 'pos': 0.0, 'compound...</td>\n",
       "      <td>-0.7906</td>\n",
       "      <td>negative</td>\n",
       "      <td>50</td>\n",
       "    </tr>\n",
       "    <tr>\n",
       "      <th>61</th>\n",
       "      <td>Jason Shieh</td>\n",
       "      <td>follow your web and tutorials for long time an...</td>\n",
       "      <td>2019-03-05T08:07:38Z</td>\n",
       "      <td>0</td>\n",
       "      <td>0</td>\n",
       "      <td>{'neg': 0.076, 'neu': 0.879, 'pos': 0.045, 'co...</td>\n",
       "      <td>-0.2960</td>\n",
       "      <td>negative</td>\n",
       "      <td>follow web tutorials long time thank much got ...</td>\n",
       "      <td>{'neg': 0.097, 'neu': 0.798, 'pos': 0.105, 'co...</td>\n",
       "      <td>0.0516</td>\n",
       "      <td>positive</td>\n",
       "      <td>201</td>\n",
       "    </tr>\n",
       "  </tbody>\n",
       "</table>\n",
       "</div>"
      ],
      "text/plain": [
       "                 Name                                           Comments  \\\n",
       "22        bbuggediffy  i needed to add  df = df reset_index  here in ...   \n",
       "24        Candie Mann  i got this error at 22 30 valueerror  found ar...   \n",
       "31  Jermaine Haughton  i ran this and used apple stock open high low ...   \n",
       "45            i3i2ian  did that bad ass just bust out the people s el...   \n",
       "61        Jason Shieh  follow your web and tutorials for long time an...   \n",
       "\n",
       "                    Time  Likes  Reply Count  \\\n",
       "22  2020-04-10T11:14:39Z      0            0   \n",
       "24  2020-03-09T20:53:51Z      0            1   \n",
       "31  2019-08-07T05:05:28Z      0            0   \n",
       "45  2019-03-11T10:35:13Z      0            0   \n",
       "61  2019-03-05T08:07:38Z      0            0   \n",
       "\n",
       "                                               Scores  Compound  Polarity  \\\n",
       "22  {'neg': 0.072, 'neu': 0.928, 'pos': 0.0, 'comp...   -0.3412  negative   \n",
       "24  {'neg': 0.153, 'neu': 0.847, 'pos': 0.0, 'comp...   -0.4019  negative   \n",
       "31  {'neg': 0.119, 'neu': 0.848, 'pos': 0.033, 'co...   -0.5798  negative   \n",
       "45  {'neg': 0.25, 'neu': 0.571, 'pos': 0.179, 'com...   -0.2500  negative   \n",
       "61  {'neg': 0.076, 'neu': 0.879, 'pos': 0.045, 'co...   -0.2960  negative   \n",
       "\n",
       "                                comments wo stopwords  \\\n",
       "22  needed add df = df reset_index order index col...   \n",
       "24  got error 22 30 valueerror found array dim 3 e...   \n",
       "31  ran used apple stock open high low close diffe...   \n",
       "45                          bad ass bust people elbow   \n",
       "61  follow web tutorials long time thank much got ...   \n",
       "\n",
       "                                  Scores wo stopwords  compound wo stopwords  \\\n",
       "22  {'neg': 0.0, 'neu': 0.828, 'pos': 0.172, 'comp...                 0.4404   \n",
       "24  {'neg': 0.197, 'neu': 0.803, 'pos': 0.0, 'comp...                -0.4019   \n",
       "31  {'neg': 0.164, 'neu': 0.79, 'pos': 0.046, 'com...                -0.5798   \n",
       "45  {'neg': 0.7, 'neu': 0.3, 'pos': 0.0, 'compound...                -0.7906   \n",
       "61  {'neg': 0.097, 'neu': 0.798, 'pos': 0.105, 'co...                 0.0516   \n",
       "\n",
       "   polarity wo stopwords  Length  \n",
       "22              positive     182  \n",
       "24              negative     105  \n",
       "31              negative     250  \n",
       "45              negative      50  \n",
       "61              positive     201  "
      ]
     },
     "execution_count": 1785,
     "metadata": {},
     "output_type": "execute_result"
    }
   ],
   "source": [
    "neg = df[df[\"Polarity\"] == \"negative\"]\n",
    "\n",
    "neg.head()"
   ]
  },
  {
   "cell_type": "markdown",
   "metadata": {},
   "source": [
    "#### Investigating the relationship between comment length and polarity"
   ]
  },
  {
   "cell_type": "code",
   "execution_count": 1786,
   "metadata": {},
   "outputs": [
    {
     "data": {
      "text/plain": [
       "Polarity\n",
       "negative    135.875000\n",
       "neutral      89.466667\n",
       "positive    125.968750\n",
       "Name: Length, dtype: float64"
      ]
     },
     "execution_count": 1786,
     "metadata": {},
     "output_type": "execute_result"
    }
   ],
   "source": [
    "a = df.groupby(\"Polarity\")\n",
    "a[\"Length\"].mean()"
   ]
  },
  {
   "cell_type": "markdown",
   "metadata": {},
   "source": [
    "It seems that negative comments tends to be longer"
   ]
  },
  {
   "cell_type": "code",
   "execution_count": 1787,
   "metadata": {},
   "outputs": [
    {
     "data": {
      "image/png": "[encoded data removed]",
      "text/plain": [
       "<Figure size 432x288 with 1 Axes>"
      ]
     },
     "metadata": {
      "needs_background": "light"
     },
     "output_type": "display_data"
    }
   ],
   "source": [
    "from wordcloud import WordCloud\n",
    "import matplotlib.pyplot as plt\n",
    "\n",
    "comments = df[\"Comments\"].values\n",
    "b = WordCloud(background_color=\"white\").generate(str(comments))\n",
    "\n",
    "plt.imshow(b)\n",
    "plt.axis(\"off\")\n",
    "plt.show()"
   ]
  }
 ],
 "metadata": {
  "kernelspec": {
   "display_name": "Python 3.10.0 64-bit",
   "language": "python",
   "name": "python3"
  },
  "language_info": {
   "codemirror_mode": {
    "name": "ipython",
    "version": 3
   },
   "file_extension": ".py",
   "mimetype": "text/x-python",
   "name": "python",
   "nbconvert_exporter": "python",
   "pygments_lexer": "ipython3",
   "version": "3.10.0"
  },
  "orig_nbformat": 4,
  "vscode": {
   "interpreter": {
    "hash": "369f2c481f4da34e4445cda3fffd2e751bd1c4d706f27375911949ba6bb62e1c"
   }
  }
 },
 "nbformat": 4,
 "nbformat_minor": 2
}
